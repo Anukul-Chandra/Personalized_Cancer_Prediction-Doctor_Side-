{
 "cells": [
  {
   "cell_type": "code",
   "execution_count": 1,
   "id": "8679283f",
   "metadata": {},
   "outputs": [],
   "source": [
    "# !pip install pandas numpy scikit-learn matplotlib seaborn"
   ]
  },
  {
   "cell_type": "code",
   "execution_count": 2,
   "id": "9b0f410e",
   "metadata": {},
   "outputs": [],
   "source": [
    "# !pip install --upgrade numpy pandas\n"
   ]
  },
  {
   "cell_type": "code",
   "execution_count": 3,
   "id": "4e784990",
   "metadata": {},
   "outputs": [],
   "source": [
    "import pandas as pd\n",
    "import numpy as np"
   ]
  },
  {
   "cell_type": "code",
   "execution_count": 4,
   "id": "30a931ed",
   "metadata": {},
   "outputs": [
    {
     "name": "stderr",
     "output_type": "stream",
     "text": [
      "<>:3: SyntaxWarning: invalid escape sequence '\\|'\n",
      "<>:3: SyntaxWarning: invalid escape sequence '\\|'\n",
      "/var/folders/jf/21x3yjzs0ygd_0ttzq2sq0zm0000gn/T/ipykernel_61298/553985258.py:3: SyntaxWarning: invalid escape sequence '\\|'\n",
      "  sep=\"\\|\\|\",\n"
     ]
    }
   ],
   "source": [
    "train_var = pd.read_csv(\"/Users/anukulchandra/Python_with_machine_learning_ESPML_2405/Personalized_Cancer_Prediction-Doctor_Side-/training_variants\")\n",
    "train_text = pd.read_csv(\"/Users/anukulchandra/Python_with_machine_learning_ESPML_2405/Personalized_Cancer_Prediction-Doctor_Side-/training_text\",\n",
    "                          sep=\"\\|\\|\",\n",
    "                            engine=\"python\",\n",
    "                              names=[\"ID\",\"Text\"],\n",
    "                                skiprows=1)"
   ]
  },
  {
   "cell_type": "code",
   "execution_count": 5,
   "id": "044e2fe9",
   "metadata": {},
   "outputs": [
    {
     "name": "stdout",
     "output_type": "stream",
     "text": [
      "coloumns are :  Index(['ID', 'Gene', 'Variation', 'Class'], dtype='object')\n",
      "shape of the data is :  (3321, 4)\n"
     ]
    },
    {
     "data": {
      "text/html": [
       "<div>\n",
       "<style scoped>\n",
       "    .dataframe tbody tr th:only-of-type {\n",
       "        vertical-align: middle;\n",
       "    }\n",
       "\n",
       "    .dataframe tbody tr th {\n",
       "        vertical-align: top;\n",
       "    }\n",
       "\n",
       "    .dataframe thead th {\n",
       "        text-align: right;\n",
       "    }\n",
       "</style>\n",
       "<table border=\"1\" class=\"dataframe\">\n",
       "  <thead>\n",
       "    <tr style=\"text-align: right;\">\n",
       "      <th></th>\n",
       "      <th>ID</th>\n",
       "      <th>Gene</th>\n",
       "      <th>Variation</th>\n",
       "      <th>Class</th>\n",
       "    </tr>\n",
       "  </thead>\n",
       "  <tbody>\n",
       "    <tr>\n",
       "      <th>0</th>\n",
       "      <td>0</td>\n",
       "      <td>FAM58A</td>\n",
       "      <td>Truncating Mutations</td>\n",
       "      <td>1</td>\n",
       "    </tr>\n",
       "    <tr>\n",
       "      <th>1</th>\n",
       "      <td>1</td>\n",
       "      <td>CBL</td>\n",
       "      <td>W802*</td>\n",
       "      <td>2</td>\n",
       "    </tr>\n",
       "    <tr>\n",
       "      <th>2</th>\n",
       "      <td>2</td>\n",
       "      <td>CBL</td>\n",
       "      <td>Q249E</td>\n",
       "      <td>2</td>\n",
       "    </tr>\n",
       "  </tbody>\n",
       "</table>\n",
       "</div>"
      ],
      "text/plain": [
       "   ID    Gene             Variation  Class\n",
       "0   0  FAM58A  Truncating Mutations      1\n",
       "1   1     CBL                 W802*      2\n",
       "2   2     CBL                 Q249E      2"
      ]
     },
     "execution_count": 5,
     "metadata": {},
     "output_type": "execute_result"
    }
   ],
   "source": [
    "print(\"coloumns are : \",train_var.columns)\n",
    "print(\"shape of the data is : \",train_var.shape)\n",
    "\n",
    "train_var.head(3)"
   ]
  },
  {
   "cell_type": "code",
   "execution_count": 6,
   "id": "53ad6416",
   "metadata": {},
   "outputs": [
    {
     "name": "stdout",
     "output_type": "stream",
     "text": [
      "coloumns are :  Index(['ID', 'Text'], dtype='object')\n",
      "(3321, 2)\n"
     ]
    },
    {
     "data": {
      "text/html": [
       "<div>\n",
       "<style scoped>\n",
       "    .dataframe tbody tr th:only-of-type {\n",
       "        vertical-align: middle;\n",
       "    }\n",
       "\n",
       "    .dataframe tbody tr th {\n",
       "        vertical-align: top;\n",
       "    }\n",
       "\n",
       "    .dataframe thead th {\n",
       "        text-align: right;\n",
       "    }\n",
       "</style>\n",
       "<table border=\"1\" class=\"dataframe\">\n",
       "  <thead>\n",
       "    <tr style=\"text-align: right;\">\n",
       "      <th></th>\n",
       "      <th>ID</th>\n",
       "      <th>Text</th>\n",
       "    </tr>\n",
       "  </thead>\n",
       "  <tbody>\n",
       "    <tr>\n",
       "      <th>0</th>\n",
       "      <td>0</td>\n",
       "      <td>Cyclin-dependent kinases (CDKs) regulate a var...</td>\n",
       "    </tr>\n",
       "    <tr>\n",
       "      <th>1</th>\n",
       "      <td>1</td>\n",
       "      <td>Abstract Background  Non-small cell lung canc...</td>\n",
       "    </tr>\n",
       "    <tr>\n",
       "      <th>2</th>\n",
       "      <td>2</td>\n",
       "      <td>Abstract Background  Non-small cell lung canc...</td>\n",
       "    </tr>\n",
       "  </tbody>\n",
       "</table>\n",
       "</div>"
      ],
      "text/plain": [
       "   ID                                               Text\n",
       "0   0  Cyclin-dependent kinases (CDKs) regulate a var...\n",
       "1   1   Abstract Background  Non-small cell lung canc...\n",
       "2   2   Abstract Background  Non-small cell lung canc..."
      ]
     },
     "execution_count": 6,
     "metadata": {},
     "output_type": "execute_result"
    }
   ],
   "source": [
    "print(\"coloumns are : \",train_text.columns)\n",
    "print(train_text.shape)\n",
    "\n",
    "train_text.head(3)"
   ]
  },
  {
   "cell_type": "code",
   "execution_count": 7,
   "id": "cb74043a",
   "metadata": {},
   "outputs": [
    {
     "data": {
      "text/html": [
       "<div>\n",
       "<style scoped>\n",
       "    .dataframe tbody tr th:only-of-type {\n",
       "        vertical-align: middle;\n",
       "    }\n",
       "\n",
       "    .dataframe tbody tr th {\n",
       "        vertical-align: top;\n",
       "    }\n",
       "\n",
       "    .dataframe thead th {\n",
       "        text-align: right;\n",
       "    }\n",
       "</style>\n",
       "<table border=\"1\" class=\"dataframe\">\n",
       "  <thead>\n",
       "    <tr style=\"text-align: right;\">\n",
       "      <th></th>\n",
       "      <th>ID</th>\n",
       "      <th>Gene</th>\n",
       "      <th>Variation</th>\n",
       "      <th>Class</th>\n",
       "      <th>Text</th>\n",
       "    </tr>\n",
       "  </thead>\n",
       "  <tbody>\n",
       "    <tr>\n",
       "      <th>0</th>\n",
       "      <td>0</td>\n",
       "      <td>FAM58A</td>\n",
       "      <td>Truncating Mutations</td>\n",
       "      <td>1</td>\n",
       "      <td>Cyclin-dependent kinases (CDKs) regulate a var...</td>\n",
       "    </tr>\n",
       "    <tr>\n",
       "      <th>1</th>\n",
       "      <td>1</td>\n",
       "      <td>CBL</td>\n",
       "      <td>W802*</td>\n",
       "      <td>2</td>\n",
       "      <td>Abstract Background  Non-small cell lung canc...</td>\n",
       "    </tr>\n",
       "    <tr>\n",
       "      <th>2</th>\n",
       "      <td>2</td>\n",
       "      <td>CBL</td>\n",
       "      <td>Q249E</td>\n",
       "      <td>2</td>\n",
       "      <td>Abstract Background  Non-small cell lung canc...</td>\n",
       "    </tr>\n",
       "  </tbody>\n",
       "</table>\n",
       "</div>"
      ],
      "text/plain": [
       "   ID    Gene             Variation  Class  \\\n",
       "0   0  FAM58A  Truncating Mutations      1   \n",
       "1   1     CBL                 W802*      2   \n",
       "2   2     CBL                 Q249E      2   \n",
       "\n",
       "                                                Text  \n",
       "0  Cyclin-dependent kinases (CDKs) regulate a var...  \n",
       "1   Abstract Background  Non-small cell lung canc...  \n",
       "2   Abstract Background  Non-small cell lung canc...  "
      ]
     },
     "execution_count": 7,
     "metadata": {},
     "output_type": "execute_result"
    }
   ],
   "source": [
    "df = pd.merge(train_var,train_text,on=\"ID\")\n",
    "df.head(3)"
   ]
  },
  {
   "cell_type": "code",
   "execution_count": 8,
   "id": "db9dd8d9",
   "metadata": {},
   "outputs": [
    {
     "data": {
      "text/plain": [
       "\"Cyclin-dependent kinases (CDKs) regulate a variety of fundamental cellular processes. CDK10 stands out as one of the last orphan CDKs for which no activating cyclin has been identified and no kinase activity revealed. Previous work has shown that CDK10 silencing increases ETS2 (v-ets erythroblastosis virus E26 oncogene homolog 2)-driven activation of the MAPK pathway, which confers tamoxifen resistance to breast cancer cells. The precise mechanisms by which CDK10 modulates ETS2 activity, and more generally the functions of CDK10, remain elusive. Here we demonstrate that CDK10 is a cyclin-dependent kinase by identifying cyclin M as an activating cyclin. Cyclin M, an orphan cyclin, is the product of FAM58A, whose mutations cause STAR syndrome, a human developmental anomaly whose features include toe syndactyly, telecanthus, and anogenital and renal malformations. We show that STAR syndrome-associated cyclin M mutants are unable to interact with CDK10. Cyclin M silencing phenocopies CDK10 silencing in increasing c-Raf and in conferring tamoxifen resistance to breast cancer cells. CDK10/cyclin M phosphorylates ETS2 in vitro, and in cells it positively controls ETS2 degradation by the proteasome. ETS2 protein levels are increased in cells derived from a STAR patient, and this increase is attributable to decreased cyclin M levels. Altogether, our results reveal an additional regulatory mechanism for ETS2, which plays key roles in cancer and development. They also shed light on the molecular mechanisms underlying STAR syndrome.Cyclin-dependent kinases (CDKs) play a pivotal role in the control of a number of fundamental cellular processes (1). The human genome contains 21 genes encoding proteins that can be considered as members of the CDK family owing to their sequence similarity with bona fide CDKs, those known to be activated by cyclins (2). Although discovered almost 20 y ago (3, 4), CDK10 remains one of the two CDKs without an identified cyclin partner. This knowledge gap has largely impeded the exploration of its biological functions. CDK10 can act as a positive cell cycle regulator in some cells (5, 6) or as a tumor suppressor in others (7, 8). CDK10 interacts with the ETS2 (v-ets erythroblastosis virus E26 oncogene homolog 2) transcription factor and inhibits its transcriptional activity through an unknown mechanism (9). CDK10 knockdown derepresses ETS2, which increases the expression of the c-Raf protein kinase, activates the MAPK pathway, and induces resistance of MCF7 cells to tamoxifen (6).Here, we deorphanize CDK10 by identifying cyclin M, the product of FAM58A, as a binding partner. Mutations in this gene that predict absence or truncation of cyclin M are associated with STAR syndrome, whose features include toe syndactyly, telecanthus, and anogenital and renal malformations in heterozygous females (10). However, both the functions of cyclin M and the pathogenesis of STAR syndrome remain unknown. We show that a recombinant CDK10/cyclin M heterodimer is an active protein kinase that phosphorylates ETS2 in vitro. Cyclin M silencing phenocopies CDK10 silencing in increasing c-Raf and phospho-ERK expression levels and in inducing tamoxifen resistance in estrogen receptor (ER)+ breast cancer cells. We show that CDK10/cyclin M positively controls ETS2 degradation by the proteasome, through the phosphorylation of two neighboring serines. Finally, we detect an increased ETS2 expression level in cells derived from a STAR patient, and we demonstrate that it is attributable to the decreased cyclin M expression level observed in these cells.Previous SectionNext SectionResultsA yeast two-hybrid (Y2H) screen unveiled an interaction signal between CDK10 and a mouse protein whose C-terminal half presents a strong sequence homology with the human FAM58A gene product [whose proposed name is cyclin M (11)]. We thus performed Y2H mating assays to determine whether human CDK10 interacts with human cyclin M (Fig. 1 A–C). The longest CDK10 isoform (P1) expressed as a bait protein produced a strong interaction phenotype with full-length cyclin M (expressed as a prey protein) but no detectable phenotype with cyclin D1, p21 (CIP1), and Cdi1 (KAP), which are known binding partners of other CDKs (Fig. 1B). CDK1 and CDK3 also produced Y2H signals with cyclin M, albeit notably weaker than that observed with CDK10 (Fig. 1B). An interaction phenotype was also observed between full-length cyclin M and CDK10 proteins expressed as bait and prey, respectively (Fig. S1A). We then tested different isoforms of CDK10 and cyclin M originating from alternative gene splicing, and two truncated cyclin M proteins corresponding to the hypothetical products of two mutated FAM58A genes found in STAR syndrome patients (10). None of these shorter isoforms produced interaction phenotypes (Fig. 1 A and C and Fig. S1A).Fig. 1.In a new window Download PPTFig. 1.CDK10 and cyclin M form an interaction complex. (A) Schematic representation of the different protein isoforms analyzed by Y2H assays. Amino acid numbers are indicated. Black boxes indicate internal deletions. The red box indicates a differing amino acid sequence compared with CDK10 P1. (B) Y2H assay between a set of CDK proteins expressed as baits (in fusion to the LexA DNA binding domain) and CDK interacting proteins expressed as preys (in fusion to the B42 transcriptional activator). pEG202 and pJG4-5 are the empty bait and prey plasmids expressing LexA and B42, respectively. lacZ was used as a reporter gene, and blue yeast are indicative of a Y2H interaction phenotype. (C) Y2H assay between the different CDK10 and cyclin M isoforms. The amino-terminal region of ETS2, known to interact with CDK10 (9), was also assayed. (D) Western blot analysis of Myc-CDK10 (wt or kd) and CycM-V5-6His expression levels in transfected HEK293 cells. (E) Western blot analysis of Myc-CDK10 (wt or kd) immunoprecipitates obtained using the anti-Myc antibody. “Inputs” correspond to 10 μg total lysates obtained from HEK293 cells coexpressing Myc-CDK10 (wt or kd) and CycM-V5-6His. (F) Western blot analysis of immunoprecipitates obtained using the anti-CDK10 antibody or a control goat antibody, from human breast cancer MCF7 cells. “Input” corresponds to 30 μg MCF7 total cell lysates. The lower band of the doublet observed on the upper panel comigrates with the exogenously expressed untagged CDK10 and thus corresponds to endogenous CDK10. The upper band of the doublet corresponds to a nonspecific signal, as demonstrated by it insensitivity to either overexpression of CDK10 (as seen on the left lane) or silencing of CDK10 (Fig. S2B). Another experiment with a longer gel migration is shown in Fig. S1D.Next we examined the ability of CDK10 and cyclin M to interact when expressed in human cells (Fig. 1 D and E). We tested wild-type CDK10 (wt) and a kinase dead (kd) mutant bearing a D181A amino acid substitution that abolishes ATP binding (12). We expressed cyclin M-V5-6His and/or Myc-CDK10 (wt or kd) in a human embryonic kidney cell line (HEK293). The expression level of cyclin M-V5-6His was significantly increased upon coexpression with Myc-CDK10 (wt or kd) and, to a lesser extent, that of Myc-CDK10 (wt or kd) was increased upon coexpression with cyclin M-V5-6His (Fig. 1D). We then immunoprecipitated Myc-CDK10 proteins and detected the presence of cyclin M in the CDK10 (wt) and (kd) immunoprecipitates only when these proteins were coexpressed pair-wise (Fig. 1E). We confirmed these observations by detecting the presence of Myc-CDK10 in cyclin M-V5-6His immunoprecipitates (Fig. S1B). These experiments confirmed the lack of robust interaction between the CDK10.P2 isoform and cyclin M (Fig. S1C). To detect the interaction between endogenous proteins, we performed immunoprecipitations on nontransfected MCF7 cells derived from a human breast cancer. CDK10 and cyclin M antibodies detected their cognate endogenous proteins by Western blotting. We readily detected cyclin M in immunoprecipitates obtained with the CDK10 antibody but not with a control antibody (Fig. 1F). These results confirm the physical interaction between CDK10 and cyclin M in human cells.To unveil a hypothesized CDK10/cyclin M protein kinase activity, we produced GST-CDK10 and StrepII-cyclin M fusion proteins in insect cells, either individually or in combination. We observed that GST-CDK10 and StrepII-cyclin M copurified, thus confirming their interaction in yet another cellular model (Fig. 2A). We then performed in vitro kinase assays with purified proteins, using histone H1 as a generic substrate. Histone H1 phosphorylation was detected only from lysates of cells coexpressing GST-CDK10 and StrepII-cyclin M. No phosphorylation was detected when GST-CDK10 or StrepII-cyclin M were expressed alone, or when StrepII-cyclin M was coexpressed with GST-CDK10(kd) (Fig. 2A). Next we investigated whether ETS2, which is known to interact with CDK10 (9) (Fig. 1C), is a phosphorylation substrate of CDK10/cyclin M. We detected strong phosphorylation of ETS2 by the GST-CDK10/StrepII-cyclin M purified heterodimer, whereas no phosphorylation was detected using GST-CDK10 alone or GST-CDK10(kd)/StrepII-cyclin M heterodimer (Fig. 2B).Fig. 2.In a new window Download PPTFig. 2.CDK10 is a cyclin M-dependent protein kinase. (A) In vitro protein kinase assay on histone H1. Lysates from insect cells expressing different proteins were purified on a glutathione Sepharose matrix to capture GST-CDK10(wt or kd) fusion proteins alone, or in complex with STR-CycM fusion protein. Purified protein expression levels were analyzed by Western blots (Top and Upper Middle). The kinase activity was determined by autoradiography of histone H1, whose added amounts were visualized by Coomassie staining (Lower Middle and Bottom). (B) Same as in A, using purified recombinant 6His-ETS2 as a substrate.CDK10 silencing has been shown to increase ETS2-driven c-RAF transcription and to activate the MAPK pathway (6). We investigated whether cyclin M is also involved in this regulatory pathway. To aim at a highly specific silencing, we used siRNA pools (mix of four different siRNAs) at low final concentration (10 nM). Both CDK10 and cyclin M siRNA pools silenced the expression of their cognate targets (Fig. 3 A and C and Fig. S2) and, interestingly, the cyclin M siRNA pool also caused a marked decrease in CDK10 protein level (Fig. 3A and Fig. S2B). These results, and those shown in Fig. 1D, suggest that cyclin M binding stabilizes CDK10. Cyclin M silencing induced an increase in c-Raf protein and mRNA levels (Fig. 3 B and C) and in phosphorylated ERK1 and ERK2 protein levels (Fig. S3B), similarly to CDK10 silencing. As expected from these effects (6), CDK10 and cyclin M silencing both decreased the sensitivity of ER+ MCF7 cells to tamoxifen, to a similar extent. The combined silencing of both genes did not result in a higher resistance to the drug (Fig. S3C). Altogether, these observations demonstrate a functional interaction between cyclin M and CDK10, which negatively controls ETS2.Fig. 3.In a new window Download PPTFig. 3.Cyclin M silencing up-regulates c-Raf expression. (A) Western blot analysis of endogenous CDK10 and cyclin M expression levels in MCF7 cells, in response to siRNA-mediated gene silencing. (B) Western blot analysis of endogenous c-Raf expression levels in MCF7 cells, in response to CDK10 or cyclin M silencing. A quantification is shown in Fig. S3A. (C) Quantitative RT-PCR analysis of CDK10, cyclin M, and c-Raf mRNA levels, in response to CDK10 (Upper) or cyclin M (Lower) silencing. **P ≤ 0.01; ***P ≤ 0.001.We then wished to explore the mechanism by which CDK10/cyclin M controls ETS2. ETS2 is a short-lived protein degraded by the proteasome (13). A straightforward hypothesis is that CDK10/cyclin M positively controls ETS2 degradation. We thus examined the impact of CDK10 or cyclin M silencing on ETS2 expression levels. The silencing of CDK10 and that of cyclin M caused an increase in the expression levels of an exogenously expressed Flag-ETS2 protein (Fig. S4A), as well as of the endogenous ETS2 protein (Fig. 4A). This increase is not attributable to increased ETS2 mRNA levels, which marginally fluctuated in response to CDK10 or cyclin M silencing (Fig. S4B). We then examined the expression levels of the Flag-tagged ETS2 protein when expressed alone or in combination with Myc-CDK10 or -CDK10(kd), with or without cyclin M-V5-6His. Flag-ETS2 was readily detected when expressed alone or, to a lesser extent, when coexpressed with CDK10(kd). However, its expression level was dramatically decreased when coexpressed with CDK10 alone, or with CDK10 and cyclin M (Fig. 4B). These observations suggest that endogenous cyclin M levels are in excess compared with those of CDK10 in MCF7 cells, and they show that the major decrease in ETS2 levels observed upon CDK10 coexpression involves CDK10 kinase activity. Treatment of cells coexpressing Flag-ETS2, CDK10, and cyclin M with the proteasome inhibitor MG132 largely rescued Flag-ETS2 expression levels (Fig. 4B).Fig. 4.In a new window Download PPTFig. 4.CDK10/cyclin M controls ETS2 stability in human cancer derived cells. (A) Western blot analysis of endogenous ETS2 expression levels in MCF7 cells, in response to siRNA-mediated CDK10 and/or cyclin M silencing. A quantification is shown in Fig. S4B. (B) Western blot analysis of exogenously expressed Flag-ETS2 protein levels in MCF7 cells cotransfected with empty vectors or coexpressing Myc-CDK10 (wt or kd), or Myc-CDK10/CycM-V5-6His. The latter cells were treated for 16 h with the MG132 proteasome inhibitor. Proper expression of CDK10 and cyclin M tagged proteins was verified by Western blot analysis. (C and D) Western blot analysis of expression levels of exogenously expressed Flag-ETS2 wild-type or mutant proteins in MCF7 cells, in the absence of (C) or in response to (D) Myc-CDK10/CycM-V5-6His expression. Quantifications are shown in Fig. S4 C and D.A mass spectrometry analysis of recombinant ETS2 phosphorylated by CDK10/cyclin M in vitro revealed the existence of multiple phosphorylated residues, among which are two neighboring phospho-serines (at positions 220 and 225) that may form a phosphodegron (14) (Figs. S5–S8). To confirm this finding, we compared the phosphorylation level of recombinant ETS2wt with that of ETS2SASA protein, a mutant bearing alanine substitutions of these two serines. As expected from the existence of multiple phosphorylation sites, we detected a small but reproducible, significant decrease of phosphorylation level of ETS2SASA compared with ETS2wt (Fig. S9), thus confirming that Ser220/Ser225 are phosphorylated by CDK10/cyclin M. To establish a direct link between ETS2 phosphorylation by CDK10/cyclin M and degradation, we examined the expression levels of Flag-ETS2SASA. In the absence of CDK10/cyclin M coexpression, it did not differ significantly from that of Flag-ETS2. This is contrary to that of Flag-ETS2DBM, bearing a deletion of the N-terminal destruction (D-) box that was previously shown to be involved in APC-Cdh1–mediated degradation of ETS2 (13) (Fig. 4C). However, contrary to Flag-ETS2 wild type, the expression level of Flag-ETS2SASA remained insensitive to CDK10/cyclin M coexpression (Fig. 4D). Altogether, these results suggest that CDK10/cyclin M directly controls ETS2 degradation through the phosphorylation of these two serines.Finally, we studied a lymphoblastoid cell line derived from a patient with STAR syndrome, bearing FAM58A mutation c.555+1G>A, predicted to result in aberrant splicing (10). In accordance with incomplete skewing of X chromosome inactivation previously found in this patient, we detected a decreased expression level of cyclin M protein in the STAR cell line, compared with a control lymphoblastoid cell line. In line with our preceding observations, we detected an increased expression level of ETS2 protein in the STAR cell line compared with the control (Fig. 5A and Fig. S10A). We then examined by quantitative RT-PCR the mRNA expression levels of the corresponding genes. The STAR cell line showed a decreased expression level of cyclin M mRNA but an expression level of ETS2 mRNA similar to that of the control cell line (Fig. 5B). To demonstrate that the increase in ETS2 protein expression is indeed a result of the decreased cyclin M expression observed in the STAR patient-derived cell line, we expressed cyclin M-V5-6His in this cell line. This expression caused a decrease in ETS2 protein levels (Fig. 5C).Fig. 5.In a new window Download PPTFig. 5.Decreased cyclin M expression in STAR patient-derived cells results in increased ETS2 protein level. (A) Western blot analysis of cyclin M and ETS2 protein levels in a STAR patient-derived lymphoblastoid cell line and in a control lymphoblastoid cell line, derived from a healthy individual. A quantification is shown in Fig. S10A. (B) Quantitative RT-PCR analysis of cyclin M and ETS2 mRNA levels in the same cells. ***P ≤ 0.001. (C) Western blot analysis of ETS2 protein levels in the STAR patient-derived lymphoblastoid cell line transfected with an empty vector or a vector directing the expression of cyclin M-V5-6His. Another Western blot revealing endogenously and exogenously expressed cyclin M levels is shown in Fig. S10B. A quantification of ETS2 protein levels is shown in Fig. S10C.Previous SectionNext SectionDiscussionIn this work, we unveil the interaction between CDK10, the last orphan CDK discovered in the pregenomic era (2), and cyclin M, the only cyclin associated with a human genetic disease so far, and whose functions remain unknown (10). The closest paralogs of CDK10 within the CDK family are the CDK11 proteins, which interact with L-type cyclins (15). Interestingly, the closest paralog of these cyclins within the cyclin family is cyclin M (Fig. S11). The fact that none of the shorter CDK10 isoforms interact robustly with cyclin M suggests that alternative splicing of the CDK10 gene (16, 17) plays an important role in regulating CDK10 functions.The functional relevance of the interaction between CDK10 and cyclin M is supported by different observations. Both proteins seem to enhance each other’s stability, as judged from their increased expression levels when their partner is exogenously coexpressed (Fig. 1D) and from the much reduced endogenous CDK10 expression level observed in response to cyclin M silencing (Fig. 3A and Fig. S2B). CDK10 is subject to ubiquitin-mediated degradation (18). Our observations suggest that cyclin M protects CDK10 from such degradation and that it is the only cyclin partner of CDK10, at least in MCF7 cells. They also suggest that cyclin M stability is enhanced upon binding to CDK10, independently from its kinase activity, as seen for cyclin C and CDK8 (19). We uncover a cyclin M-dependent CDK10 protein kinase activity in vitro, thus demonstrating that this protein, which was named a CDK on the sole basis of its amino acid sequence, is indeed a genuine cyclin-dependent kinase. Our Y2H assays reveal that truncated cyclin M proteins corresponding to the hypothetical products of two STAR syndrome-associated FAM58A mutations do not produce an interaction phenotype with CDK10. Hence, regardless of whether these mutated mRNAs undergo nonsense-mediated decay (as suggested from the decreased cyclin M mRNA levels in STAR cells, shown in Fig. 5B) or give rise to truncated cyclin M proteins, females affected by the STAR syndrome must exhibit compromised CDK10/cyclin M kinase activity at least in some tissues and during specific developmental stages.We show that ETS2, a known interactor of CDK10, is a phosphorylation substrate of CDK10/cyclin M in vitro and that CDK10/cyclin M kinase activity positively controls ETS2 degradation by the proteasome. This control seems to be exerted through a very fine mechanism, as judged from the sensitivity of ETS2 levels to partially decreased CDK10 and cyclin M levels, achieved in MCF7 cells and observed in STAR cells, respectively. These findings offer a straightforward explanation for the already reported up-regulation of ETS2-driven transcription of c-RAF in response to CDK10 silencing (6). We bring evidence that CDK10/cyclin M directly controls ETS2 degradation through the phosphorylation of two neighboring serines, which may form a noncanonical β-TRCP phosphodegron (DSMCPAS) (14). Because none of these two serines precede a proline, they do not conform to usual CDK phosphorylation sites. However, multiple so-called transcriptional CDKs (CDK7, -8, -9, and -11) (to which CDK10 may belong; Fig. S11) have been shown to phosphorylate a variety of motifs in a non–proline-directed fashion, especially in the context of molecular docking with the substrate (20). Here, it can be hypothesized that the high-affinity interaction between CDK10 and the Pointed domain of ETS2 (6, 9) (Fig. 1C) would allow docking-mediated phosphorylation of atypical sites. The control of ETS2 degradation involves a number of players, including APC-Cdh1 (13) and the cullin-RING ligase CRL4 (21). The formal identification of the ubiquitin ligase involved in the CDK10/cyclin M pathway and the elucidation of its concerted action with the other ubiquitin ligases to regulate ETS2 degradation will require further studies.Our results present a number of significant biological and medical implications. First, they shed light on the regulation of ETS2, which plays an important role in development (22) and is frequently deregulated in many cancers (23). Second, our results contribute to the understanding of the molecular mechanisms causing tamoxifen resistance associated with reduced CDK10 expression levels, and they suggest that, like CDK10 (6), cyclin M could also be a predictive clinical marker of hormone therapy response of ERα-positive breast cancer patients. Third, our findings offer an interesting hypothesis on the molecular mechanisms underlying STAR syndrome. Ets2 transgenic mice showing a less than twofold overexpression of Ets2 present severe cranial abnormalities (24), and those observed in STAR patients could thus be caused at least in part by increased ETS2 protein levels. Another expected consequence of enhanced ETS2 expression levels would be a decreased risk to develop certain types of cancers and an increased risk to develop others. Studies on various mouse models (including models of Down syndrome, in which three copies of ETS2 exist) have revealed that ETS2 dosage can repress or promote tumor growth and, hence, that ETS2 exerts noncell autonomous functions in cancer (25). Intringuingly, one of the very few STAR patients identified so far has been diagnosed with a nephroblastoma (26). Finally, our findings will facilitate the general exploration of the biological functions of CDK10 and, in particular, its role in the control of cell division. Previous studies have suggested either a positive role in cell cycle control (5, 6) or a tumor-suppressive activity in some cancers (7, 8). The severe growth retardation exhibited by STAR patients strongly suggests that CDK10/cyclin M plays an important role in the control of cell proliferation.Previous SectionNext SectionMaterials and MethodsCloning of CDK10 and cyclin M cDNAs, plasmid constructions, tamoxifen response analysis, quantitative RT-PCR, mass spectrometry experiments, and antibody production are detailed in SI Materials and Methods.Yeast Two-Hybrid Interaction Assays. We performed yeast interaction mating assays as previously described (27).Mammalian Cell Cultures and Transfections. We grew human HEK293 and MCF7 cells in DMEM supplemented with 10% (vol/vol) FBS (Invitrogen), and we grew lymphoblastoid cells in RPMI 1640 GlutaMAX supplemented with 15% (vol/vol) FBS. We transfected HEK293 and MCF7 cells using Lipofectamine 2000 (Invitrogen) for plasmids, Lipofectamine RNAiMAX (Invitrogen) for siRNAs, and Jetprime (Polyplus) for plasmids/siRNAs combinations according to the manufacturers’ instructions. We transfected lymphoblastoid cells by electroporation (Neon, Invitrogen). For ETS2 stability studies we treated MCF7 cells 32 h after transfection with 10 μM MG132 (Fisher Scientific) for 16 h.Coimmunoprecipitation and Western Blot Experiments. We collected cells by scraping in PBS (or centrifugation for lymphoblastoid cells) and lysed them by sonication in a lysis buffer containing 60 mM β-glycerophosphate, 15 mM p-nitrophenylphosphate, 25 mM 3-(N-morpholino)propanesulfonic acid (Mops) (pH 7.2), 15 mM EGTA, 15 mM MgCl2, 1 mM Na vanadate, 1 mM NaF, 1mM phenylphosphate, 0.1% Nonidet P-40, and a protease inhibitor mixture (Roche). We spun the lysates 15 min at 20,000 × g at 4 °C, collected the supernatants, and determined the protein content using a Bradford assay. We performed the immunoprecipitation experiments on 500 μg of total proteins, in lysis buffer. We precleared the lysates with 20 μL of protein A or G-agarose beads, incubated 1 h 4 °C on a rotating wheel. We added 5 μg of antibody to the supernatants, incubated 1 h 4 °C on a rotating wheel, added 20 μL of protein A or G-agarose beads, and incubated 1 h 4 °C on a rotating wheel. We collected the beads by centrifugation 30 s at 18,000 × g at 4 °C and washed three times in a bead buffer containing 50 mM Tris (pH 7.4), 5 mM NaF, 250 mM NaCl, 5 mM EDTA, 5 mM EGTA, 0.1% Nonidet P-40, and a protease inhibitor coktail (Roche). We directly added sample buffer to the washed pellets, heat-denatured the proteins, and ran the samples on 10% Bis-Tris SDS/PAGE. We transferred the proteins onto Hybond nitrocellulose membranes and processed the blots according to standard procedures. For Western blot experiments, we used the following primary antibodies: anti-Myc (Abcam ab9106, 1:2,000), anti-V5 (Invitrogen R960, 1:5,000), anti-tubulin (Santa Cruz Biotechnology B-7, 1:500), anti-CDK10 (Covalab pab0847p, 1:500 or Santa Cruz Biotechnology C-19, 1:500), anti-CycM (home-made, dilution 1:500 or Covalab pab0882-P, dilution 1:500), anti-Raf1 (Santa Cruz Biotechnology C-20, 1:1,000), anti-ETS2 (Santa Cruz Biotechnology C-20, 1:1,000), anti-Flag (Sigma F7425, 1:1,000), and anti-actin (Sigma A5060, 1:5,000). We used HRP-coupled anti-goat (Santa Cruz Biotechnology SC-2033, dilution 1:2,000), anti-mouse (Bio-Rad 170–6516, dilution 1:3,000) or anti-rabbit (Bio-Rad 172–1019, 1:5,000) as secondary antibodies. We revealed the blots by enhanced chemiluminescence (SuperSignal West Femto, Thermo Scientific).Production and Purification of Recombinant Proteins.GST-CDK10(kd)/StrepII-CycM. We generated recombinant bacmids in DH10Bac Escherichia coli and baculoviruses in Sf9 cells using the Bac-to-Bac system, as described by the provider (Invitrogen). We infected Sf9 cells with GST-CDK10- (or GST-CDK10kd)-producing viruses, or coinfected the cells with StrepII-CycM–producing viruses, and we collected the cells 72 h after infection. To purify GST-fusion proteins, we spun 250 mL cells and resuspended the pellet in 40 mL lysis buffer (PBS, 250 mM NaCl, 0.5% Nonidet P-40, 50 mM NaF, 10 mM β-glycerophosphate, and 0.3 mM Na-vanadate) containing a protease inhibitor mixture (Roche). We lysed the cells by sonication, spun the lysate 30 min at 15,000 × g, collected the soluble fraction, and added it to a 1-mL glutathione-Sepharose matrix. We incubated 1 h at 4 °C, washed four times with lysis buffer, one time with kinase buffer A (see below), and finally resuspended the beads in 100 μL kinase buffer A containing 10% (vol/vol) glycerol for storage.6His-ETS2. We transformed Origami2 DE3 (Novagen) with the 6His-ETS2 expression vector. We induced expression with 0.2 mM isopropyl-β-d-1-thiogalactopyranoside for 3 h at 22 °C. To purify 6His-ETS2, we spun 50 mL cells and resuspended the pellet in 2 mL lysis buffer (PBS, 300 mM NaCl, 10 mM Imidazole, 1 mM DTT, and 0.1% Nonidet P-40) containing a protease inhibitor mixture without EDTA (Roche). We lysed the cells at 1.6 bar using a cell disruptor and spun the lysate 10 min at 20,000 × g. We collected the soluble fraction and added it to 200 μL Cobalt beads (Thermo Scientific). After 1 h incubation at 4 °C on a rotating wheel, we washed four times with lysis buffer. To elute, we incubated beads 30 min with elution buffer (PBS, 250 mM imidazole, pH 7.6) containing the protease inhibitor mixture, spun 30 s at 10,000 × g, and collected the eluted protein.Protein Kinase Assays. We mixed glutathione-Sepharose beads (harboring GST-CDK10 wt or kd, either monomeric or complexed with StrepII-CycM), 22.7 μM BSA, 15 mM DTT, 100 μM ATP, 5 μCi ATP[γ-32P], 7.75 μM histone H1, or 1 μM 6His-ETS2 and added kinase buffer A (25 mM Tris·HCl, 10 mM MgCl2, 1 mM EGTA, 1 mM DTT, and 3.7 μM heparin, pH 7.5) up to a total volume of 30 μL. We incubated the reactions 30 min at 30 °C, added Laemli sample buffer, heat-denatured the samples, and ran 10% Bis-Tris SDS/PAGE. We cut gel slices to detect GST-CDK10 and StrepII-CycM by Western blotting. We stained the gel slices containing the substrate with Coomassie (R-250, Bio-Rad), dried them, and detected the incorporated radioactivity by autoradiography. We identified four unrelated girls with anogenital and renal malformations, dysmorphic facial features, normal intellect and syndactyly of toes. A similar combination of features had been reported previously in a mother–daughter pair1 (Table 1 and Supplementary Note online). These authors noted clinical overlap with Townes-Brocks syndrome but suggested that the phenotype represented a separate autosomal dominant entity (MIM601446). Here we define the cardinal features of this syndrome as a characteristic facial appearance with apparent telecanthus and broad tripartite nasal tip, variable syndactyly of toes 2–5, hypoplastic labia, anal atresia and urogenital malformations (Fig. 1a–h). We also observed a variety of other features (Table 1).  Figure 1: Clinical and molecular characterization of STAR syndrome.  Figure 1 : Clinical and molecular characterization of STAR syndrome. (a–f) Facial appearances of cases 1–3 (apparent telecanthus, dysplastic ears and thin upper lips; a,c,e), and toe syndactyly 2–5, 3–5 or 4–5 (b,d,f) in these cases illustrate recognizable features of STAR syndrome (specific parental consent has been obtained for publication of these photographs). Anal atresia and hypoplastic labia are not shown. (g,h) X-ray films of the feet of case 2 showing only four rays on the left and delta-shaped 4th and 5th metatarsals on the right (h; compare to clinical picture in d). (i) Array-CGH data. Log2 ratio represents copy number loss of six probes spanning between 37.9 and 50.7 kb, with one probe positioned within FAM58A. The deletion does not remove parts of other functional genes. (j) Schematic structure of FAM58A and position of the mutations. FAM58A has five coding exons (boxes). The cyclin domain (green) is encoded by exons 2–4. The horizontal arrow indicates the deletion extending 5' in case 1, which includes exons 1 and 2, whereas the horizontal line below exon 5 indicates the deletion found in case 3, which removes exon 5 and some 3' sequence. The pink horizontal bars above the boxes indicate the amplicons used for qPCR and sequencing (one alternative exon 5 amplicon is not indicated because of space constraints). The mutation 201dupT (case 4) results in an immediate stop codon, and the 555+1G>A and 555-1G>A splice mutations in cases 2, 5 and 6 are predicted to be deleterious because they alter the conserved splice donor and acceptor site of intron 4, respectively.  Full size image (97 KB)  Table 1: Clinical features in STAR syndrome cases  Table 1 - Clinical features in STAR syndrome cases  Full table  On the basis of the phenotypic overlap with Townes-Brocks, Okihiro and Feingold syndromes, we analyzed SALL1 (ref. 2), SALL4 (ref. 3) and MYCN4 but found no mutations in any of these genes (Supplementary Methods online). Next, we carried out genome-wide high-resolution oligonucleotide array comparative genomic hybridization (CGH)5 analysis (Supplementary Methods) of genomic DNA from the most severely affected individual (case 1, with lower lid coloboma, epilepsy and syringomyelia) and identified a heterozygous deletion of 37.9–50.7 kb on Xq28, which removed exons 1 and 2 of FAM58A (Fig. 1i,j). Using real-time PCR, we confirmed the deletion in the child and excluded it in her unaffected parents (Supplementary Fig. 1a online, Supplementary Methods and Supplementary Table 1 online). Through CGH with a customized oligonucleotide array enriched in probes for Xq28, followed by breakpoint cloning, we defined the exact deletion size as 40,068 bp (g.152,514,164_152,554,231del(chromosome X, NCBI Build 36.2); Fig. 1j and Supplementary Figs. 2,3 online). The deletion removes the coding regions of exons 1 and 2 as well as intron 1 (2,774 bp), 492 bp of intron 2, and 36,608 bp of 5' sequence, including the 5' UTR and the entire KRT18P48 pseudogene (NCBI gene ID 340598). Paternity was proven using routine methods. We did not find deletions overlapping FAM58A in the available copy number variation (CNV) databases.  Subsequently, we carried out qPCR analysis of the three other affected individuals (cases 2, 3 and 4) and the mother-daughter pair from the literature (cases 5 and 6). In case 3, we detected a de novo heterozygous deletion of 1.1–10.3 kb overlapping exon 5 (Supplementary Fig. 1b online). Using Xq28-targeted array CGH and breakpoint cloning, we identified a deletion of 4,249 bp (g.152,504,123_152,508,371del(chromosome X, NCBI Build 36.2); Fig. 1j and Supplementary Figs. 2,3), which removed 1,265 bp of intron 4, all of exon 5, including the 3' UTR, and 2,454 bp of 3' sequence.  We found heterozygous FAM58A point mutations in the remaining cases (Fig. 1j, Supplementary Fig. 2, Supplementary Methods and Supplementary Table 1). In case 2, we identified the mutation 555+1G>A, affecting the splice donor site of intron 4. In case 4, we identified the frameshift mutation 201dupT, which immediately results in a premature stop codon N68XfsX1. In cases 5 and 6, we detected the mutation 556-1G>A, which alters the splice acceptor site of intron 4. We validated the point mutations and deletions by independent rounds of PCR and sequencing or by qPCR. We confirmed paternity and de novo status of the point mutations and deletions in all sporadic cases. None of the mutations were seen in the DNA of 60 unaffected female controls, and no larger deletions involving FAM58A were found in 93 unrelated array-CGH investigations.  By analyzing X-chromosome inactivation (Supplementary Methods and Supplementary Fig. 4 online), we found complete skewing of X inactivation in cases 1 and 3–6 and almost complete skewing in case 2, suggesting that cells carrying the mutation on the active X chromosome have a growth disadvantage during fetal development. Using RT-PCR on RNA from lymphoblastoid cells of case 2 (Supplementary Fig. 2), we did not find any aberrant splice products as additional evidence that the mutated allele is inactivated. Furthermore, FAM58A is subjected to X inactivation6. In cases 1 and 3, the parental origin of the deletions could not be determined, as a result of lack of informative SNPs. Case 5, the mother of case 6, gave birth to two boys, both clinically unaffected (samples not available). We cannot exclude that the condition is lethal in males. No fetal losses were reported from any of the families.  The function of FAM58A is unknown. The gene consists of five coding exons, and the 642-bp coding region encodes a protein of 214 amino acids. GenBank lists a mRNA length of 1,257 bp for the reference sequence (NM_152274.2). Expression of the gene (by EST data) was found in 27 of 48 adult tissues including kidney, colon, cervix and uterus, but not heart (NCBI expression viewer, UniGene Hs.496943). Expression was also noted in 24 of 26 listed tumor tissues as well as in embryo and fetus. Genes homologous to FAM58A (NCBI HomoloGene: 13362) are found on the X chromosome in the chimpanzee and the dog. The zebrafish has a similar gene on chromosome 23. However, in the mouse and rat, there are no true homologs. These species have similar but intronless genes on chromosomes 11 (mouse) and 10 (rat), most likely arising from a retrotransposon insertion event. On the murine X chromosome, the flanking genes Atp2b3 and Dusp9 are conserved, but only remnants of the FAM58A sequence can be detected.  FAM58A contains a cyclin-box-fold domain, a protein-binding domain found in cyclins with a role in cell cycle and transcription control. No human phenotype resulting from a cyclin gene mutation has yet been reported. Homozygous knockout mice for Ccnd1 (encoding cyclin D1) are viable but small and have reduced lifespan. They also have dystrophic changes of the retina, likely as a result of decreased cell proliferation and degeneration of photoreceptor cells during embryogenesis7, 8.  Cyclin D1 colocalizes with SALL4 in the nucleus, and both proteins cooperatively mediate transcriptional repression9. As the phenotype of our cases overlaps considerably with that of Townes-Brocks syndrome caused by SALL1 mutations1, we carried out co-immunoprecipitation to find out if SALL1 or SALL4 would interact with FAM58A in a manner similar to that observed for SALL4 and cyclin D1. We found that FAM58A interacts with SALL1 but not with SALL4 (Supplementary Fig. 5 online), supporting the hypothesis that FAM58A and SALL1 participate in the same developmental pathway.  How do FAM58A mutations lead to STAR syndrome? Growth retardation (all cases; Table 1) and retinal abnormalities (three cases) are reminiscent of the reduced body size and retinal anomalies in cyclin D1 knockout mice7, 8. Therefore, a proliferation defect might be partly responsible for STAR syndrome. To address this question, we carried out a knockdown of FAM58A mRNA followed by a proliferation assay. Transfection of HEK293 cells with three different FAM58A-specific RNAi oligonucleotides resulted in a significant reduction of both FAM58A mRNA expression and proliferation of transfected cells (Supplementary Methods and Supplementary Fig. 6 online), supporting the link between FAM58A and cell proliferation.  We found that loss-of-function mutations of FAM58A result in a rather homogeneous clinical phenotype. The additional anomalies in case 1 are likely to result from an effect of the 40-kb deletion on expression of a neighboring gene, possibly ATP2B3 or DUSP9. However, we cannot exclude that the homogeneous phenotype results from an ascertainment bias and that FAM58A mutations, including missense changes, could result in a broader spectrum of malformations. The genes causing the overlapping phenotypes of STAR syndrome and Townes-Brocks syndrome seem to act in the same pathway. Of note, MYCN, a gene mutated in Feingold syndrome, is a direct regulator of cyclin D2 (refs. 10,11); thus, it is worth exploring whether the phenotypic similarities between Feingold and STAR syndrome might be explained by direct regulation of FAM58A by MYCN.  FAM58A is located approximately 0.56 Mb centromeric to MECP2 on Xq28. Duplications overlapping both MECP2 and FAM58A have been described and are not associated with a clinical phenotype in females12, but no deletions overlapping both MECP2 and FAM58A have been observed to date13. Although other genes between FAM58A and MECP2 have been implicated in brain development, FAM58A and MECP2 are the only genes in this region known to result in X-linked dominant phenotypes; thus, deletion of both genes on the same allele might be lethal in both males and females.\""
      ]
     },
     "execution_count": 8,
     "metadata": {},
     "output_type": "execute_result"
    }
   ],
   "source": [
    "df['Text'][0]"
   ]
  },
  {
   "cell_type": "code",
   "execution_count": null,
   "id": "04e51085",
   "metadata": {},
   "outputs": [],
   "source": []
  },
  {
   "cell_type": "code",
   "execution_count": 9,
   "id": "9b505487",
   "metadata": {},
   "outputs": [
    {
     "data": {
      "text/html": [
       "<div>\n",
       "<style scoped>\n",
       "    .dataframe tbody tr th:only-of-type {\n",
       "        vertical-align: middle;\n",
       "    }\n",
       "\n",
       "    .dataframe tbody tr th {\n",
       "        vertical-align: top;\n",
       "    }\n",
       "\n",
       "    .dataframe thead th {\n",
       "        text-align: right;\n",
       "    }\n",
       "</style>\n",
       "<table border=\"1\" class=\"dataframe\">\n",
       "  <thead>\n",
       "    <tr style=\"text-align: right;\">\n",
       "      <th></th>\n",
       "      <th>ID</th>\n",
       "      <th>Gene</th>\n",
       "      <th>Variation</th>\n",
       "      <th>Class</th>\n",
       "      <th>Text</th>\n",
       "    </tr>\n",
       "  </thead>\n",
       "  <tbody>\n",
       "    <tr>\n",
       "      <th>0</th>\n",
       "      <td>0</td>\n",
       "      <td>fam58a</td>\n",
       "      <td>truncating mutations</td>\n",
       "      <td>1</td>\n",
       "      <td>cyclin-dependent kinases (cdks) regulate a var...</td>\n",
       "    </tr>\n",
       "    <tr>\n",
       "      <th>1</th>\n",
       "      <td>1</td>\n",
       "      <td>cbl</td>\n",
       "      <td>w802*</td>\n",
       "      <td>2</td>\n",
       "      <td>abstract background  non-small cell lung canc...</td>\n",
       "    </tr>\n",
       "    <tr>\n",
       "      <th>2</th>\n",
       "      <td>2</td>\n",
       "      <td>cbl</td>\n",
       "      <td>q249e</td>\n",
       "      <td>2</td>\n",
       "      <td>abstract background  non-small cell lung canc...</td>\n",
       "    </tr>\n",
       "  </tbody>\n",
       "</table>\n",
       "</div>"
      ],
      "text/plain": [
       "   ID    Gene             Variation  Class  \\\n",
       "0   0  fam58a  truncating mutations      1   \n",
       "1   1     cbl                 w802*      2   \n",
       "2   2     cbl                 q249e      2   \n",
       "\n",
       "                                                Text  \n",
       "0  cyclin-dependent kinases (cdks) regulate a var...  \n",
       "1   abstract background  non-small cell lung canc...  \n",
       "2   abstract background  non-small cell lung canc...  "
      ]
     },
     "execution_count": 9,
     "metadata": {},
     "output_type": "execute_result"
    }
   ],
   "source": [
    "df['Text'] = df['Text'].str.lower()\n",
    "df['Gene'] = df['Gene'].str.lower()\n",
    "df['Variation'] = df['Variation'].str.lower()\n",
    "df.head(3)"
   ]
  },
  {
   "cell_type": "code",
   "execution_count": 10,
   "id": "fd21e3ec",
   "metadata": {},
   "outputs": [
    {
     "data": {
      "text/html": [
       "<div>\n",
       "<style scoped>\n",
       "    .dataframe tbody tr th:only-of-type {\n",
       "        vertical-align: middle;\n",
       "    }\n",
       "\n",
       "    .dataframe tbody tr th {\n",
       "        vertical-align: top;\n",
       "    }\n",
       "\n",
       "    .dataframe thead th {\n",
       "        text-align: right;\n",
       "    }\n",
       "</style>\n",
       "<table border=\"1\" class=\"dataframe\">\n",
       "  <thead>\n",
       "    <tr style=\"text-align: right;\">\n",
       "      <th></th>\n",
       "      <th>ID</th>\n",
       "      <th>Gene</th>\n",
       "      <th>Variation</th>\n",
       "      <th>Class</th>\n",
       "      <th>Text</th>\n",
       "    </tr>\n",
       "  </thead>\n",
       "  <tbody>\n",
       "    <tr>\n",
       "      <th>0</th>\n",
       "      <td>0</td>\n",
       "      <td>fam58a</td>\n",
       "      <td>truncating_mutations</td>\n",
       "      <td>1</td>\n",
       "      <td>cyclin-dependent kinases (cdks) regulate a var...</td>\n",
       "    </tr>\n",
       "    <tr>\n",
       "      <th>1</th>\n",
       "      <td>1</td>\n",
       "      <td>cbl</td>\n",
       "      <td>w802*</td>\n",
       "      <td>2</td>\n",
       "      <td>abstract background  non-small cell lung canc...</td>\n",
       "    </tr>\n",
       "    <tr>\n",
       "      <th>2</th>\n",
       "      <td>2</td>\n",
       "      <td>cbl</td>\n",
       "      <td>q249e</td>\n",
       "      <td>2</td>\n",
       "      <td>abstract background  non-small cell lung canc...</td>\n",
       "    </tr>\n",
       "  </tbody>\n",
       "</table>\n",
       "</div>"
      ],
      "text/plain": [
       "   ID    Gene             Variation  Class  \\\n",
       "0   0  fam58a  truncating_mutations      1   \n",
       "1   1     cbl                 w802*      2   \n",
       "2   2     cbl                 q249e      2   \n",
       "\n",
       "                                                Text  \n",
       "0  cyclin-dependent kinases (cdks) regulate a var...  \n",
       "1   abstract background  non-small cell lung canc...  \n",
       "2   abstract background  non-small cell lung canc...  "
      ]
     },
     "execution_count": 10,
     "metadata": {},
     "output_type": "execute_result"
    }
   ],
   "source": [
    "# also replace space with underscore in gene and variation column\n",
    "df['Gene'] = df['Gene'].str.replace(' ', '_')\n",
    "df['Variation'] = df['Variation'].str.replace(' ', '_')\n",
    "df.head(3)"
   ]
  },
  {
   "cell_type": "code",
   "execution_count": 11,
   "id": "927e2a21",
   "metadata": {},
   "outputs": [
    {
     "name": "stdout",
     "output_type": "stream",
     "text": [
      "5\n",
      "Text\n",
      "<class 'str'>      3316\n",
      "<class 'float'>       5\n",
      "Name: count, dtype: int64\n"
     ]
    }
   ],
   "source": [
    "print(df['Text'].isnull().sum())  # কতগুলো NaN আছে\n",
    "print(df['Text'].apply(type).value_counts())  # কোন টাইপের ডেটা আছে\n"
   ]
  },
  {
   "cell_type": "code",
   "execution_count": 12,
   "id": "3c180c89",
   "metadata": {},
   "outputs": [],
   "source": [
    "# drop na the missing Values\n",
    "\n",
    "df.dropna(inplace=True)"
   ]
  },
  {
   "cell_type": "code",
   "execution_count": 13,
   "id": "7f845a9b",
   "metadata": {},
   "outputs": [
    {
     "name": "stdout",
     "output_type": "stream",
     "text": [
      "0\n",
      "Text\n",
      "<class 'str'>    3316\n",
      "Name: count, dtype: int64\n"
     ]
    }
   ],
   "source": [
    "print(df['Text'].isnull().sum())  # কতগুলো NaN আছে\n",
    "print(df['Text'].apply(type).value_counts())  # কোন টাইপের ডেটা আছে\n"
   ]
  },
  {
   "cell_type": "markdown",
   "id": "0c2f1b90",
   "metadata": {},
   "source": []
  },
  {
   "cell_type": "code",
   "execution_count": 14,
   "id": "c69051b1",
   "metadata": {},
   "outputs": [
    {
     "name": "stdout",
     "output_type": "stream",
     "text": [
      "Requirement already satisfied: nltk in ./venv/lib/python3.12/site-packages (3.9.1)\n",
      "Requirement already satisfied: click in ./venv/lib/python3.12/site-packages (from nltk) (8.3.0)\n",
      "Requirement already satisfied: joblib in ./venv/lib/python3.12/site-packages (from nltk) (1.5.2)\n",
      "Requirement already satisfied: regex>=2021.8.3 in ./venv/lib/python3.12/site-packages (from nltk) (2025.9.18)\n",
      "Requirement already satisfied: tqdm in ./venv/lib/python3.12/site-packages (from nltk) (4.67.1)\n"
     ]
    },
    {
     "name": "stderr",
     "output_type": "stream",
     "text": [
      "[nltk_data] Error loading stopwords: <urlopen error [SSL:\n",
      "[nltk_data]     CERTIFICATE_VERIFY_FAILED] certificate verify failed:\n",
      "[nltk_data]     unable to get local issuer certificate (_ssl.c:1000)>\n"
     ]
    }
   ],
   "source": [
    "# nltlk install stopwords\n",
    "!pip install nltk\n",
    "import nltk\n",
    "nltk.download('stopwords')\n",
    "from nltk.corpus import stopwords"
   ]
  },
  {
   "cell_type": "code",
   "execution_count": 15,
   "id": "e4ba63ff",
   "metadata": {},
   "outputs": [
    {
     "name": "stderr",
     "output_type": "stream",
     "text": [
      "<>:7: SyntaxWarning: invalid escape sequence '\\['\n",
      "<>:9: SyntaxWarning: invalid escape sequence '\\w'\n",
      "<>:12: SyntaxWarning: invalid escape sequence '\\S'\n",
      "<>:7: SyntaxWarning: invalid escape sequence '\\['\n",
      "<>:9: SyntaxWarning: invalid escape sequence '\\w'\n",
      "<>:12: SyntaxWarning: invalid escape sequence '\\S'\n",
      "/var/folders/jf/21x3yjzs0ygd_0ttzq2sq0zm0000gn/T/ipykernel_61298/189891491.py:7: SyntaxWarning: invalid escape sequence '\\['\n",
      "  text = re.sub('\\[.*?\\]', '', text)\n",
      "/var/folders/jf/21x3yjzs0ygd_0ttzq2sq0zm0000gn/T/ipykernel_61298/189891491.py:9: SyntaxWarning: invalid escape sequence '\\w'\n",
      "  text = re.sub('\\w*\\d\\w*', '', text)\n",
      "/var/folders/jf/21x3yjzs0ygd_0ttzq2sq0zm0000gn/T/ipykernel_61298/189891491.py:12: SyntaxWarning: invalid escape sequence '\\S'\n",
      "  text = re.sub('http\\S+|www\\S+|https\\S+', '', text, flags=re.MULTILINE)\n"
     ]
    },
    {
     "data": {
      "text/html": [
       "<div>\n",
       "<style scoped>\n",
       "    .dataframe tbody tr th:only-of-type {\n",
       "        vertical-align: middle;\n",
       "    }\n",
       "\n",
       "    .dataframe tbody tr th {\n",
       "        vertical-align: top;\n",
       "    }\n",
       "\n",
       "    .dataframe thead th {\n",
       "        text-align: right;\n",
       "    }\n",
       "</style>\n",
       "<table border=\"1\" class=\"dataframe\">\n",
       "  <thead>\n",
       "    <tr style=\"text-align: right;\">\n",
       "      <th></th>\n",
       "      <th>ID</th>\n",
       "      <th>Gene</th>\n",
       "      <th>Variation</th>\n",
       "      <th>Class</th>\n",
       "      <th>Text</th>\n",
       "      <th>Cleaned_Text</th>\n",
       "    </tr>\n",
       "  </thead>\n",
       "  <tbody>\n",
       "    <tr>\n",
       "      <th>0</th>\n",
       "      <td>0</td>\n",
       "      <td>fam58a</td>\n",
       "      <td>truncating_mutations</td>\n",
       "      <td>1</td>\n",
       "      <td>cyclin-dependent kinases (cdks) regulate a var...</td>\n",
       "      <td>cyclindependent kinases cdks regulate variety ...</td>\n",
       "    </tr>\n",
       "    <tr>\n",
       "      <th>1</th>\n",
       "      <td>1</td>\n",
       "      <td>cbl</td>\n",
       "      <td>w802*</td>\n",
       "      <td>2</td>\n",
       "      <td>abstract background  non-small cell lung canc...</td>\n",
       "      <td>abstract background nonsmall cell lung cancer ...</td>\n",
       "    </tr>\n",
       "    <tr>\n",
       "      <th>2</th>\n",
       "      <td>2</td>\n",
       "      <td>cbl</td>\n",
       "      <td>q249e</td>\n",
       "      <td>2</td>\n",
       "      <td>abstract background  non-small cell lung canc...</td>\n",
       "      <td>abstract background nonsmall cell lung cancer ...</td>\n",
       "    </tr>\n",
       "  </tbody>\n",
       "</table>\n",
       "</div>"
      ],
      "text/plain": [
       "   ID    Gene             Variation  Class  \\\n",
       "0   0  fam58a  truncating_mutations      1   \n",
       "1   1     cbl                 w802*      2   \n",
       "2   2     cbl                 q249e      2   \n",
       "\n",
       "                                                Text  \\\n",
       "0  cyclin-dependent kinases (cdks) regulate a var...   \n",
       "1   abstract background  non-small cell lung canc...   \n",
       "2   abstract background  non-small cell lung canc...   \n",
       "\n",
       "                                        Cleaned_Text  \n",
       "0  cyclindependent kinases cdks regulate variety ...  \n",
       "1  abstract background nonsmall cell lung cancer ...  \n",
       "2  abstract background nonsmall cell lung cancer ...  "
      ]
     },
     "execution_count": 15,
     "metadata": {},
     "output_type": "execute_result"
    }
   ],
   "source": [
    "# remove stop words, punctuations, special characters, numbers etc  \n",
    "import re\n",
    "import string   \n",
    "from nltk.corpus import stopwords\n",
    "stop_words = set(stopwords.words('english'))\n",
    "def clean_text(text):\n",
    "    text = re.sub('\\[.*?\\]', '', text)\n",
    "    text = re.sub('[%s]' % re.escape(string.punctuation), '', text)\n",
    "    text = re.sub('\\w*\\d\\w*', '', text)\n",
    "    text = re.sub('[''\"\"…]', '', text)\n",
    "    text = re.sub('\\n', '', text)\n",
    "    text = re.sub('http\\S+|www\\S+|https\\S+', '', text, flags=re.MULTILINE)\n",
    "    text = re.sub(r'\\S*@\\S*\\s?', '', text)\n",
    "    text = re.sub(r'\\s+', ' ', text).strip()\n",
    "    text = ' '.join(word for word in text.split() if word not in stop_words)\n",
    "    return text\n",
    "#df['Text'] = df['Text'].apply(clean_text)\n",
    "df['Cleaned_Text'] = df['Text'].apply(clean_text)\n",
    "\n",
    "df.head(3)\n"
   ]
  },
  {
   "cell_type": "code",
   "execution_count": 16,
   "id": "48344b77",
   "metadata": {},
   "outputs": [],
   "source": [
    "# Lemmatiztion\n",
    "# lemmatization\n",
    "import nltk\n",
    "from nltk.stem import WordNetLemmatizer\n",
    "from nltk.corpus import wordnet\n",
    "\n",
    "lemmatizer = WordNetLemmatizer()\n",
    "\n",
    "def lemma(text):\n",
    "    y = []\n",
    "    for i in text.split():\n",
    "        y.append(lemmatizer.lemmatize(i))  \n",
    "    return \" \".join(y)\n",
    "\n"
   ]
  },
  {
   "cell_type": "code",
   "execution_count": 17,
   "id": "4fa10d75",
   "metadata": {},
   "outputs": [],
   "source": [
    "df['Cleaned_Text'] = df['Cleaned_Text'].apply(lemma)"
   ]
  },
  {
   "cell_type": "code",
   "execution_count": 18,
   "id": "a5cca057",
   "metadata": {},
   "outputs": [
    {
     "data": {
      "text/html": [
       "<div>\n",
       "<style scoped>\n",
       "    .dataframe tbody tr th:only-of-type {\n",
       "        vertical-align: middle;\n",
       "    }\n",
       "\n",
       "    .dataframe tbody tr th {\n",
       "        vertical-align: top;\n",
       "    }\n",
       "\n",
       "    .dataframe thead th {\n",
       "        text-align: right;\n",
       "    }\n",
       "</style>\n",
       "<table border=\"1\" class=\"dataframe\">\n",
       "  <thead>\n",
       "    <tr style=\"text-align: right;\">\n",
       "      <th></th>\n",
       "      <th>ID</th>\n",
       "      <th>Gene</th>\n",
       "      <th>Variation</th>\n",
       "      <th>Class</th>\n",
       "      <th>Text</th>\n",
       "      <th>Cleaned_Text</th>\n",
       "    </tr>\n",
       "  </thead>\n",
       "  <tbody>\n",
       "    <tr>\n",
       "      <th>0</th>\n",
       "      <td>0</td>\n",
       "      <td>fam58a</td>\n",
       "      <td>truncating_mutations</td>\n",
       "      <td>1</td>\n",
       "      <td>cyclin-dependent kinases (cdks) regulate a var...</td>\n",
       "      <td>cyclindependent kinase cdks regulate variety f...</td>\n",
       "    </tr>\n",
       "    <tr>\n",
       "      <th>1</th>\n",
       "      <td>1</td>\n",
       "      <td>cbl</td>\n",
       "      <td>w802*</td>\n",
       "      <td>2</td>\n",
       "      <td>abstract background  non-small cell lung canc...</td>\n",
       "      <td>abstract background nonsmall cell lung cancer ...</td>\n",
       "    </tr>\n",
       "    <tr>\n",
       "      <th>2</th>\n",
       "      <td>2</td>\n",
       "      <td>cbl</td>\n",
       "      <td>q249e</td>\n",
       "      <td>2</td>\n",
       "      <td>abstract background  non-small cell lung canc...</td>\n",
       "      <td>abstract background nonsmall cell lung cancer ...</td>\n",
       "    </tr>\n",
       "    <tr>\n",
       "      <th>3</th>\n",
       "      <td>3</td>\n",
       "      <td>cbl</td>\n",
       "      <td>n454d</td>\n",
       "      <td>3</td>\n",
       "      <td>recent evidence has demonstrated that acquired...</td>\n",
       "      <td>recent evidence demonstrated acquired uniparen...</td>\n",
       "    </tr>\n",
       "    <tr>\n",
       "      <th>4</th>\n",
       "      <td>4</td>\n",
       "      <td>cbl</td>\n",
       "      <td>l399v</td>\n",
       "      <td>4</td>\n",
       "      <td>oncogenic mutations in the monomeric casitas b...</td>\n",
       "      <td>oncogenic mutation monomeric casitas blineage ...</td>\n",
       "    </tr>\n",
       "  </tbody>\n",
       "</table>\n",
       "</div>"
      ],
      "text/plain": [
       "   ID    Gene             Variation  Class  \\\n",
       "0   0  fam58a  truncating_mutations      1   \n",
       "1   1     cbl                 w802*      2   \n",
       "2   2     cbl                 q249e      2   \n",
       "3   3     cbl                 n454d      3   \n",
       "4   4     cbl                 l399v      4   \n",
       "\n",
       "                                                Text  \\\n",
       "0  cyclin-dependent kinases (cdks) regulate a var...   \n",
       "1   abstract background  non-small cell lung canc...   \n",
       "2   abstract background  non-small cell lung canc...   \n",
       "3  recent evidence has demonstrated that acquired...   \n",
       "4  oncogenic mutations in the monomeric casitas b...   \n",
       "\n",
       "                                        Cleaned_Text  \n",
       "0  cyclindependent kinase cdks regulate variety f...  \n",
       "1  abstract background nonsmall cell lung cancer ...  \n",
       "2  abstract background nonsmall cell lung cancer ...  \n",
       "3  recent evidence demonstrated acquired uniparen...  \n",
       "4  oncogenic mutation monomeric casitas blineage ...  "
      ]
     },
     "execution_count": 18,
     "metadata": {},
     "output_type": "execute_result"
    }
   ],
   "source": [
    "df.head(5)"
   ]
  },
  {
   "cell_type": "code",
   "execution_count": 19,
   "id": "0e4cbd41",
   "metadata": {},
   "outputs": [
    {
     "data": {
      "text/plain": [
       "\"cyclin-dependent kinases (cdks) regulate a variety of fundamental cellular processes. cdk10 stands out as one of the last orphan cdks for which no activating cyclin has been identified and no kinase activity revealed. previous work has shown that cdk10 silencing increases ets2 (v-ets erythroblastosis virus e26 oncogene homolog 2)-driven activation of the mapk pathway, which confers tamoxifen resistance to breast cancer cells. the precise mechanisms by which cdk10 modulates ets2 activity, and more generally the functions of cdk10, remain elusive. here we demonstrate that cdk10 is a cyclin-dependent kinase by identifying cyclin m as an activating cyclin. cyclin m, an orphan cyclin, is the product of fam58a, whose mutations cause star syndrome, a human developmental anomaly whose features include toe syndactyly, telecanthus, and anogenital and renal malformations. we show that star syndrome-associated cyclin m mutants are unable to interact with cdk10. cyclin m silencing phenocopies cdk10 silencing in increasing c-raf and in conferring tamoxifen resistance to breast cancer cells. cdk10/cyclin m phosphorylates ets2 in vitro, and in cells it positively controls ets2 degradation by the proteasome. ets2 protein levels are increased in cells derived from a star patient, and this increase is attributable to decreased cyclin m levels. altogether, our results reveal an additional regulatory mechanism for ets2, which plays key roles in cancer and development. they also shed light on the molecular mechanisms underlying star syndrome.cyclin-dependent kinases (cdks) play a pivotal role in the control of a number of fundamental cellular processes (1). the human genome contains 21 genes encoding proteins that can be considered as members of the cdk family owing to their sequence similarity with bona fide cdks, those known to be activated by cyclins (2). although discovered almost 20 y ago (3, 4), cdk10 remains one of the two cdks without an identified cyclin partner. this knowledge gap has largely impeded the exploration of its biological functions. cdk10 can act as a positive cell cycle regulator in some cells (5, 6) or as a tumor suppressor in others (7, 8). cdk10 interacts with the ets2 (v-ets erythroblastosis virus e26 oncogene homolog 2) transcription factor and inhibits its transcriptional activity through an unknown mechanism (9). cdk10 knockdown derepresses ets2, which increases the expression of the c-raf protein kinase, activates the mapk pathway, and induces resistance of mcf7 cells to tamoxifen (6).here, we deorphanize cdk10 by identifying cyclin m, the product of fam58a, as a binding partner. mutations in this gene that predict absence or truncation of cyclin m are associated with star syndrome, whose features include toe syndactyly, telecanthus, and anogenital and renal malformations in heterozygous females (10). however, both the functions of cyclin m and the pathogenesis of star syndrome remain unknown. we show that a recombinant cdk10/cyclin m heterodimer is an active protein kinase that phosphorylates ets2 in vitro. cyclin m silencing phenocopies cdk10 silencing in increasing c-raf and phospho-erk expression levels and in inducing tamoxifen resistance in estrogen receptor (er)+ breast cancer cells. we show that cdk10/cyclin m positively controls ets2 degradation by the proteasome, through the phosphorylation of two neighboring serines. finally, we detect an increased ets2 expression level in cells derived from a star patient, and we demonstrate that it is attributable to the decreased cyclin m expression level observed in these cells.previous sectionnext sectionresultsa yeast two-hybrid (y2h) screen unveiled an interaction signal between cdk10 and a mouse protein whose c-terminal half presents a strong sequence homology with the human fam58a gene product [whose proposed name is cyclin m (11)]. we thus performed y2h mating assays to determine whether human cdk10 interacts with human cyclin m (fig. 1 a–c). the longest cdk10 isoform (p1) expressed as a bait protein produced a strong interaction phenotype with full-length cyclin m (expressed as a prey protein) but no detectable phenotype with cyclin d1, p21 (cip1), and cdi1 (kap), which are known binding partners of other cdks (fig. 1b). cdk1 and cdk3 also produced y2h signals with cyclin m, albeit notably weaker than that observed with cdk10 (fig. 1b). an interaction phenotype was also observed between full-length cyclin m and cdk10 proteins expressed as bait and prey, respectively (fig. s1a). we then tested different isoforms of cdk10 and cyclin m originating from alternative gene splicing, and two truncated cyclin m proteins corresponding to the hypothetical products of two mutated fam58a genes found in star syndrome patients (10). none of these shorter isoforms produced interaction phenotypes (fig. 1 a and c and fig. s1a).fig. 1.in a new window download pptfig. 1.cdk10 and cyclin m form an interaction complex. (a) schematic representation of the different protein isoforms analyzed by y2h assays. amino acid numbers are indicated. black boxes indicate internal deletions. the red box indicates a differing amino acid sequence compared with cdk10 p1. (b) y2h assay between a set of cdk proteins expressed as baits (in fusion to the lexa dna binding domain) and cdk interacting proteins expressed as preys (in fusion to the b42 transcriptional activator). peg202 and pjg4-5 are the empty bait and prey plasmids expressing lexa and b42, respectively. lacz was used as a reporter gene, and blue yeast are indicative of a y2h interaction phenotype. (c) y2h assay between the different cdk10 and cyclin m isoforms. the amino-terminal region of ets2, known to interact with cdk10 (9), was also assayed. (d) western blot analysis of myc-cdk10 (wt or kd) and cycm-v5-6his expression levels in transfected hek293 cells. (e) western blot analysis of myc-cdk10 (wt or kd) immunoprecipitates obtained using the anti-myc antibody. “inputs” correspond to 10 μg total lysates obtained from hek293 cells coexpressing myc-cdk10 (wt or kd) and cycm-v5-6his. (f) western blot analysis of immunoprecipitates obtained using the anti-cdk10 antibody or a control goat antibody, from human breast cancer mcf7 cells. “input” corresponds to 30 μg mcf7 total cell lysates. the lower band of the doublet observed on the upper panel comigrates with the exogenously expressed untagged cdk10 and thus corresponds to endogenous cdk10. the upper band of the doublet corresponds to a nonspecific signal, as demonstrated by it insensitivity to either overexpression of cdk10 (as seen on the left lane) or silencing of cdk10 (fig. s2b). another experiment with a longer gel migration is shown in fig. s1d.next we examined the ability of cdk10 and cyclin m to interact when expressed in human cells (fig. 1 d and e). we tested wild-type cdk10 (wt) and a kinase dead (kd) mutant bearing a d181a amino acid substitution that abolishes atp binding (12). we expressed cyclin m-v5-6his and/or myc-cdk10 (wt or kd) in a human embryonic kidney cell line (hek293). the expression level of cyclin m-v5-6his was significantly increased upon coexpression with myc-cdk10 (wt or kd) and, to a lesser extent, that of myc-cdk10 (wt or kd) was increased upon coexpression with cyclin m-v5-6his (fig. 1d). we then immunoprecipitated myc-cdk10 proteins and detected the presence of cyclin m in the cdk10 (wt) and (kd) immunoprecipitates only when these proteins were coexpressed pair-wise (fig. 1e). we confirmed these observations by detecting the presence of myc-cdk10 in cyclin m-v5-6his immunoprecipitates (fig. s1b). these experiments confirmed the lack of robust interaction between the cdk10.p2 isoform and cyclin m (fig. s1c). to detect the interaction between endogenous proteins, we performed immunoprecipitations on nontransfected mcf7 cells derived from a human breast cancer. cdk10 and cyclin m antibodies detected their cognate endogenous proteins by western blotting. we readily detected cyclin m in immunoprecipitates obtained with the cdk10 antibody but not with a control antibody (fig. 1f). these results confirm the physical interaction between cdk10 and cyclin m in human cells.to unveil a hypothesized cdk10/cyclin m protein kinase activity, we produced gst-cdk10 and strepii-cyclin m fusion proteins in insect cells, either individually or in combination. we observed that gst-cdk10 and strepii-cyclin m copurified, thus confirming their interaction in yet another cellular model (fig. 2a). we then performed in vitro kinase assays with purified proteins, using histone h1 as a generic substrate. histone h1 phosphorylation was detected only from lysates of cells coexpressing gst-cdk10 and strepii-cyclin m. no phosphorylation was detected when gst-cdk10 or strepii-cyclin m were expressed alone, or when strepii-cyclin m was coexpressed with gst-cdk10(kd) (fig. 2a). next we investigated whether ets2, which is known to interact with cdk10 (9) (fig. 1c), is a phosphorylation substrate of cdk10/cyclin m. we detected strong phosphorylation of ets2 by the gst-cdk10/strepii-cyclin m purified heterodimer, whereas no phosphorylation was detected using gst-cdk10 alone or gst-cdk10(kd)/strepii-cyclin m heterodimer (fig. 2b).fig. 2.in a new window download pptfig. 2.cdk10 is a cyclin m-dependent protein kinase. (a) in vitro protein kinase assay on histone h1. lysates from insect cells expressing different proteins were purified on a glutathione sepharose matrix to capture gst-cdk10(wt or kd) fusion proteins alone, or in complex with str-cycm fusion protein. purified protein expression levels were analyzed by western blots (top and upper middle). the kinase activity was determined by autoradiography of histone h1, whose added amounts were visualized by coomassie staining (lower middle and bottom). (b) same as in a, using purified recombinant 6his-ets2 as a substrate.cdk10 silencing has been shown to increase ets2-driven c-raf transcription and to activate the mapk pathway (6). we investigated whether cyclin m is also involved in this regulatory pathway. to aim at a highly specific silencing, we used sirna pools (mix of four different sirnas) at low final concentration (10 nm). both cdk10 and cyclin m sirna pools silenced the expression of their cognate targets (fig. 3 a and c and fig. s2) and, interestingly, the cyclin m sirna pool also caused a marked decrease in cdk10 protein level (fig. 3a and fig. s2b). these results, and those shown in fig. 1d, suggest that cyclin m binding stabilizes cdk10. cyclin m silencing induced an increase in c-raf protein and mrna levels (fig. 3 b and c) and in phosphorylated erk1 and erk2 protein levels (fig. s3b), similarly to cdk10 silencing. as expected from these effects (6), cdk10 and cyclin m silencing both decreased the sensitivity of er+ mcf7 cells to tamoxifen, to a similar extent. the combined silencing of both genes did not result in a higher resistance to the drug (fig. s3c). altogether, these observations demonstrate a functional interaction between cyclin m and cdk10, which negatively controls ets2.fig. 3.in a new window download pptfig. 3.cyclin m silencing up-regulates c-raf expression. (a) western blot analysis of endogenous cdk10 and cyclin m expression levels in mcf7 cells, in response to sirna-mediated gene silencing. (b) western blot analysis of endogenous c-raf expression levels in mcf7 cells, in response to cdk10 or cyclin m silencing. a quantification is shown in fig. s3a. (c) quantitative rt-pcr analysis of cdk10, cyclin m, and c-raf mrna levels, in response to cdk10 (upper) or cyclin m (lower) silencing. **p ≤ 0.01; ***p ≤ 0.001.we then wished to explore the mechanism by which cdk10/cyclin m controls ets2. ets2 is a short-lived protein degraded by the proteasome (13). a straightforward hypothesis is that cdk10/cyclin m positively controls ets2 degradation. we thus examined the impact of cdk10 or cyclin m silencing on ets2 expression levels. the silencing of cdk10 and that of cyclin m caused an increase in the expression levels of an exogenously expressed flag-ets2 protein (fig. s4a), as well as of the endogenous ets2 protein (fig. 4a). this increase is not attributable to increased ets2 mrna levels, which marginally fluctuated in response to cdk10 or cyclin m silencing (fig. s4b). we then examined the expression levels of the flag-tagged ets2 protein when expressed alone or in combination with myc-cdk10 or -cdk10(kd), with or without cyclin m-v5-6his. flag-ets2 was readily detected when expressed alone or, to a lesser extent, when coexpressed with cdk10(kd). however, its expression level was dramatically decreased when coexpressed with cdk10 alone, or with cdk10 and cyclin m (fig. 4b). these observations suggest that endogenous cyclin m levels are in excess compared with those of cdk10 in mcf7 cells, and they show that the major decrease in ets2 levels observed upon cdk10 coexpression involves cdk10 kinase activity. treatment of cells coexpressing flag-ets2, cdk10, and cyclin m with the proteasome inhibitor mg132 largely rescued flag-ets2 expression levels (fig. 4b).fig. 4.in a new window download pptfig. 4.cdk10/cyclin m controls ets2 stability in human cancer derived cells. (a) western blot analysis of endogenous ets2 expression levels in mcf7 cells, in response to sirna-mediated cdk10 and/or cyclin m silencing. a quantification is shown in fig. s4b. (b) western blot analysis of exogenously expressed flag-ets2 protein levels in mcf7 cells cotransfected with empty vectors or coexpressing myc-cdk10 (wt or kd), or myc-cdk10/cycm-v5-6his. the latter cells were treated for 16 h with the mg132 proteasome inhibitor. proper expression of cdk10 and cyclin m tagged proteins was verified by western blot analysis. (c and d) western blot analysis of expression levels of exogenously expressed flag-ets2 wild-type or mutant proteins in mcf7 cells, in the absence of (c) or in response to (d) myc-cdk10/cycm-v5-6his expression. quantifications are shown in fig. s4 c and d.a mass spectrometry analysis of recombinant ets2 phosphorylated by cdk10/cyclin m in vitro revealed the existence of multiple phosphorylated residues, among which are two neighboring phospho-serines (at positions 220 and 225) that may form a phosphodegron (14) (figs. s5–s8). to confirm this finding, we compared the phosphorylation level of recombinant ets2wt with that of ets2sasa protein, a mutant bearing alanine substitutions of these two serines. as expected from the existence of multiple phosphorylation sites, we detected a small but reproducible, significant decrease of phosphorylation level of ets2sasa compared with ets2wt (fig. s9), thus confirming that ser220/ser225 are phosphorylated by cdk10/cyclin m. to establish a direct link between ets2 phosphorylation by cdk10/cyclin m and degradation, we examined the expression levels of flag-ets2sasa. in the absence of cdk10/cyclin m coexpression, it did not differ significantly from that of flag-ets2. this is contrary to that of flag-ets2dbm, bearing a deletion of the n-terminal destruction (d-) box that was previously shown to be involved in apc-cdh1–mediated degradation of ets2 (13) (fig. 4c). however, contrary to flag-ets2 wild type, the expression level of flag-ets2sasa remained insensitive to cdk10/cyclin m coexpression (fig. 4d). altogether, these results suggest that cdk10/cyclin m directly controls ets2 degradation through the phosphorylation of these two serines.finally, we studied a lymphoblastoid cell line derived from a patient with star syndrome, bearing fam58a mutation c.555+1g>a, predicted to result in aberrant splicing (10). in accordance with incomplete skewing of x chromosome inactivation previously found in this patient, we detected a decreased expression level of cyclin m protein in the star cell line, compared with a control lymphoblastoid cell line. in line with our preceding observations, we detected an increased expression level of ets2 protein in the star cell line compared with the control (fig. 5a and fig. s10a). we then examined by quantitative rt-pcr the mrna expression levels of the corresponding genes. the star cell line showed a decreased expression level of cyclin m mrna but an expression level of ets2 mrna similar to that of the control cell line (fig. 5b). to demonstrate that the increase in ets2 protein expression is indeed a result of the decreased cyclin m expression observed in the star patient-derived cell line, we expressed cyclin m-v5-6his in this cell line. this expression caused a decrease in ets2 protein levels (fig. 5c).fig. 5.in a new window download pptfig. 5.decreased cyclin m expression in star patient-derived cells results in increased ets2 protein level. (a) western blot analysis of cyclin m and ets2 protein levels in a star patient-derived lymphoblastoid cell line and in a control lymphoblastoid cell line, derived from a healthy individual. a quantification is shown in fig. s10a. (b) quantitative rt-pcr analysis of cyclin m and ets2 mrna levels in the same cells. ***p ≤ 0.001. (c) western blot analysis of ets2 protein levels in the star patient-derived lymphoblastoid cell line transfected with an empty vector or a vector directing the expression of cyclin m-v5-6his. another western blot revealing endogenously and exogenously expressed cyclin m levels is shown in fig. s10b. a quantification of ets2 protein levels is shown in fig. s10c.previous sectionnext sectiondiscussionin this work, we unveil the interaction between cdk10, the last orphan cdk discovered in the pregenomic era (2), and cyclin m, the only cyclin associated with a human genetic disease so far, and whose functions remain unknown (10). the closest paralogs of cdk10 within the cdk family are the cdk11 proteins, which interact with l-type cyclins (15). interestingly, the closest paralog of these cyclins within the cyclin family is cyclin m (fig. s11). the fact that none of the shorter cdk10 isoforms interact robustly with cyclin m suggests that alternative splicing of the cdk10 gene (16, 17) plays an important role in regulating cdk10 functions.the functional relevance of the interaction between cdk10 and cyclin m is supported by different observations. both proteins seem to enhance each other’s stability, as judged from their increased expression levels when their partner is exogenously coexpressed (fig. 1d) and from the much reduced endogenous cdk10 expression level observed in response to cyclin m silencing (fig. 3a and fig. s2b). cdk10 is subject to ubiquitin-mediated degradation (18). our observations suggest that cyclin m protects cdk10 from such degradation and that it is the only cyclin partner of cdk10, at least in mcf7 cells. they also suggest that cyclin m stability is enhanced upon binding to cdk10, independently from its kinase activity, as seen for cyclin c and cdk8 (19). we uncover a cyclin m-dependent cdk10 protein kinase activity in vitro, thus demonstrating that this protein, which was named a cdk on the sole basis of its amino acid sequence, is indeed a genuine cyclin-dependent kinase. our y2h assays reveal that truncated cyclin m proteins corresponding to the hypothetical products of two star syndrome-associated fam58a mutations do not produce an interaction phenotype with cdk10. hence, regardless of whether these mutated mrnas undergo nonsense-mediated decay (as suggested from the decreased cyclin m mrna levels in star cells, shown in fig. 5b) or give rise to truncated cyclin m proteins, females affected by the star syndrome must exhibit compromised cdk10/cyclin m kinase activity at least in some tissues and during specific developmental stages.we show that ets2, a known interactor of cdk10, is a phosphorylation substrate of cdk10/cyclin m in vitro and that cdk10/cyclin m kinase activity positively controls ets2 degradation by the proteasome. this control seems to be exerted through a very fine mechanism, as judged from the sensitivity of ets2 levels to partially decreased cdk10 and cyclin m levels, achieved in mcf7 cells and observed in star cells, respectively. these findings offer a straightforward explanation for the already reported up-regulation of ets2-driven transcription of c-raf in response to cdk10 silencing (6). we bring evidence that cdk10/cyclin m directly controls ets2 degradation through the phosphorylation of two neighboring serines, which may form a noncanonical β-trcp phosphodegron (dsmcpas) (14). because none of these two serines precede a proline, they do not conform to usual cdk phosphorylation sites. however, multiple so-called transcriptional cdks (cdk7, -8, -9, and -11) (to which cdk10 may belong; fig. s11) have been shown to phosphorylate a variety of motifs in a non–proline-directed fashion, especially in the context of molecular docking with the substrate (20). here, it can be hypothesized that the high-affinity interaction between cdk10 and the pointed domain of ets2 (6, 9) (fig. 1c) would allow docking-mediated phosphorylation of atypical sites. the control of ets2 degradation involves a number of players, including apc-cdh1 (13) and the cullin-ring ligase crl4 (21). the formal identification of the ubiquitin ligase involved in the cdk10/cyclin m pathway and the elucidation of its concerted action with the other ubiquitin ligases to regulate ets2 degradation will require further studies.our results present a number of significant biological and medical implications. first, they shed light on the regulation of ets2, which plays an important role in development (22) and is frequently deregulated in many cancers (23). second, our results contribute to the understanding of the molecular mechanisms causing tamoxifen resistance associated with reduced cdk10 expression levels, and they suggest that, like cdk10 (6), cyclin m could also be a predictive clinical marker of hormone therapy response of erα-positive breast cancer patients. third, our findings offer an interesting hypothesis on the molecular mechanisms underlying star syndrome. ets2 transgenic mice showing a less than twofold overexpression of ets2 present severe cranial abnormalities (24), and those observed in star patients could thus be caused at least in part by increased ets2 protein levels. another expected consequence of enhanced ets2 expression levels would be a decreased risk to develop certain types of cancers and an increased risk to develop others. studies on various mouse models (including models of down syndrome, in which three copies of ets2 exist) have revealed that ets2 dosage can repress or promote tumor growth and, hence, that ets2 exerts noncell autonomous functions in cancer (25). intringuingly, one of the very few star patients identified so far has been diagnosed with a nephroblastoma (26). finally, our findings will facilitate the general exploration of the biological functions of cdk10 and, in particular, its role in the control of cell division. previous studies have suggested either a positive role in cell cycle control (5, 6) or a tumor-suppressive activity in some cancers (7, 8). the severe growth retardation exhibited by star patients strongly suggests that cdk10/cyclin m plays an important role in the control of cell proliferation.previous sectionnext sectionmaterials and methodscloning of cdk10 and cyclin m cdnas, plasmid constructions, tamoxifen response analysis, quantitative rt-pcr, mass spectrometry experiments, and antibody production are detailed in si materials and methods.yeast two-hybrid interaction assays. we performed yeast interaction mating assays as previously described (27).mammalian cell cultures and transfections. we grew human hek293 and mcf7 cells in dmem supplemented with 10% (vol/vol) fbs (invitrogen), and we grew lymphoblastoid cells in rpmi 1640 glutamax supplemented with 15% (vol/vol) fbs. we transfected hek293 and mcf7 cells using lipofectamine 2000 (invitrogen) for plasmids, lipofectamine rnaimax (invitrogen) for sirnas, and jetprime (polyplus) for plasmids/sirnas combinations according to the manufacturers’ instructions. we transfected lymphoblastoid cells by electroporation (neon, invitrogen). for ets2 stability studies we treated mcf7 cells 32 h after transfection with 10 μm mg132 (fisher scientific) for 16 h.coimmunoprecipitation and western blot experiments. we collected cells by scraping in pbs (or centrifugation for lymphoblastoid cells) and lysed them by sonication in a lysis buffer containing 60 mm β-glycerophosphate, 15 mm p-nitrophenylphosphate, 25 mm 3-(n-morpholino)propanesulfonic acid (mops) (ph 7.2), 15 mm egta, 15 mm mgcl2, 1 mm na vanadate, 1 mm naf, 1mm phenylphosphate, 0.1% nonidet p-40, and a protease inhibitor mixture (roche). we spun the lysates 15 min at 20,000 × g at 4 °c, collected the supernatants, and determined the protein content using a bradford assay. we performed the immunoprecipitation experiments on 500 μg of total proteins, in lysis buffer. we precleared the lysates with 20 μl of protein a or g-agarose beads, incubated 1 h 4 °c on a rotating wheel. we added 5 μg of antibody to the supernatants, incubated 1 h 4 °c on a rotating wheel, added 20 μl of protein a or g-agarose beads, and incubated 1 h 4 °c on a rotating wheel. we collected the beads by centrifugation 30 s at 18,000 × g at 4 °c and washed three times in a bead buffer containing 50 mm tris (ph 7.4), 5 mm naf, 250 mm nacl, 5 mm edta, 5 mm egta, 0.1% nonidet p-40, and a protease inhibitor coktail (roche). we directly added sample buffer to the washed pellets, heat-denatured the proteins, and ran the samples on 10% bis-tris sds/page. we transferred the proteins onto hybond nitrocellulose membranes and processed the blots according to standard procedures. for western blot experiments, we used the following primary antibodies: anti-myc (abcam ab9106, 1:2,000), anti-v5 (invitrogen r960, 1:5,000), anti-tubulin (santa cruz biotechnology b-7, 1:500), anti-cdk10 (covalab pab0847p, 1:500 or santa cruz biotechnology c-19, 1:500), anti-cycm (home-made, dilution 1:500 or covalab pab0882-p, dilution 1:500), anti-raf1 (santa cruz biotechnology c-20, 1:1,000), anti-ets2 (santa cruz biotechnology c-20, 1:1,000), anti-flag (sigma f7425, 1:1,000), and anti-actin (sigma a5060, 1:5,000). we used hrp-coupled anti-goat (santa cruz biotechnology sc-2033, dilution 1:2,000), anti-mouse (bio-rad 170–6516, dilution 1:3,000) or anti-rabbit (bio-rad 172–1019, 1:5,000) as secondary antibodies. we revealed the blots by enhanced chemiluminescence (supersignal west femto, thermo scientific).production and purification of recombinant proteins.gst-cdk10(kd)/strepii-cycm. we generated recombinant bacmids in dh10bac escherichia coli and baculoviruses in sf9 cells using the bac-to-bac system, as described by the provider (invitrogen). we infected sf9 cells with gst-cdk10- (or gst-cdk10kd)-producing viruses, or coinfected the cells with strepii-cycm–producing viruses, and we collected the cells 72 h after infection. to purify gst-fusion proteins, we spun 250 ml cells and resuspended the pellet in 40 ml lysis buffer (pbs, 250 mm nacl, 0.5% nonidet p-40, 50 mm naf, 10 mm β-glycerophosphate, and 0.3 mm na-vanadate) containing a protease inhibitor mixture (roche). we lysed the cells by sonication, spun the lysate 30 min at 15,000 × g, collected the soluble fraction, and added it to a 1-ml glutathione-sepharose matrix. we incubated 1 h at 4 °c, washed four times with lysis buffer, one time with kinase buffer a (see below), and finally resuspended the beads in 100 μl kinase buffer a containing 10% (vol/vol) glycerol for storage.6his-ets2. we transformed origami2 de3 (novagen) with the 6his-ets2 expression vector. we induced expression with 0.2 mm isopropyl-β-d-1-thiogalactopyranoside for 3 h at 22 °c. to purify 6his-ets2, we spun 50 ml cells and resuspended the pellet in 2 ml lysis buffer (pbs, 300 mm nacl, 10 mm imidazole, 1 mm dtt, and 0.1% nonidet p-40) containing a protease inhibitor mixture without edta (roche). we lysed the cells at 1.6 bar using a cell disruptor and spun the lysate 10 min at 20,000 × g. we collected the soluble fraction and added it to 200 μl cobalt beads (thermo scientific). after 1 h incubation at 4 °c on a rotating wheel, we washed four times with lysis buffer. to elute, we incubated beads 30 min with elution buffer (pbs, 250 mm imidazole, ph 7.6) containing the protease inhibitor mixture, spun 30 s at 10,000 × g, and collected the eluted protein.protein kinase assays. we mixed glutathione-sepharose beads (harboring gst-cdk10 wt or kd, either monomeric or complexed with strepii-cycm), 22.7 μm bsa, 15 mm dtt, 100 μm atp, 5 μci atp[γ-32p], 7.75 μm histone h1, or 1 μm 6his-ets2 and added kinase buffer a (25 mm tris·hcl, 10 mm mgcl2, 1 mm egta, 1 mm dtt, and 3.7 μm heparin, ph 7.5) up to a total volume of 30 μl. we incubated the reactions 30 min at 30 °c, added laemli sample buffer, heat-denatured the samples, and ran 10% bis-tris sds/page. we cut gel slices to detect gst-cdk10 and strepii-cycm by western blotting. we stained the gel slices containing the substrate with coomassie (r-250, bio-rad), dried them, and detected the incorporated radioactivity by autoradiography. we identified four unrelated girls with anogenital and renal malformations, dysmorphic facial features, normal intellect and syndactyly of toes. a similar combination of features had been reported previously in a mother–daughter pair1 (table 1 and supplementary note online). these authors noted clinical overlap with townes-brocks syndrome but suggested that the phenotype represented a separate autosomal dominant entity (mim601446). here we define the cardinal features of this syndrome as a characteristic facial appearance with apparent telecanthus and broad tripartite nasal tip, variable syndactyly of toes 2–5, hypoplastic labia, anal atresia and urogenital malformations (fig. 1a–h). we also observed a variety of other features (table 1).  figure 1: clinical and molecular characterization of star syndrome.  figure 1 : clinical and molecular characterization of star syndrome. (a–f) facial appearances of cases 1–3 (apparent telecanthus, dysplastic ears and thin upper lips; a,c,e), and toe syndactyly 2–5, 3–5 or 4–5 (b,d,f) in these cases illustrate recognizable features of star syndrome (specific parental consent has been obtained for publication of these photographs). anal atresia and hypoplastic labia are not shown. (g,h) x-ray films of the feet of case 2 showing only four rays on the left and delta-shaped 4th and 5th metatarsals on the right (h; compare to clinical picture in d). (i) array-cgh data. log2 ratio represents copy number loss of six probes spanning between 37.9 and 50.7 kb, with one probe positioned within fam58a. the deletion does not remove parts of other functional genes. (j) schematic structure of fam58a and position of the mutations. fam58a has five coding exons (boxes). the cyclin domain (green) is encoded by exons 2–4. the horizontal arrow indicates the deletion extending 5' in case 1, which includes exons 1 and 2, whereas the horizontal line below exon 5 indicates the deletion found in case 3, which removes exon 5 and some 3' sequence. the pink horizontal bars above the boxes indicate the amplicons used for qpcr and sequencing (one alternative exon 5 amplicon is not indicated because of space constraints). the mutation 201dupt (case 4) results in an immediate stop codon, and the 555+1g>a and 555-1g>a splice mutations in cases 2, 5 and 6 are predicted to be deleterious because they alter the conserved splice donor and acceptor site of intron 4, respectively.  full size image (97 kb)  table 1: clinical features in star syndrome cases  table 1 - clinical features in star syndrome cases  full table  on the basis of the phenotypic overlap with townes-brocks, okihiro and feingold syndromes, we analyzed sall1 (ref. 2), sall4 (ref. 3) and mycn4 but found no mutations in any of these genes (supplementary methods online). next, we carried out genome-wide high-resolution oligonucleotide array comparative genomic hybridization (cgh)5 analysis (supplementary methods) of genomic dna from the most severely affected individual (case 1, with lower lid coloboma, epilepsy and syringomyelia) and identified a heterozygous deletion of 37.9–50.7 kb on xq28, which removed exons 1 and 2 of fam58a (fig. 1i,j). using real-time pcr, we confirmed the deletion in the child and excluded it in her unaffected parents (supplementary fig. 1a online, supplementary methods and supplementary table 1 online). through cgh with a customized oligonucleotide array enriched in probes for xq28, followed by breakpoint cloning, we defined the exact deletion size as 40,068 bp (g.152,514,164_152,554,231del(chromosome x, ncbi build 36.2); fig. 1j and supplementary figs. 2,3 online). the deletion removes the coding regions of exons 1 and 2 as well as intron 1 (2,774 bp), 492 bp of intron 2, and 36,608 bp of 5' sequence, including the 5' utr and the entire krt18p48 pseudogene (ncbi gene id 340598). paternity was proven using routine methods. we did not find deletions overlapping fam58a in the available copy number variation (cnv) databases.  subsequently, we carried out qpcr analysis of the three other affected individuals (cases 2, 3 and 4) and the mother-daughter pair from the literature (cases 5 and 6). in case 3, we detected a de novo heterozygous deletion of 1.1–10.3 kb overlapping exon 5 (supplementary fig. 1b online). using xq28-targeted array cgh and breakpoint cloning, we identified a deletion of 4,249 bp (g.152,504,123_152,508,371del(chromosome x, ncbi build 36.2); fig. 1j and supplementary figs. 2,3), which removed 1,265 bp of intron 4, all of exon 5, including the 3' utr, and 2,454 bp of 3' sequence.  we found heterozygous fam58a point mutations in the remaining cases (fig. 1j, supplementary fig. 2, supplementary methods and supplementary table 1). in case 2, we identified the mutation 555+1g>a, affecting the splice donor site of intron 4. in case 4, we identified the frameshift mutation 201dupt, which immediately results in a premature stop codon n68xfsx1. in cases 5 and 6, we detected the mutation 556-1g>a, which alters the splice acceptor site of intron 4. we validated the point mutations and deletions by independent rounds of pcr and sequencing or by qpcr. we confirmed paternity and de novo status of the point mutations and deletions in all sporadic cases. none of the mutations were seen in the dna of 60 unaffected female controls, and no larger deletions involving fam58a were found in 93 unrelated array-cgh investigations.  by analyzing x-chromosome inactivation (supplementary methods and supplementary fig. 4 online), we found complete skewing of x inactivation in cases 1 and 3–6 and almost complete skewing in case 2, suggesting that cells carrying the mutation on the active x chromosome have a growth disadvantage during fetal development. using rt-pcr on rna from lymphoblastoid cells of case 2 (supplementary fig. 2), we did not find any aberrant splice products as additional evidence that the mutated allele is inactivated. furthermore, fam58a is subjected to x inactivation6. in cases 1 and 3, the parental origin of the deletions could not be determined, as a result of lack of informative snps. case 5, the mother of case 6, gave birth to two boys, both clinically unaffected (samples not available). we cannot exclude that the condition is lethal in males. no fetal losses were reported from any of the families.  the function of fam58a is unknown. the gene consists of five coding exons, and the 642-bp coding region encodes a protein of 214 amino acids. genbank lists a mrna length of 1,257 bp for the reference sequence (nm_152274.2). expression of the gene (by est data) was found in 27 of 48 adult tissues including kidney, colon, cervix and uterus, but not heart (ncbi expression viewer, unigene hs.496943). expression was also noted in 24 of 26 listed tumor tissues as well as in embryo and fetus. genes homologous to fam58a (ncbi homologene: 13362) are found on the x chromosome in the chimpanzee and the dog. the zebrafish has a similar gene on chromosome 23. however, in the mouse and rat, there are no true homologs. these species have similar but intronless genes on chromosomes 11 (mouse) and 10 (rat), most likely arising from a retrotransposon insertion event. on the murine x chromosome, the flanking genes atp2b3 and dusp9 are conserved, but only remnants of the fam58a sequence can be detected.  fam58a contains a cyclin-box-fold domain, a protein-binding domain found in cyclins with a role in cell cycle and transcription control. no human phenotype resulting from a cyclin gene mutation has yet been reported. homozygous knockout mice for ccnd1 (encoding cyclin d1) are viable but small and have reduced lifespan. they also have dystrophic changes of the retina, likely as a result of decreased cell proliferation and degeneration of photoreceptor cells during embryogenesis7, 8.  cyclin d1 colocalizes with sall4 in the nucleus, and both proteins cooperatively mediate transcriptional repression9. as the phenotype of our cases overlaps considerably with that of townes-brocks syndrome caused by sall1 mutations1, we carried out co-immunoprecipitation to find out if sall1 or sall4 would interact with fam58a in a manner similar to that observed for sall4 and cyclin d1. we found that fam58a interacts with sall1 but not with sall4 (supplementary fig. 5 online), supporting the hypothesis that fam58a and sall1 participate in the same developmental pathway.  how do fam58a mutations lead to star syndrome? growth retardation (all cases; table 1) and retinal abnormalities (three cases) are reminiscent of the reduced body size and retinal anomalies in cyclin d1 knockout mice7, 8. therefore, a proliferation defect might be partly responsible for star syndrome. to address this question, we carried out a knockdown of fam58a mrna followed by a proliferation assay. transfection of hek293 cells with three different fam58a-specific rnai oligonucleotides resulted in a significant reduction of both fam58a mrna expression and proliferation of transfected cells (supplementary methods and supplementary fig. 6 online), supporting the link between fam58a and cell proliferation.  we found that loss-of-function mutations of fam58a result in a rather homogeneous clinical phenotype. the additional anomalies in case 1 are likely to result from an effect of the 40-kb deletion on expression of a neighboring gene, possibly atp2b3 or dusp9. however, we cannot exclude that the homogeneous phenotype results from an ascertainment bias and that fam58a mutations, including missense changes, could result in a broader spectrum of malformations. the genes causing the overlapping phenotypes of star syndrome and townes-brocks syndrome seem to act in the same pathway. of note, mycn, a gene mutated in feingold syndrome, is a direct regulator of cyclin d2 (refs. 10,11); thus, it is worth exploring whether the phenotypic similarities between feingold and star syndrome might be explained by direct regulation of fam58a by mycn.  fam58a is located approximately 0.56 mb centromeric to mecp2 on xq28. duplications overlapping both mecp2 and fam58a have been described and are not associated with a clinical phenotype in females12, but no deletions overlapping both mecp2 and fam58a have been observed to date13. although other genes between fam58a and mecp2 have been implicated in brain development, fam58a and mecp2 are the only genes in this region known to result in x-linked dominant phenotypes; thus, deletion of both genes on the same allele might be lethal in both males and females.\""
      ]
     },
     "execution_count": 19,
     "metadata": {},
     "output_type": "execute_result"
    }
   ],
   "source": [
    "df['Text'][0]"
   ]
  },
  {
   "cell_type": "code",
   "execution_count": 20,
   "id": "53833d81",
   "metadata": {},
   "outputs": [
    {
     "data": {
      "text/html": [
       "<div>\n",
       "<style scoped>\n",
       "    .dataframe tbody tr th:only-of-type {\n",
       "        vertical-align: middle;\n",
       "    }\n",
       "\n",
       "    .dataframe tbody tr th {\n",
       "        vertical-align: top;\n",
       "    }\n",
       "\n",
       "    .dataframe thead th {\n",
       "        text-align: right;\n",
       "    }\n",
       "</style>\n",
       "<table border=\"1\" class=\"dataframe\">\n",
       "  <thead>\n",
       "    <tr style=\"text-align: right;\">\n",
       "      <th></th>\n",
       "      <th>ID</th>\n",
       "      <th>Gene</th>\n",
       "      <th>Variation</th>\n",
       "      <th>Text</th>\n",
       "      <th>Cleaned_Text</th>\n",
       "      <th>Class</th>\n",
       "    </tr>\n",
       "  </thead>\n",
       "  <tbody>\n",
       "    <tr>\n",
       "      <th>0</th>\n",
       "      <td>0</td>\n",
       "      <td>fam58a</td>\n",
       "      <td>truncating_mutations</td>\n",
       "      <td>cyclin-dependent kinases (cdks) regulate a var...</td>\n",
       "      <td>cyclindependent kinase cdks regulate variety f...</td>\n",
       "      <td>1</td>\n",
       "    </tr>\n",
       "    <tr>\n",
       "      <th>1</th>\n",
       "      <td>1</td>\n",
       "      <td>cbl</td>\n",
       "      <td>w802*</td>\n",
       "      <td>abstract background  non-small cell lung canc...</td>\n",
       "      <td>abstract background nonsmall cell lung cancer ...</td>\n",
       "      <td>2</td>\n",
       "    </tr>\n",
       "    <tr>\n",
       "      <th>2</th>\n",
       "      <td>2</td>\n",
       "      <td>cbl</td>\n",
       "      <td>q249e</td>\n",
       "      <td>abstract background  non-small cell lung canc...</td>\n",
       "      <td>abstract background nonsmall cell lung cancer ...</td>\n",
       "      <td>2</td>\n",
       "    </tr>\n",
       "  </tbody>\n",
       "</table>\n",
       "</div>"
      ],
      "text/plain": [
       "   ID    Gene             Variation  \\\n",
       "0   0  fam58a  truncating_mutations   \n",
       "1   1     cbl                 w802*   \n",
       "2   2     cbl                 q249e   \n",
       "\n",
       "                                                Text  \\\n",
       "0  cyclin-dependent kinases (cdks) regulate a var...   \n",
       "1   abstract background  non-small cell lung canc...   \n",
       "2   abstract background  non-small cell lung canc...   \n",
       "\n",
       "                                        Cleaned_Text  Class  \n",
       "0  cyclindependent kinase cdks regulate variety f...      1  \n",
       "1  abstract background nonsmall cell lung cancer ...      2  \n",
       "2  abstract background nonsmall cell lung cancer ...      2  "
      ]
     },
     "execution_count": 20,
     "metadata": {},
     "output_type": "execute_result"
    }
   ],
   "source": [
    "df = df[['ID', 'Gene', 'Variation', 'Text','Cleaned_Text', 'Class']]\n",
    "df.head(3)\n"
   ]
  },
  {
   "cell_type": "code",
   "execution_count": 21,
   "id": "ed5ac5bf",
   "metadata": {},
   "outputs": [
    {
     "data": {
      "text/plain": [
       "Class\n",
       "7    952\n",
       "4    686\n",
       "1    566\n",
       "2    452\n",
       "6    273\n",
       "5    242\n",
       "3     89\n",
       "9     37\n",
       "8     19\n",
       "Name: count, dtype: int64"
      ]
     },
     "execution_count": 21,
     "metadata": {},
     "output_type": "execute_result"
    }
   ],
   "source": [
    "df['Class'].value_counts()"
   ]
  },
  {
   "cell_type": "code",
   "execution_count": 22,
   "id": "0a5f7881",
   "metadata": {},
   "outputs": [],
   "source": [
    "from sklearn.model_selection import train_test_split\n",
    "x= df.drop(['Class','ID','Text'],axis=1)\n",
    "y = df['Class']"
   ]
  },
  {
   "cell_type": "code",
   "execution_count": 23,
   "id": "f3d38b66",
   "metadata": {},
   "outputs": [],
   "source": [
    "x_train, x_test, y_train, y_test = train_test_split(x, y, test_size=0.2, random_state=42,stratify=y)"
   ]
  },
  {
   "cell_type": "code",
   "execution_count": 24,
   "id": "c7d20a40",
   "metadata": {},
   "outputs": [],
   "source": [
    "# label encoding\n",
    "from sklearn.preprocessing import LabelEncoder\n",
    "le_gene = LabelEncoder()\n",
    "le_var = LabelEncoder()\n",
    "x['Gene'] = le_gene.fit_transform(x['Gene'])\n",
    "x['Variation'] = le_var.fit_transform(x['Variation'])"
   ]
  },
  {
   "cell_type": "code",
   "execution_count": 25,
   "id": "128aa976",
   "metadata": {},
   "outputs": [],
   "source": [
    "import pickle\n",
    "# Save the label encoders to a file\n",
    "with open('le_gene.pkl', 'wb') as f:\n",
    "    pickle.dump(le_gene, f)\n",
    "\n",
    "with open('le_var.pkl', 'wb') as f:\n",
    "    pickle.dump(le_var, f)"
   ]
  },
  {
   "cell_type": "code",
   "execution_count": 26,
   "id": "c09bff8d",
   "metadata": {},
   "outputs": [
    {
     "data": {
      "text/html": [
       "<div>\n",
       "<style scoped>\n",
       "    .dataframe tbody tr th:only-of-type {\n",
       "        vertical-align: middle;\n",
       "    }\n",
       "\n",
       "    .dataframe tbody tr th {\n",
       "        vertical-align: top;\n",
       "    }\n",
       "\n",
       "    .dataframe thead th {\n",
       "        text-align: right;\n",
       "    }\n",
       "</style>\n",
       "<table border=\"1\" class=\"dataframe\">\n",
       "  <thead>\n",
       "    <tr style=\"text-align: right;\">\n",
       "      <th></th>\n",
       "      <th>Gene</th>\n",
       "      <th>Variation</th>\n",
       "      <th>Cleaned_Text</th>\n",
       "    </tr>\n",
       "  </thead>\n",
       "  <tbody>\n",
       "    <tr>\n",
       "      <th>68</th>\n",
       "      <td>rheb</td>\n",
       "      <td>y35n</td>\n",
       "      <td>gene encoding component signaling axis frequen...</td>\n",
       "    </tr>\n",
       "    <tr>\n",
       "      <th>2222</th>\n",
       "      <td>pten</td>\n",
       "      <td>k128n</td>\n",
       "      <td>pten phosphatase tensin homolog phosphatase un...</td>\n",
       "    </tr>\n",
       "  </tbody>\n",
       "</table>\n",
       "</div>"
      ],
      "text/plain": [
       "      Gene Variation                                       Cleaned_Text\n",
       "68    rheb      y35n  gene encoding component signaling axis frequen...\n",
       "2222  pten     k128n  pten phosphatase tensin homolog phosphatase un..."
      ]
     },
     "execution_count": 26,
     "metadata": {},
     "output_type": "execute_result"
    }
   ],
   "source": [
    "x_train.head(2)"
   ]
  },
  {
   "cell_type": "code",
   "execution_count": 27,
   "id": "9d02b5ab",
   "metadata": {},
   "outputs": [],
   "source": [
    "# tf-idf vectorization\n",
    "from sklearn.feature_extraction.text import TfidfVectorizer\n",
    "tfidf = TfidfVectorizer(max_features=5000)\n",
    "tfidf.fit(df['Cleaned_Text'])\n",
    "x_train_tfidf = tfidf.transform(x_train['Cleaned_Text']).toarray()\n",
    "x_test_tfidf = tfidf.transform(x_test['Cleaned_Text']).toarray()\n"
   ]
  },
  {
   "cell_type": "code",
   "execution_count": 28,
   "id": "9c702e36",
   "metadata": {},
   "outputs": [],
   "source": [
    "# Save the tfidf vectorizer to a file\n",
    "with open('tfidf.pkl', 'wb') as f:\n",
    "    pickle.dump(tfidf, f)"
   ]
  },
  {
   "cell_type": "code",
   "execution_count": 29,
   "id": "d8b5e540",
   "metadata": {},
   "outputs": [
    {
     "data": {
      "text/html": [
       "<div>\n",
       "<style scoped>\n",
       "    .dataframe tbody tr th:only-of-type {\n",
       "        vertical-align: middle;\n",
       "    }\n",
       "\n",
       "    .dataframe tbody tr th {\n",
       "        vertical-align: top;\n",
       "    }\n",
       "\n",
       "    .dataframe thead th {\n",
       "        text-align: right;\n",
       "    }\n",
       "</style>\n",
       "<table border=\"1\" class=\"dataframe\">\n",
       "  <thead>\n",
       "    <tr style=\"text-align: right;\">\n",
       "      <th></th>\n",
       "      <th>Gene</th>\n",
       "      <th>Variation</th>\n",
       "      <th>Cleaned_Text</th>\n",
       "    </tr>\n",
       "  </thead>\n",
       "  <tbody>\n",
       "    <tr>\n",
       "      <th>68</th>\n",
       "      <td>rheb</td>\n",
       "      <td>y35n</td>\n",
       "      <td>gene encoding component signaling axis frequen...</td>\n",
       "    </tr>\n",
       "    <tr>\n",
       "      <th>2222</th>\n",
       "      <td>pten</td>\n",
       "      <td>k128n</td>\n",
       "      <td>pten phosphatase tensin homolog phosphatase un...</td>\n",
       "    </tr>\n",
       "  </tbody>\n",
       "</table>\n",
       "</div>"
      ],
      "text/plain": [
       "      Gene Variation                                       Cleaned_Text\n",
       "68    rheb      y35n  gene encoding component signaling axis frequen...\n",
       "2222  pten     k128n  pten phosphatase tensin homolog phosphatase un..."
      ]
     },
     "execution_count": 29,
     "metadata": {},
     "output_type": "execute_result"
    }
   ],
   "source": [
    "x_train.head(2)"
   ]
  },
  {
   "cell_type": "code",
   "execution_count": 30,
   "id": "2513d5d7",
   "metadata": {},
   "outputs": [
    {
     "name": "stdout",
     "output_type": "stream",
     "text": [
      "(2652, 5000)\n"
     ]
    }
   ],
   "source": [
    "x_train_tfidf\n",
    "print(x_train_tfidf.shape)\n"
   ]
  },
  {
   "cell_type": "code",
   "execution_count": 31,
   "id": "4bda2621",
   "metadata": {},
   "outputs": [
    {
     "name": "stdout",
     "output_type": "stream",
     "text": [
      "Number of unique words in the corpus: 5000\n",
      "['aa' 'aacr' 'ab' ... 'μl' 'μm' 'μmoll']\n"
     ]
    }
   ],
   "source": [
    "unique_words = tfidf.get_feature_names_out()\n",
    "print(\"Number of unique words in the corpus:\", len(unique_words))\n",
    "print(unique_words)"
   ]
  },
  {
   "cell_type": "code",
   "execution_count": 32,
   "id": "0f0d3058",
   "metadata": {},
   "outputs": [
    {
     "data": {
      "text/html": [
       "<div>\n",
       "<style scoped>\n",
       "    .dataframe tbody tr th:only-of-type {\n",
       "        vertical-align: middle;\n",
       "    }\n",
       "\n",
       "    .dataframe tbody tr th {\n",
       "        vertical-align: top;\n",
       "    }\n",
       "\n",
       "    .dataframe thead th {\n",
       "        text-align: right;\n",
       "    }\n",
       "</style>\n",
       "<table border=\"1\" class=\"dataframe\">\n",
       "  <thead>\n",
       "    <tr style=\"text-align: right;\">\n",
       "      <th></th>\n",
       "      <th>aa</th>\n",
       "      <th>aacr</th>\n",
       "      <th>ab</th>\n",
       "      <th>abbreviation</th>\n",
       "      <th>abc</th>\n",
       "      <th>abcam</th>\n",
       "      <th>abd</th>\n",
       "      <th>abdominal</th>\n",
       "      <th>aberrant</th>\n",
       "      <th>aberrantly</th>\n",
       "      <th>...</th>\n",
       "      <th>βgalactosidase</th>\n",
       "      <th>βsheet</th>\n",
       "      <th>γphosphate</th>\n",
       "      <th>γsecretase</th>\n",
       "      <th>δbraf</th>\n",
       "      <th>μg</th>\n",
       "      <th>μgml</th>\n",
       "      <th>μl</th>\n",
       "      <th>μm</th>\n",
       "      <th>μmoll</th>\n",
       "    </tr>\n",
       "  </thead>\n",
       "  <tbody>\n",
       "    <tr>\n",
       "      <th>0</th>\n",
       "      <td>0.0</td>\n",
       "      <td>0.0</td>\n",
       "      <td>0.0</td>\n",
       "      <td>0.0</td>\n",
       "      <td>0.0</td>\n",
       "      <td>0.0</td>\n",
       "      <td>0.0</td>\n",
       "      <td>0.0</td>\n",
       "      <td>0.001251</td>\n",
       "      <td>0.0</td>\n",
       "      <td>...</td>\n",
       "      <td>0.0</td>\n",
       "      <td>0.0</td>\n",
       "      <td>0.067933</td>\n",
       "      <td>0.0</td>\n",
       "      <td>0.0</td>\n",
       "      <td>0.005056</td>\n",
       "      <td>0.0</td>\n",
       "      <td>0.007272</td>\n",
       "      <td>0.003815</td>\n",
       "      <td>0.0</td>\n",
       "    </tr>\n",
       "    <tr>\n",
       "      <th>1</th>\n",
       "      <td>0.0</td>\n",
       "      <td>0.0</td>\n",
       "      <td>0.0</td>\n",
       "      <td>0.0</td>\n",
       "      <td>0.0</td>\n",
       "      <td>0.0</td>\n",
       "      <td>0.0</td>\n",
       "      <td>0.0</td>\n",
       "      <td>0.000000</td>\n",
       "      <td>0.0</td>\n",
       "      <td>...</td>\n",
       "      <td>0.0</td>\n",
       "      <td>0.0</td>\n",
       "      <td>0.000000</td>\n",
       "      <td>0.0</td>\n",
       "      <td>0.0</td>\n",
       "      <td>0.000000</td>\n",
       "      <td>0.0</td>\n",
       "      <td>0.000000</td>\n",
       "      <td>0.000000</td>\n",
       "      <td>0.0</td>\n",
       "    </tr>\n",
       "  </tbody>\n",
       "</table>\n",
       "<p>2 rows × 5000 columns</p>\n",
       "</div>"
      ],
      "text/plain": [
       "    aa  aacr   ab  abbreviation  abc  abcam  abd  abdominal  aberrant  \\\n",
       "0  0.0   0.0  0.0           0.0  0.0    0.0  0.0        0.0  0.001251   \n",
       "1  0.0   0.0  0.0           0.0  0.0    0.0  0.0        0.0  0.000000   \n",
       "\n",
       "   aberrantly  ...  βgalactosidase  βsheet  γphosphate  γsecretase  δbraf  \\\n",
       "0         0.0  ...             0.0     0.0    0.067933         0.0    0.0   \n",
       "1         0.0  ...             0.0     0.0    0.000000         0.0    0.0   \n",
       "\n",
       "         μg  μgml        μl        μm  μmoll  \n",
       "0  0.005056   0.0  0.007272  0.003815    0.0  \n",
       "1  0.000000   0.0  0.000000  0.000000    0.0  \n",
       "\n",
       "[2 rows x 5000 columns]"
      ]
     },
     "execution_count": 32,
     "metadata": {},
     "output_type": "execute_result"
    }
   ],
   "source": [
    "df_train = pd.DataFrame(x_train_tfidf, columns=unique_words)\n",
    "df_train.head(2)"
   ]
  },
  {
   "cell_type": "code",
   "execution_count": 33,
   "id": "84792855",
   "metadata": {},
   "outputs": [
    {
     "data": {
      "text/plain": [
       "(2652, 5000)"
      ]
     },
     "execution_count": 33,
     "metadata": {},
     "output_type": "execute_result"
    }
   ],
   "source": [
    "df_train.shape"
   ]
  },
  {
   "cell_type": "code",
   "execution_count": 34,
   "id": "41c1202b",
   "metadata": {},
   "outputs": [
    {
     "data": {
      "text/html": [
       "<div>\n",
       "<style scoped>\n",
       "    .dataframe tbody tr th:only-of-type {\n",
       "        vertical-align: middle;\n",
       "    }\n",
       "\n",
       "    .dataframe tbody tr th {\n",
       "        vertical-align: top;\n",
       "    }\n",
       "\n",
       "    .dataframe thead th {\n",
       "        text-align: right;\n",
       "    }\n",
       "</style>\n",
       "<table border=\"1\" class=\"dataframe\">\n",
       "  <thead>\n",
       "    <tr style=\"text-align: right;\">\n",
       "      <th></th>\n",
       "      <th>aa</th>\n",
       "      <th>aacr</th>\n",
       "      <th>ab</th>\n",
       "      <th>abbreviation</th>\n",
       "      <th>abc</th>\n",
       "      <th>abcam</th>\n",
       "      <th>abd</th>\n",
       "      <th>abdominal</th>\n",
       "      <th>aberrant</th>\n",
       "      <th>aberrantly</th>\n",
       "      <th>...</th>\n",
       "      <th>βgalactosidase</th>\n",
       "      <th>βsheet</th>\n",
       "      <th>γphosphate</th>\n",
       "      <th>γsecretase</th>\n",
       "      <th>δbraf</th>\n",
       "      <th>μg</th>\n",
       "      <th>μgml</th>\n",
       "      <th>μl</th>\n",
       "      <th>μm</th>\n",
       "      <th>μmoll</th>\n",
       "    </tr>\n",
       "  </thead>\n",
       "  <tbody>\n",
       "    <tr>\n",
       "      <th>0</th>\n",
       "      <td>0.0</td>\n",
       "      <td>0.0</td>\n",
       "      <td>0.0</td>\n",
       "      <td>0.004855</td>\n",
       "      <td>0.0</td>\n",
       "      <td>0.0</td>\n",
       "      <td>0.0</td>\n",
       "      <td>0.0</td>\n",
       "      <td>0.0</td>\n",
       "      <td>0.0</td>\n",
       "      <td>...</td>\n",
       "      <td>0.0</td>\n",
       "      <td>0.0</td>\n",
       "      <td>0.0</td>\n",
       "      <td>0.0</td>\n",
       "      <td>0.0</td>\n",
       "      <td>0.006431</td>\n",
       "      <td>0.01424</td>\n",
       "      <td>0.0074</td>\n",
       "      <td>0.009706</td>\n",
       "      <td>0.0</td>\n",
       "    </tr>\n",
       "    <tr>\n",
       "      <th>1</th>\n",
       "      <td>0.0</td>\n",
       "      <td>0.0</td>\n",
       "      <td>0.0</td>\n",
       "      <td>0.000000</td>\n",
       "      <td>0.0</td>\n",
       "      <td>0.0</td>\n",
       "      <td>0.0</td>\n",
       "      <td>0.0</td>\n",
       "      <td>0.0</td>\n",
       "      <td>0.0</td>\n",
       "      <td>...</td>\n",
       "      <td>0.0</td>\n",
       "      <td>0.0</td>\n",
       "      <td>0.0</td>\n",
       "      <td>0.0</td>\n",
       "      <td>0.0</td>\n",
       "      <td>0.000000</td>\n",
       "      <td>0.00000</td>\n",
       "      <td>0.0000</td>\n",
       "      <td>0.019918</td>\n",
       "      <td>0.0</td>\n",
       "    </tr>\n",
       "  </tbody>\n",
       "</table>\n",
       "<p>2 rows × 5000 columns</p>\n",
       "</div>"
      ],
      "text/plain": [
       "    aa  aacr   ab  abbreviation  abc  abcam  abd  abdominal  aberrant  \\\n",
       "0  0.0   0.0  0.0      0.004855  0.0    0.0  0.0        0.0       0.0   \n",
       "1  0.0   0.0  0.0      0.000000  0.0    0.0  0.0        0.0       0.0   \n",
       "\n",
       "   aberrantly  ...  βgalactosidase  βsheet  γphosphate  γsecretase  δbraf  \\\n",
       "0         0.0  ...             0.0     0.0         0.0         0.0    0.0   \n",
       "1         0.0  ...             0.0     0.0         0.0         0.0    0.0   \n",
       "\n",
       "         μg     μgml      μl        μm  μmoll  \n",
       "0  0.006431  0.01424  0.0074  0.009706    0.0  \n",
       "1  0.000000  0.00000  0.0000  0.019918    0.0  \n",
       "\n",
       "[2 rows x 5000 columns]"
      ]
     },
     "execution_count": 34,
     "metadata": {},
     "output_type": "execute_result"
    }
   ],
   "source": [
    "df_test = pd.DataFrame(x_test_tfidf, columns=unique_words)\n",
    "df_test.head(2)"
   ]
  },
  {
   "cell_type": "code",
   "execution_count": 35,
   "id": "b57cde85",
   "metadata": {},
   "outputs": [
    {
     "data": {
      "text/html": [
       "<div>\n",
       "<style scoped>\n",
       "    .dataframe tbody tr th:only-of-type {\n",
       "        vertical-align: middle;\n",
       "    }\n",
       "\n",
       "    .dataframe tbody tr th {\n",
       "        vertical-align: top;\n",
       "    }\n",
       "\n",
       "    .dataframe thead th {\n",
       "        text-align: right;\n",
       "    }\n",
       "</style>\n",
       "<table border=\"1\" class=\"dataframe\">\n",
       "  <thead>\n",
       "    <tr style=\"text-align: right;\">\n",
       "      <th></th>\n",
       "      <th>aa</th>\n",
       "      <th>aacr</th>\n",
       "      <th>ab</th>\n",
       "      <th>abbreviation</th>\n",
       "      <th>abc</th>\n",
       "      <th>abcam</th>\n",
       "      <th>abd</th>\n",
       "      <th>abdominal</th>\n",
       "      <th>aberrant</th>\n",
       "      <th>aberrantly</th>\n",
       "      <th>...</th>\n",
       "      <th>βgalactosidase</th>\n",
       "      <th>βsheet</th>\n",
       "      <th>γphosphate</th>\n",
       "      <th>γsecretase</th>\n",
       "      <th>δbraf</th>\n",
       "      <th>μg</th>\n",
       "      <th>μgml</th>\n",
       "      <th>μl</th>\n",
       "      <th>μm</th>\n",
       "      <th>μmoll</th>\n",
       "    </tr>\n",
       "  </thead>\n",
       "  <tbody>\n",
       "    <tr>\n",
       "      <th>0</th>\n",
       "      <td>0.0</td>\n",
       "      <td>0.0</td>\n",
       "      <td>0.0</td>\n",
       "      <td>0.0</td>\n",
       "      <td>0.0</td>\n",
       "      <td>0.0</td>\n",
       "      <td>0.0</td>\n",
       "      <td>0.0</td>\n",
       "      <td>0.001251</td>\n",
       "      <td>0.0</td>\n",
       "      <td>...</td>\n",
       "      <td>0.0</td>\n",
       "      <td>0.0</td>\n",
       "      <td>0.067933</td>\n",
       "      <td>0.0</td>\n",
       "      <td>0.0</td>\n",
       "      <td>0.005056</td>\n",
       "      <td>0.0</td>\n",
       "      <td>0.007272</td>\n",
       "      <td>0.003815</td>\n",
       "      <td>0.0</td>\n",
       "    </tr>\n",
       "    <tr>\n",
       "      <th>1</th>\n",
       "      <td>0.0</td>\n",
       "      <td>0.0</td>\n",
       "      <td>0.0</td>\n",
       "      <td>0.0</td>\n",
       "      <td>0.0</td>\n",
       "      <td>0.0</td>\n",
       "      <td>0.0</td>\n",
       "      <td>0.0</td>\n",
       "      <td>0.000000</td>\n",
       "      <td>0.0</td>\n",
       "      <td>...</td>\n",
       "      <td>0.0</td>\n",
       "      <td>0.0</td>\n",
       "      <td>0.000000</td>\n",
       "      <td>0.0</td>\n",
       "      <td>0.0</td>\n",
       "      <td>0.000000</td>\n",
       "      <td>0.0</td>\n",
       "      <td>0.000000</td>\n",
       "      <td>0.000000</td>\n",
       "      <td>0.0</td>\n",
       "    </tr>\n",
       "  </tbody>\n",
       "</table>\n",
       "<p>2 rows × 5000 columns</p>\n",
       "</div>"
      ],
      "text/plain": [
       "    aa  aacr   ab  abbreviation  abc  abcam  abd  abdominal  aberrant  \\\n",
       "0  0.0   0.0  0.0           0.0  0.0    0.0  0.0        0.0  0.001251   \n",
       "1  0.0   0.0  0.0           0.0  0.0    0.0  0.0        0.0  0.000000   \n",
       "\n",
       "   aberrantly  ...  βgalactosidase  βsheet  γphosphate  γsecretase  δbraf  \\\n",
       "0         0.0  ...             0.0     0.0    0.067933         0.0    0.0   \n",
       "1         0.0  ...             0.0     0.0    0.000000         0.0    0.0   \n",
       "\n",
       "         μg  μgml        μl        μm  μmoll  \n",
       "0  0.005056   0.0  0.007272  0.003815    0.0  \n",
       "1  0.000000   0.0  0.000000  0.000000    0.0  \n",
       "\n",
       "[2 rows x 5000 columns]"
      ]
     },
     "execution_count": 35,
     "metadata": {},
     "output_type": "execute_result"
    }
   ],
   "source": [
    "df_train.head(2)"
   ]
  },
  {
   "cell_type": "code",
   "execution_count": 36,
   "id": "e7e2d445",
   "metadata": {},
   "outputs": [
    {
     "data": {
      "text/html": [
       "<div>\n",
       "<style scoped>\n",
       "    .dataframe tbody tr th:only-of-type {\n",
       "        vertical-align: middle;\n",
       "    }\n",
       "\n",
       "    .dataframe tbody tr th {\n",
       "        vertical-align: top;\n",
       "    }\n",
       "\n",
       "    .dataframe thead th {\n",
       "        text-align: right;\n",
       "    }\n",
       "</style>\n",
       "<table border=\"1\" class=\"dataframe\">\n",
       "  <thead>\n",
       "    <tr style=\"text-align: right;\">\n",
       "      <th></th>\n",
       "      <th>aa</th>\n",
       "      <th>aacr</th>\n",
       "      <th>ab</th>\n",
       "      <th>abbreviation</th>\n",
       "      <th>abc</th>\n",
       "      <th>abcam</th>\n",
       "      <th>abd</th>\n",
       "      <th>abdominal</th>\n",
       "      <th>aberrant</th>\n",
       "      <th>aberrantly</th>\n",
       "      <th>...</th>\n",
       "      <th>βgalactosidase</th>\n",
       "      <th>βsheet</th>\n",
       "      <th>γphosphate</th>\n",
       "      <th>γsecretase</th>\n",
       "      <th>δbraf</th>\n",
       "      <th>μg</th>\n",
       "      <th>μgml</th>\n",
       "      <th>μl</th>\n",
       "      <th>μm</th>\n",
       "      <th>μmoll</th>\n",
       "    </tr>\n",
       "  </thead>\n",
       "  <tbody>\n",
       "    <tr>\n",
       "      <th>0</th>\n",
       "      <td>0.0</td>\n",
       "      <td>0.0</td>\n",
       "      <td>0.0</td>\n",
       "      <td>0.004855</td>\n",
       "      <td>0.0</td>\n",
       "      <td>0.0</td>\n",
       "      <td>0.0</td>\n",
       "      <td>0.0</td>\n",
       "      <td>0.0</td>\n",
       "      <td>0.0</td>\n",
       "      <td>...</td>\n",
       "      <td>0.0</td>\n",
       "      <td>0.0</td>\n",
       "      <td>0.0</td>\n",
       "      <td>0.0</td>\n",
       "      <td>0.0</td>\n",
       "      <td>0.006431</td>\n",
       "      <td>0.01424</td>\n",
       "      <td>0.0074</td>\n",
       "      <td>0.009706</td>\n",
       "      <td>0.0</td>\n",
       "    </tr>\n",
       "    <tr>\n",
       "      <th>1</th>\n",
       "      <td>0.0</td>\n",
       "      <td>0.0</td>\n",
       "      <td>0.0</td>\n",
       "      <td>0.000000</td>\n",
       "      <td>0.0</td>\n",
       "      <td>0.0</td>\n",
       "      <td>0.0</td>\n",
       "      <td>0.0</td>\n",
       "      <td>0.0</td>\n",
       "      <td>0.0</td>\n",
       "      <td>...</td>\n",
       "      <td>0.0</td>\n",
       "      <td>0.0</td>\n",
       "      <td>0.0</td>\n",
       "      <td>0.0</td>\n",
       "      <td>0.0</td>\n",
       "      <td>0.000000</td>\n",
       "      <td>0.00000</td>\n",
       "      <td>0.0000</td>\n",
       "      <td>0.019918</td>\n",
       "      <td>0.0</td>\n",
       "    </tr>\n",
       "  </tbody>\n",
       "</table>\n",
       "<p>2 rows × 5000 columns</p>\n",
       "</div>"
      ],
      "text/plain": [
       "    aa  aacr   ab  abbreviation  abc  abcam  abd  abdominal  aberrant  \\\n",
       "0  0.0   0.0  0.0      0.004855  0.0    0.0  0.0        0.0       0.0   \n",
       "1  0.0   0.0  0.0      0.000000  0.0    0.0  0.0        0.0       0.0   \n",
       "\n",
       "   aberrantly  ...  βgalactosidase  βsheet  γphosphate  γsecretase  δbraf  \\\n",
       "0         0.0  ...             0.0     0.0         0.0         0.0    0.0   \n",
       "1         0.0  ...             0.0     0.0         0.0         0.0    0.0   \n",
       "\n",
       "         μg     μgml      μl        μm  μmoll  \n",
       "0  0.006431  0.01424  0.0074  0.009706    0.0  \n",
       "1  0.000000  0.00000  0.0000  0.019918    0.0  \n",
       "\n",
       "[2 rows x 5000 columns]"
      ]
     },
     "execution_count": 36,
     "metadata": {},
     "output_type": "execute_result"
    }
   ],
   "source": [
    "df_test.head(2)"
   ]
  },
  {
   "cell_type": "code",
   "execution_count": 37,
   "id": "d70081b1",
   "metadata": {},
   "outputs": [
    {
     "data": {
      "text/plain": [
       "(2652, 5000)"
      ]
     },
     "execution_count": 37,
     "metadata": {},
     "output_type": "execute_result"
    }
   ],
   "source": [
    "df_train.shape"
   ]
  },
  {
   "cell_type": "code",
   "execution_count": 38,
   "id": "3a5dbb87",
   "metadata": {},
   "outputs": [
    {
     "data": {
      "text/html": [
       "<div>\n",
       "<style scoped>\n",
       "    .dataframe tbody tr th:only-of-type {\n",
       "        vertical-align: middle;\n",
       "    }\n",
       "\n",
       "    .dataframe tbody tr th {\n",
       "        vertical-align: top;\n",
       "    }\n",
       "\n",
       "    .dataframe thead th {\n",
       "        text-align: right;\n",
       "    }\n",
       "</style>\n",
       "<table border=\"1\" class=\"dataframe\">\n",
       "  <thead>\n",
       "    <tr style=\"text-align: right;\">\n",
       "      <th></th>\n",
       "      <th>Gene</th>\n",
       "      <th>Variation</th>\n",
       "      <th>Cleaned_Text</th>\n",
       "    </tr>\n",
       "  </thead>\n",
       "  <tbody>\n",
       "    <tr>\n",
       "      <th>68</th>\n",
       "      <td>rheb</td>\n",
       "      <td>y35n</td>\n",
       "      <td>gene encoding component signaling axis frequen...</td>\n",
       "    </tr>\n",
       "    <tr>\n",
       "      <th>2222</th>\n",
       "      <td>pten</td>\n",
       "      <td>k128n</td>\n",
       "      <td>pten phosphatase tensin homolog phosphatase un...</td>\n",
       "    </tr>\n",
       "  </tbody>\n",
       "</table>\n",
       "</div>"
      ],
      "text/plain": [
       "      Gene Variation                                       Cleaned_Text\n",
       "68    rheb      y35n  gene encoding component signaling axis frequen...\n",
       "2222  pten     k128n  pten phosphatase tensin homolog phosphatase un..."
      ]
     },
     "execution_count": 38,
     "metadata": {},
     "output_type": "execute_result"
    }
   ],
   "source": [
    "x_train.head(2)"
   ]
  },
  {
   "cell_type": "code",
   "execution_count": 39,
   "id": "482460bf",
   "metadata": {},
   "outputs": [],
   "source": [
    "x_train.drop(['Cleaned_Text'],axis=1,inplace=True)"
   ]
  },
  {
   "cell_type": "code",
   "execution_count": 40,
   "id": "5f92af3e",
   "metadata": {},
   "outputs": [],
   "source": [
    "x_test.drop(['Cleaned_Text'],axis=1,inplace=True)"
   ]
  },
  {
   "cell_type": "code",
   "execution_count": 41,
   "id": "72c49eeb",
   "metadata": {},
   "outputs": [
    {
     "data": {
      "text/html": [
       "<div>\n",
       "<style scoped>\n",
       "    .dataframe tbody tr th:only-of-type {\n",
       "        vertical-align: middle;\n",
       "    }\n",
       "\n",
       "    .dataframe tbody tr th {\n",
       "        vertical-align: top;\n",
       "    }\n",
       "\n",
       "    .dataframe thead th {\n",
       "        text-align: right;\n",
       "    }\n",
       "</style>\n",
       "<table border=\"1\" class=\"dataframe\">\n",
       "  <thead>\n",
       "    <tr style=\"text-align: right;\">\n",
       "      <th></th>\n",
       "      <th>Gene</th>\n",
       "      <th>Variation</th>\n",
       "    </tr>\n",
       "  </thead>\n",
       "  <tbody>\n",
       "    <tr>\n",
       "      <th>68</th>\n",
       "      <td>rheb</td>\n",
       "      <td>y35n</td>\n",
       "    </tr>\n",
       "    <tr>\n",
       "      <th>2222</th>\n",
       "      <td>pten</td>\n",
       "      <td>k128n</td>\n",
       "    </tr>\n",
       "    <tr>\n",
       "      <th>355</th>\n",
       "      <td>ep300</td>\n",
       "      <td>c1385</td>\n",
       "    </tr>\n",
       "    <tr>\n",
       "      <th>685</th>\n",
       "      <td>cdkn2a</td>\n",
       "      <td>i49s</td>\n",
       "    </tr>\n",
       "    <tr>\n",
       "      <th>0</th>\n",
       "      <td>fam58a</td>\n",
       "      <td>truncating_mutations</td>\n",
       "    </tr>\n",
       "    <tr>\n",
       "      <th>...</th>\n",
       "      <td>...</td>\n",
       "      <td>...</td>\n",
       "    </tr>\n",
       "    <tr>\n",
       "      <th>3185</th>\n",
       "      <td>rara</td>\n",
       "      <td>r276w</td>\n",
       "    </tr>\n",
       "    <tr>\n",
       "      <th>3245</th>\n",
       "      <td>ddr2</td>\n",
       "      <td>g774v</td>\n",
       "    </tr>\n",
       "    <tr>\n",
       "      <th>2635</th>\n",
       "      <td>brca1</td>\n",
       "      <td>p1856t</td>\n",
       "    </tr>\n",
       "    <tr>\n",
       "      <th>2060</th>\n",
       "      <td>mycn</td>\n",
       "      <td>p44l</td>\n",
       "    </tr>\n",
       "    <tr>\n",
       "      <th>1424</th>\n",
       "      <td>fgfr3</td>\n",
       "      <td>a391e</td>\n",
       "    </tr>\n",
       "  </tbody>\n",
       "</table>\n",
       "<p>2652 rows × 2 columns</p>\n",
       "</div>"
      ],
      "text/plain": [
       "        Gene             Variation\n",
       "68      rheb                  y35n\n",
       "2222    pten                 k128n\n",
       "355    ep300                 c1385\n",
       "685   cdkn2a                  i49s\n",
       "0     fam58a  truncating_mutations\n",
       "...      ...                   ...\n",
       "3185    rara                 r276w\n",
       "3245    ddr2                 g774v\n",
       "2635   brca1                p1856t\n",
       "2060    mycn                  p44l\n",
       "1424   fgfr3                 a391e\n",
       "\n",
       "[2652 rows x 2 columns]"
      ]
     },
     "execution_count": 41,
     "metadata": {},
     "output_type": "execute_result"
    }
   ],
   "source": [
    "x_train"
   ]
  },
  {
   "cell_type": "code",
   "execution_count": 42,
   "id": "371bfcce",
   "metadata": {},
   "outputs": [
    {
     "data": {
      "text/html": [
       "<div>\n",
       "<style scoped>\n",
       "    .dataframe tbody tr th:only-of-type {\n",
       "        vertical-align: middle;\n",
       "    }\n",
       "\n",
       "    .dataframe tbody tr th {\n",
       "        vertical-align: top;\n",
       "    }\n",
       "\n",
       "    .dataframe thead th {\n",
       "        text-align: right;\n",
       "    }\n",
       "</style>\n",
       "<table border=\"1\" class=\"dataframe\">\n",
       "  <thead>\n",
       "    <tr style=\"text-align: right;\">\n",
       "      <th></th>\n",
       "      <th>Gene</th>\n",
       "      <th>Variation</th>\n",
       "    </tr>\n",
       "  </thead>\n",
       "  <tbody>\n",
       "    <tr>\n",
       "      <th>3234</th>\n",
       "      <td>ntrk3</td>\n",
       "      <td>etv6-ntrk3_fusion</td>\n",
       "    </tr>\n",
       "    <tr>\n",
       "      <th>2165</th>\n",
       "      <td>pten</td>\n",
       "      <td>p38l</td>\n",
       "    </tr>\n",
       "    <tr>\n",
       "      <th>504</th>\n",
       "      <td>tp53</td>\n",
       "      <td>r282w</td>\n",
       "    </tr>\n",
       "    <tr>\n",
       "      <th>1809</th>\n",
       "      <td>rhoa</td>\n",
       "      <td>t37a</td>\n",
       "    </tr>\n",
       "    <tr>\n",
       "      <th>3</th>\n",
       "      <td>cbl</td>\n",
       "      <td>n454d</td>\n",
       "    </tr>\n",
       "    <tr>\n",
       "      <th>...</th>\n",
       "      <td>...</td>\n",
       "      <td>...</td>\n",
       "    </tr>\n",
       "    <tr>\n",
       "      <th>2596</th>\n",
       "      <td>brca1</td>\n",
       "      <td>g1788d</td>\n",
       "    </tr>\n",
       "    <tr>\n",
       "      <th>1998</th>\n",
       "      <td>map2k1</td>\n",
       "      <td>q56_v60del</td>\n",
       "    </tr>\n",
       "    <tr>\n",
       "      <th>2615</th>\n",
       "      <td>brca1</td>\n",
       "      <td>t47d</td>\n",
       "    </tr>\n",
       "    <tr>\n",
       "      <th>2486</th>\n",
       "      <td>brca1</td>\n",
       "      <td>s1841r</td>\n",
       "    </tr>\n",
       "    <tr>\n",
       "      <th>904</th>\n",
       "      <td>pdgfra</td>\n",
       "      <td>y849s</td>\n",
       "    </tr>\n",
       "  </tbody>\n",
       "</table>\n",
       "<p>664 rows × 2 columns</p>\n",
       "</div>"
      ],
      "text/plain": [
       "        Gene          Variation\n",
       "3234   ntrk3  etv6-ntrk3_fusion\n",
       "2165    pten               p38l\n",
       "504     tp53              r282w\n",
       "1809    rhoa               t37a\n",
       "3        cbl              n454d\n",
       "...      ...                ...\n",
       "2596   brca1             g1788d\n",
       "1998  map2k1         q56_v60del\n",
       "2615   brca1               t47d\n",
       "2486   brca1             s1841r\n",
       "904   pdgfra              y849s\n",
       "\n",
       "[664 rows x 2 columns]"
      ]
     },
     "execution_count": 42,
     "metadata": {},
     "output_type": "execute_result"
    }
   ],
   "source": [
    "x_test"
   ]
  },
  {
   "cell_type": "code",
   "execution_count": 43,
   "id": "d09101d9",
   "metadata": {},
   "outputs": [],
   "source": [
    "train_df =pd.merge(x_train,df_train,left_index=True,right_index=True)"
   ]
  },
  {
   "cell_type": "code",
   "execution_count": 44,
   "id": "0c26efa6",
   "metadata": {},
   "outputs": [],
   "source": [
    "test_df =pd.merge(x_test,df_test,left_index=True,right_index=True)"
   ]
  },
  {
   "cell_type": "code",
   "execution_count": 45,
   "id": "b4ef69dd",
   "metadata": {},
   "outputs": [
    {
     "data": {
      "text/plain": [
       "(2652, 2)"
      ]
     },
     "execution_count": 45,
     "metadata": {},
     "output_type": "execute_result"
    }
   ],
   "source": [
    "x_train.shape"
   ]
  },
  {
   "cell_type": "code",
   "execution_count": 46,
   "id": "cde39d33",
   "metadata": {},
   "outputs": [
    {
     "data": {
      "text/html": [
       "<div>\n",
       "<style scoped>\n",
       "    .dataframe tbody tr th:only-of-type {\n",
       "        vertical-align: middle;\n",
       "    }\n",
       "\n",
       "    .dataframe tbody tr th {\n",
       "        vertical-align: top;\n",
       "    }\n",
       "\n",
       "    .dataframe thead th {\n",
       "        text-align: right;\n",
       "    }\n",
       "</style>\n",
       "<table border=\"1\" class=\"dataframe\">\n",
       "  <thead>\n",
       "    <tr style=\"text-align: right;\">\n",
       "      <th></th>\n",
       "      <th>Gene</th>\n",
       "      <th>Variation</th>\n",
       "      <th>aa</th>\n",
       "      <th>aacr</th>\n",
       "      <th>ab</th>\n",
       "      <th>abbreviation</th>\n",
       "      <th>abc</th>\n",
       "      <th>abcam</th>\n",
       "      <th>abd</th>\n",
       "      <th>abdominal</th>\n",
       "      <th>...</th>\n",
       "      <th>βgalactosidase</th>\n",
       "      <th>βsheet</th>\n",
       "      <th>γphosphate</th>\n",
       "      <th>γsecretase</th>\n",
       "      <th>δbraf</th>\n",
       "      <th>μg</th>\n",
       "      <th>μgml</th>\n",
       "      <th>μl</th>\n",
       "      <th>μm</th>\n",
       "      <th>μmoll</th>\n",
       "    </tr>\n",
       "  </thead>\n",
       "  <tbody>\n",
       "    <tr>\n",
       "      <th>68</th>\n",
       "      <td>rheb</td>\n",
       "      <td>y35n</td>\n",
       "      <td>0.0</td>\n",
       "      <td>0.0</td>\n",
       "      <td>0.003909</td>\n",
       "      <td>0.00344</td>\n",
       "      <td>0.0</td>\n",
       "      <td>0.0</td>\n",
       "      <td>0.0</td>\n",
       "      <td>0.0</td>\n",
       "      <td>...</td>\n",
       "      <td>0.0</td>\n",
       "      <td>0.0</td>\n",
       "      <td>0.0</td>\n",
       "      <td>0.0</td>\n",
       "      <td>0.0</td>\n",
       "      <td>0.0</td>\n",
       "      <td>0.0</td>\n",
       "      <td>0.002622</td>\n",
       "      <td>0.029802</td>\n",
       "      <td>0.0</td>\n",
       "    </tr>\n",
       "    <tr>\n",
       "      <th>2222</th>\n",
       "      <td>pten</td>\n",
       "      <td>k128n</td>\n",
       "      <td>0.0</td>\n",
       "      <td>0.0</td>\n",
       "      <td>0.000000</td>\n",
       "      <td>0.00000</td>\n",
       "      <td>0.0</td>\n",
       "      <td>0.0</td>\n",
       "      <td>0.0</td>\n",
       "      <td>0.0</td>\n",
       "      <td>...</td>\n",
       "      <td>0.0</td>\n",
       "      <td>0.0</td>\n",
       "      <td>0.0</td>\n",
       "      <td>0.0</td>\n",
       "      <td>0.0</td>\n",
       "      <td>0.0</td>\n",
       "      <td>0.0</td>\n",
       "      <td>0.000000</td>\n",
       "      <td>0.000000</td>\n",
       "      <td>0.0</td>\n",
       "    </tr>\n",
       "  </tbody>\n",
       "</table>\n",
       "<p>2 rows × 5002 columns</p>\n",
       "</div>"
      ],
      "text/plain": [
       "      Gene Variation   aa  aacr        ab  abbreviation  abc  abcam  abd  \\\n",
       "68    rheb      y35n  0.0   0.0  0.003909       0.00344  0.0    0.0  0.0   \n",
       "2222  pten     k128n  0.0   0.0  0.000000       0.00000  0.0    0.0  0.0   \n",
       "\n",
       "      abdominal  ...  βgalactosidase  βsheet  γphosphate  γsecretase  δbraf  \\\n",
       "68          0.0  ...             0.0     0.0         0.0         0.0    0.0   \n",
       "2222        0.0  ...             0.0     0.0         0.0         0.0    0.0   \n",
       "\n",
       "       μg  μgml        μl        μm  μmoll  \n",
       "68    0.0   0.0  0.002622  0.029802    0.0  \n",
       "2222  0.0   0.0  0.000000  0.000000    0.0  \n",
       "\n",
       "[2 rows x 5002 columns]"
      ]
     },
     "execution_count": 46,
     "metadata": {},
     "output_type": "execute_result"
    }
   ],
   "source": [
    "train_df.head(2)"
   ]
  },
  {
   "cell_type": "code",
   "execution_count": 47,
   "id": "92eb723e",
   "metadata": {},
   "outputs": [
    {
     "data": {
      "text/html": [
       "<div>\n",
       "<style scoped>\n",
       "    .dataframe tbody tr th:only-of-type {\n",
       "        vertical-align: middle;\n",
       "    }\n",
       "\n",
       "    .dataframe tbody tr th {\n",
       "        vertical-align: top;\n",
       "    }\n",
       "\n",
       "    .dataframe thead th {\n",
       "        text-align: right;\n",
       "    }\n",
       "</style>\n",
       "<table border=\"1\" class=\"dataframe\">\n",
       "  <thead>\n",
       "    <tr style=\"text-align: right;\">\n",
       "      <th></th>\n",
       "      <th>Gene</th>\n",
       "      <th>Variation</th>\n",
       "      <th>aa</th>\n",
       "      <th>aacr</th>\n",
       "      <th>ab</th>\n",
       "      <th>abbreviation</th>\n",
       "      <th>abc</th>\n",
       "      <th>abcam</th>\n",
       "      <th>abd</th>\n",
       "      <th>abdominal</th>\n",
       "      <th>...</th>\n",
       "      <th>βgalactosidase</th>\n",
       "      <th>βsheet</th>\n",
       "      <th>γphosphate</th>\n",
       "      <th>γsecretase</th>\n",
       "      <th>δbraf</th>\n",
       "      <th>μg</th>\n",
       "      <th>μgml</th>\n",
       "      <th>μl</th>\n",
       "      <th>μm</th>\n",
       "      <th>μmoll</th>\n",
       "    </tr>\n",
       "  </thead>\n",
       "  <tbody>\n",
       "    <tr>\n",
       "      <th>504</th>\n",
       "      <td>tp53</td>\n",
       "      <td>r282w</td>\n",
       "      <td>0.0</td>\n",
       "      <td>0.0</td>\n",
       "      <td>0.0</td>\n",
       "      <td>0.0</td>\n",
       "      <td>0.0</td>\n",
       "      <td>0.000000</td>\n",
       "      <td>0.0</td>\n",
       "      <td>0.0</td>\n",
       "      <td>...</td>\n",
       "      <td>0.000000</td>\n",
       "      <td>0.0</td>\n",
       "      <td>0.0</td>\n",
       "      <td>0.0</td>\n",
       "      <td>0.0</td>\n",
       "      <td>0.000000</td>\n",
       "      <td>0.007551</td>\n",
       "      <td>0.000000</td>\n",
       "      <td>0.0</td>\n",
       "      <td>0.0</td>\n",
       "    </tr>\n",
       "    <tr>\n",
       "      <th>3</th>\n",
       "      <td>cbl</td>\n",
       "      <td>n454d</td>\n",
       "      <td>0.0</td>\n",
       "      <td>0.0</td>\n",
       "      <td>0.0</td>\n",
       "      <td>0.0</td>\n",
       "      <td>0.0</td>\n",
       "      <td>0.004827</td>\n",
       "      <td>0.0</td>\n",
       "      <td>0.0</td>\n",
       "      <td>...</td>\n",
       "      <td>0.004901</td>\n",
       "      <td>0.0</td>\n",
       "      <td>0.0</td>\n",
       "      <td>0.0</td>\n",
       "      <td>0.0</td>\n",
       "      <td>0.014327</td>\n",
       "      <td>0.015860</td>\n",
       "      <td>0.003297</td>\n",
       "      <td>0.0</td>\n",
       "      <td>0.0</td>\n",
       "    </tr>\n",
       "  </tbody>\n",
       "</table>\n",
       "<p>2 rows × 5002 columns</p>\n",
       "</div>"
      ],
      "text/plain": [
       "     Gene Variation   aa  aacr   ab  abbreviation  abc     abcam  abd  \\\n",
       "504  tp53     r282w  0.0   0.0  0.0           0.0  0.0  0.000000  0.0   \n",
       "3     cbl     n454d  0.0   0.0  0.0           0.0  0.0  0.004827  0.0   \n",
       "\n",
       "     abdominal  ...  βgalactosidase  βsheet  γphosphate  γsecretase  δbraf  \\\n",
       "504        0.0  ...        0.000000     0.0         0.0         0.0    0.0   \n",
       "3          0.0  ...        0.004901     0.0         0.0         0.0    0.0   \n",
       "\n",
       "           μg      μgml        μl   μm  μmoll  \n",
       "504  0.000000  0.007551  0.000000  0.0    0.0  \n",
       "3    0.014327  0.015860  0.003297  0.0    0.0  \n",
       "\n",
       "[2 rows x 5002 columns]"
      ]
     },
     "execution_count": 47,
     "metadata": {},
     "output_type": "execute_result"
    }
   ],
   "source": [
    "test_df.head(2)"
   ]
  },
  {
   "cell_type": "code",
   "execution_count": 48,
   "id": "ba9420c8",
   "metadata": {},
   "outputs": [
    {
     "data": {
      "text/plain": [
       "(2652, 2)"
      ]
     },
     "execution_count": 48,
     "metadata": {},
     "output_type": "execute_result"
    }
   ],
   "source": [
    "x_train.shape"
   ]
  },
  {
   "cell_type": "code",
   "execution_count": 49,
   "id": "4c541bad",
   "metadata": {},
   "outputs": [
    {
     "data": {
      "text/plain": [
       "(2116, 5002)"
      ]
     },
     "execution_count": 49,
     "metadata": {},
     "output_type": "execute_result"
    }
   ],
   "source": [
    "train_df.shape"
   ]
  },
  {
   "cell_type": "code",
   "execution_count": 50,
   "id": "6e068c1e",
   "metadata": {},
   "outputs": [
    {
     "data": {
      "text/plain": [
       "(2652, 5000)"
      ]
     },
     "execution_count": 50,
     "metadata": {},
     "output_type": "execute_result"
    }
   ],
   "source": [
    "x_train_tfidf.shape"
   ]
  },
  {
   "cell_type": "code",
   "execution_count": 51,
   "id": "8da2f9b5",
   "metadata": {},
   "outputs": [
    {
     "name": "stdout",
     "output_type": "stream",
     "text": [
      "<class 'pandas.core.frame.DataFrame'>\n",
      "<class 'numpy.ndarray'>\n"
     ]
    }
   ],
   "source": [
    "print(type(x_train))\n",
    "print(type(x_train_tfidf))\n"
   ]
  },
  {
   "cell_type": "code",
   "execution_count": 52,
   "id": "50a9d650",
   "metadata": {},
   "outputs": [],
   "source": [
    "from scipy.sparse import issparse\n",
    "import numpy as np\n",
    "def safe_to_dense(X):\n",
    "    if issparse(X):\n",
    "        return X.toarray()\n",
    "    elif hasattr(X, \"to_numpy\"):  # DataFrame\n",
    "        return X.to_numpy()\n",
    "    else:  # NumPy array বা list\n",
    "        return np.array(X)\n",
    "\n",
    "merge_df_training = np.hstack((\n",
    "    safe_to_dense(x_train),\n",
    "    safe_to_dense(x_train_tfidf)\n",
    "))\n"
   ]
  },
  {
   "cell_type": "code",
   "execution_count": 53,
   "id": "64d90199",
   "metadata": {},
   "outputs": [],
   "source": [
    "merge_df_testing = np.hstack((\n",
    "    safe_to_dense(x_test),\n",
    "    safe_to_dense(x_test_tfidf)\n",
    "))"
   ]
  },
  {
   "cell_type": "markdown",
   "id": "65d3f1b1",
   "metadata": {},
   "source": [
    "# smote\n"
   ]
  },
  {
   "cell_type": "code",
   "execution_count": 54,
   "id": "7e7be3c7",
   "metadata": {},
   "outputs": [
    {
     "data": {
      "text/plain": [
       "(3316, 6)"
      ]
     },
     "execution_count": 54,
     "metadata": {},
     "output_type": "execute_result"
    }
   ],
   "source": [
    "df.shape"
   ]
  },
  {
   "cell_type": "code",
   "execution_count": 55,
   "id": "e180c745",
   "metadata": {},
   "outputs": [
    {
     "data": {
      "text/plain": [
       "(2652,)"
      ]
     },
     "execution_count": 55,
     "metadata": {},
     "output_type": "execute_result"
    }
   ],
   "source": [
    "y_train.shape"
   ]
  },
  {
   "cell_type": "code",
   "execution_count": 56,
   "id": "b5c988ee",
   "metadata": {},
   "outputs": [],
   "source": [
    "x_train_numeric = x_train.select_dtypes(include=[np.number])\n",
    "merge_df_training = np.hstack((\n",
    "    x_train_numeric.to_numpy(),\n",
    "    x_train_tfidf\n",
    "))\n"
   ]
  },
  {
   "cell_type": "code",
   "execution_count": 57,
   "id": "b3831105",
   "metadata": {},
   "outputs": [],
   "source": [
    "x_test_numeric = x_test.select_dtypes(include=[np.number])\n",
    "merge_df_testing = np.hstack((\n",
    "    x_test_numeric.to_numpy(),\n",
    "    x_test_tfidf\n",
    "))"
   ]
  },
  {
   "cell_type": "code",
   "execution_count": 58,
   "id": "2b1b9f19",
   "metadata": {},
   "outputs": [],
   "source": [
    "merge_df_training = merge_df_training.astype(float)\n",
    "merge_df_testing = merge_df_testing.astype(float)"
   ]
  },
  {
   "cell_type": "code",
   "execution_count": 59,
   "id": "ba349ded",
   "metadata": {},
   "outputs": [
    {
     "name": "stdout",
     "output_type": "stream",
     "text": [
      "Collecting imblearn\n",
      "  Downloading imblearn-0.0-py2.py3-none-any.whl.metadata (355 bytes)\n",
      "Collecting imbalanced-learn (from imblearn)\n",
      "  Downloading imbalanced_learn-0.14.0-py3-none-any.whl.metadata (8.8 kB)\n",
      "Requirement already satisfied: numpy<3,>=1.25.2 in ./venv/lib/python3.12/site-packages (from imbalanced-learn->imblearn) (2.3.3)\n",
      "Requirement already satisfied: scipy<2,>=1.11.4 in ./venv/lib/python3.12/site-packages (from imbalanced-learn->imblearn) (1.16.2)\n",
      "Requirement already satisfied: scikit-learn<2,>=1.4.2 in ./venv/lib/python3.12/site-packages (from imbalanced-learn->imblearn) (1.7.2)\n",
      "Requirement already satisfied: joblib<2,>=1.2.0 in ./venv/lib/python3.12/site-packages (from imbalanced-learn->imblearn) (1.5.2)\n",
      "Requirement already satisfied: threadpoolctl<4,>=2.0.0 in ./venv/lib/python3.12/site-packages (from imbalanced-learn->imblearn) (3.6.0)\n",
      "Downloading imblearn-0.0-py2.py3-none-any.whl (1.9 kB)\n",
      "Downloading imbalanced_learn-0.14.0-py3-none-any.whl (239 kB)\n",
      "Installing collected packages: imbalanced-learn, imblearn\n",
      "\u001b[2K   \u001b[90m━━━━━━━━━━━━━━━━━━━━━━━━━━━━━━━━━━━━━━━━\u001b[0m \u001b[32m2/2\u001b[0m [imblearn]\n",
      "\u001b[1A\u001b[2KSuccessfully installed imbalanced-learn-0.14.0 imblearn-0.0\n"
     ]
    }
   ],
   "source": [
    "# imblearn for handling imbalanced data\n",
    "!pip install imblearn\n",
    "from imblearn.over_sampling import SMOTE"
   ]
  },
  {
   "cell_type": "code",
   "execution_count": 60,
   "id": "e4d9922d",
   "metadata": {},
   "outputs": [],
   "source": [
    "#smote \n",
    "\n",
    "from imblearn.over_sampling import SMOTE\n",
    "smote = SMOTE()\n",
    "x_train_res, y_train_res = smote.fit_resample(merge_df_training, y_train)"
   ]
  },
  {
   "cell_type": "code",
   "execution_count": 61,
   "id": "9d44b16b",
   "metadata": {},
   "outputs": [
    {
     "data": {
      "text/plain": [
       "((6849, 5000), (6849,))"
      ]
     },
     "execution_count": 61,
     "metadata": {},
     "output_type": "execute_result"
    }
   ],
   "source": [
    "x_train_res.shape, y_train_res.shape"
   ]
  },
  {
   "cell_type": "code",
   "execution_count": 62,
   "id": "8adb1356",
   "metadata": {},
   "outputs": [],
   "source": [
    "# random forest classifier\n",
    "from sklearn.ensemble import RandomForestClassifier\n",
    "rf = RandomForestClassifier()\n",
    "rf.fit(x_train_res, y_train_res)\n",
    "y_pred = rf.predict(merge_df_testing)"
   ]
  },
  {
   "cell_type": "code",
   "execution_count": 63,
   "id": "aca19312",
   "metadata": {},
   "outputs": [
    {
     "name": "stdout",
     "output_type": "stream",
     "text": [
      "accuracy is :  0.625\n",
      "classification report : \n",
      "               precision    recall  f1-score   support\n",
      "\n",
      "           1       0.56      0.51      0.54       113\n",
      "           2       0.59      0.56      0.57        91\n",
      "           3       0.30      0.39      0.34        18\n",
      "           4       0.69      0.64      0.66       137\n",
      "           5       0.34      0.40      0.37        48\n",
      "           6       0.82      0.60      0.69        55\n",
      "           7       0.70      0.81      0.75       191\n",
      "           8       0.00      0.00      0.00         4\n",
      "           9       1.00      0.71      0.83         7\n",
      "\n",
      "    accuracy                           0.62       664\n",
      "   macro avg       0.56      0.51      0.53       664\n",
      "weighted avg       0.63      0.62      0.62       664\n",
      "\n"
     ]
    },
    {
     "name": "stderr",
     "output_type": "stream",
     "text": [
      "/Users/anukulchandra/Python_with_machine_learning_ESPML_2405/Personalized_Cancer_Prediction-Doctor_Side-/venv/lib/python3.12/site-packages/sklearn/metrics/_classification.py:1731: UndefinedMetricWarning: Precision is ill-defined and being set to 0.0 in labels with no predicted samples. Use `zero_division` parameter to control this behavior.\n",
      "  _warn_prf(average, modifier, f\"{metric.capitalize()} is\", result.shape[0])\n",
      "/Users/anukulchandra/Python_with_machine_learning_ESPML_2405/Personalized_Cancer_Prediction-Doctor_Side-/venv/lib/python3.12/site-packages/sklearn/metrics/_classification.py:1731: UndefinedMetricWarning: Precision is ill-defined and being set to 0.0 in labels with no predicted samples. Use `zero_division` parameter to control this behavior.\n",
      "  _warn_prf(average, modifier, f\"{metric.capitalize()} is\", result.shape[0])\n",
      "/Users/anukulchandra/Python_with_machine_learning_ESPML_2405/Personalized_Cancer_Prediction-Doctor_Side-/venv/lib/python3.12/site-packages/sklearn/metrics/_classification.py:1731: UndefinedMetricWarning: Precision is ill-defined and being set to 0.0 in labels with no predicted samples. Use `zero_division` parameter to control this behavior.\n",
      "  _warn_prf(average, modifier, f\"{metric.capitalize()} is\", result.shape[0])\n"
     ]
    }
   ],
   "source": [
    "# accuracy\n",
    "from sklearn.metrics import accuracy_score, classification_report, confusion_matrix\n",
    "acc = accuracy_score(y_test, y_pred)\n",
    "print(\"accuracy is : \", acc)\n",
    "print(\"classification report : \\n\", classification_report(y_test, y_pred))"
   ]
  },
  {
   "cell_type": "code",
   "execution_count": 64,
   "id": "e88ec4ff",
   "metadata": {},
   "outputs": [
    {
     "name": "stdout",
     "output_type": "stream",
     "text": [
      "accuracy is :  0.5993975903614458\n",
      "classification report : \n",
      "               precision    recall  f1-score   support\n",
      "\n",
      "           1       0.54      0.50      0.52       113\n",
      "           2       0.51      0.53      0.52        91\n",
      "           3       0.30      0.56      0.39        18\n",
      "           4       0.70      0.58      0.64       137\n",
      "           5       0.33      0.48      0.39        48\n",
      "           6       0.69      0.62      0.65        55\n",
      "           7       0.74      0.72      0.73       191\n",
      "           8       0.67      0.50      0.57         4\n",
      "           9       0.67      0.86      0.75         7\n",
      "\n",
      "    accuracy                           0.60       664\n",
      "   macro avg       0.57      0.59      0.57       664\n",
      "weighted avg       0.62      0.60      0.61       664\n",
      "\n"
     ]
    },
    {
     "name": "stderr",
     "output_type": "stream",
     "text": [
      "/Users/anukulchandra/Python_with_machine_learning_ESPML_2405/Personalized_Cancer_Prediction-Doctor_Side-/venv/lib/python3.12/site-packages/sklearn/linear_model/_logistic.py:473: ConvergenceWarning: lbfgs failed to converge after 100 iteration(s) (status=1):\n",
      "STOP: TOTAL NO. OF ITERATIONS REACHED LIMIT\n",
      "\n",
      "Increase the number of iterations to improve the convergence (max_iter=100).\n",
      "You might also want to scale the data as shown in:\n",
      "    https://scikit-learn.org/stable/modules/preprocessing.html\n",
      "Please also refer to the documentation for alternative solver options:\n",
      "    https://scikit-learn.org/stable/modules/linear_model.html#logistic-regression\n",
      "  n_iter_i = _check_optimize_result(\n"
     ]
    }
   ],
   "source": [
    "# logistic regression\n",
    "from sklearn.linear_model import LogisticRegression\n",
    "from sklearn.metrics import accuracy_score, classification_report, confusion_matrix\n",
    "log_reg = LogisticRegression(penalty='l2',C=10,class_weight='balanced',random_state=1,solver='lbfgs',n_jobs=-1)\n",
    "log_reg.fit(x_train_res, y_train_res)\n",
    "y_pred = log_reg.predict(merge_df_testing)  \n",
    "acc = accuracy_score(y_test, y_pred)\n",
    "print(\"accuracy is : \", acc)\n",
    "print(\"classification report : \\n\", classification_report(y_test, y_pred))  \n"
   ]
  },
  {
   "cell_type": "code",
   "execution_count": 65,
   "id": "e83fb506",
   "metadata": {},
   "outputs": [
    {
     "name": "stdout",
     "output_type": "stream",
     "text": [
      "Best K: {'n_neighbors': 30}\n",
      "Best Score: 0.6261436363368851\n"
     ]
    }
   ],
   "source": [
    "from sklearn.model_selection import GridSearchCV\n",
    "from sklearn.neighbors import KNeighborsClassifier\n",
    "\n",
    "parameters = {'n_neighbors': list(range(30, 100, 5))}\n",
    "neigh = KNeighborsClassifier()\n",
    "\n",
    "# GridSearchCV object\n",
    "Gsv = GridSearchCV(neigh, parameters,cv=5, scoring='f1_macro')\n",
    "\n",
    "# IMPORTANT: fit on training data\n",
    "Gsv.fit(x_train_res, y_train_res)\n",
    "\n",
    "# Now you can get the best parameters\n",
    "print(\"Best K:\", Gsv.best_params_)\n",
    "print(\"Best Score:\", Gsv.best_score_)\n"
   ]
  },
  {
   "cell_type": "code",
   "execution_count": 66,
   "id": "df5b4472",
   "metadata": {},
   "outputs": [
    {
     "name": "stdout",
     "output_type": "stream",
     "text": [
      "accuracy is :  0.36596385542168675\n",
      "classification report : \n",
      "               precision    recall  f1-score   support\n",
      "\n",
      "           1       0.44      0.37      0.40       113\n",
      "           2       0.41      0.55      0.47        91\n",
      "           3       0.10      0.50      0.16        18\n",
      "           4       0.66      0.32      0.43       137\n",
      "           5       0.19      0.42      0.26        48\n",
      "           6       0.57      0.55      0.56        55\n",
      "           7       0.72      0.21      0.33       191\n",
      "           8       0.05      0.50      0.08         4\n",
      "           9       0.17      0.71      0.28         7\n",
      "\n",
      "    accuracy                           0.37       664\n",
      "   macro avg       0.37      0.46      0.33       664\n",
      "weighted avg       0.54      0.37      0.39       664\n",
      "\n"
     ]
    }
   ],
   "source": [
    "# knn classifier\n",
    "from sklearn.neighbors import KNeighborsClassifier\n",
    "knn = KNeighborsClassifier(n_neighbors=30)\n",
    "knn.fit(x_train_res, y_train_res)\n",
    "y_pred = knn.predict(merge_df_testing)  \n",
    "acc = accuracy_score(y_test, y_pred)\n",
    "print(\"accuracy is : \", acc)\n",
    "print(\"classification report : \\n\", classification_report(y_test, y_pred))  \n",
    "\n",
    "\n"
   ]
  },
  {
   "cell_type": "markdown",
   "id": "4b56887c",
   "metadata": {},
   "source": [
    "# highly Imbalance data "
   ]
  },
  {
   "cell_type": "markdown",
   "id": "cb9ac3f9",
   "metadata": {},
   "source": [
    "## this dataset is highly imbalance , specilly in class coloumn so w have to apply smote "
   ]
  },
  {
   "cell_type": "code",
   "execution_count": 67,
   "id": "4f6631a5",
   "metadata": {},
   "outputs": [
    {
     "name": "stderr",
     "output_type": "stream",
     "text": [
      "/Users/anukulchandra/Python_with_machine_learning_ESPML_2405/Personalized_Cancer_Prediction-Doctor_Side-/venv/lib/python3.12/site-packages/sklearn/linear_model/_logistic.py:473: ConvergenceWarning: lbfgs failed to converge after 100 iteration(s) (status=1):\n",
      "STOP: TOTAL NO. OF ITERATIONS REACHED LIMIT\n",
      "\n",
      "Increase the number of iterations to improve the convergence (max_iter=100).\n",
      "You might also want to scale the data as shown in:\n",
      "    https://scikit-learn.org/stable/modules/preprocessing.html\n",
      "Please also refer to the documentation for alternative solver options:\n",
      "    https://scikit-learn.org/stable/modules/linear_model.html#logistic-regression\n",
      "  n_iter_i = _check_optimize_result(\n"
     ]
    },
    {
     "data": {
      "image/png": "[encoded data removed]",
      "text/plain": [
       "<Figure size 1200x700 with 1 Axes>"
      ]
     },
     "metadata": {},
     "output_type": "display_data"
    }
   ],
   "source": [
    "\n",
    "from sklearn.neighbors import KNeighborsClassifier\n",
    "from sklearn.naive_bayes import MultinomialNB\n",
    "from sklearn.linear_model import LogisticRegression\n",
    "from sklearn.metrics import accuracy_score, precision_score, recall_score, f1_score\n",
    "import matplotlib.pyplot as plt\n",
    "from sklearn.ensemble import RandomForestClassifier\n",
    "from sklearn.tree import DecisionTreeClassifier\n",
    "import pandas as pd\n",
    "from sklearn.linear_model import LinearRegression\n",
    "from sklearn.svm import SVC\n",
    "\n",
    "# Define models\n",
    "models = {\n",
    "    'KNN': KNeighborsClassifier(n_neighbors=60),\n",
    "    'MultinomialNB': MultinomialNB(alpha=1),\n",
    "    'LogisticRegression': LogisticRegression(penalty='l2',C=10,class_weight='balanced',random_state=1,solver='lbfgs',n_jobs=-1),\n",
    "    'RandomForest': RandomForestClassifier(n_estimators=100, random_state=42),\n",
    "    'DecisionTree': DecisionTreeClassifier(random_state=42),\n",
    "    'SVC': SVC(kernel='linear', C=1, random_state=42)\n",
    "\n",
    "}\n",
    "\n",
    "\n",
    "results = []\n",
    "for name, model in models.items():\n",
    "    model.fit(x_train_res, y_train_res)\n",
    "    y_pred = model.predict(merge_df_testing)\n",
    "    results.append({\n",
    "        'Model': name,\n",
    "        'Accuracy': accuracy_score(y_test, y_pred),\n",
    "        'Precision': precision_score(y_test, y_pred, average='weighted', zero_division=1),\n",
    "        'Recall': recall_score(y_test, y_pred, average='weighted', zero_division=1),\n",
    "        'F1-Score': f1_score(y_test, y_pred, average='weighted', zero_division=1)\n",
    "    })\n",
    "\n",
    "# Convert to DataFrame\n",
    "df_results = pd.DataFrame(results).set_index('Model')\n",
    "\n",
    "# Plotting\n",
    "ax = df_results.plot(kind='bar', figsize=(12,7), legend=False)\n",
    "plt.title(\" Model Evaluation\")\n",
    "plt.ylabel(\"Score\")\n",
    "plt.ylim(0, 1)\n",
    "plt.xticks(rotation=0)\n",
    "\n",
    "# Bar color mapping to metric names\n",
    "colors = {\n",
    "    'Accuracy': 'steelblue',\n",
    "    'Precision': 'darkorange',\n",
    "    'Recall': 'green',\n",
    "    'F1-Score': 'crimson'\n",
    "}\n",
    "\n",
    "# Manually set colors to bars + add metric label inside each bar\n",
    "for bars, metric_name in zip(ax.containers, df_results.columns):\n",
    "    for bar in bars:\n",
    "        height = bar.get_height()\n",
    "        ax.text(bar.get_x() + bar.get_width() / 2, height + 0.01, f'{height:.2f}',\n",
    "                ha='center', va='bottom', fontsize=10, fontweight='bold',rotation =80)\n",
    "        ax.text(bar.get_x() + bar.get_width() / 2, height / 2, metric_name,\n",
    "                ha='center', va='center', color='white', fontsize=9, fontweight='bold',rotation =75)\n",
    "        bar.set_color(colors[metric_name])  # Set custom color\n",
    "\n",
    "plt.tight_layout()\n",
    "plt.show()\n",
    "\n"
   ]
  },
  {
   "cell_type": "code",
   "execution_count": 68,
   "id": "1c242e9e",
   "metadata": {},
   "outputs": [
    {
     "name": "stdout",
     "output_type": "stream",
     "text": [
      "Collecting prettytable\n",
      "  Downloading prettytable-3.16.0-py3-none-any.whl.metadata (33 kB)\n",
      "Requirement already satisfied: wcwidth in ./venv/lib/python3.12/site-packages (from prettytable) (0.2.14)\n",
      "Downloading prettytable-3.16.0-py3-none-any.whl (33 kB)\n",
      "Installing collected packages: prettytable\n",
      "Successfully installed prettytable-3.16.0\n",
      "+--------------------+----------+-----------+--------+----------+\n",
      "|       Model        | Accuracy | Precision | Recall | F1-Score |\n",
      "+--------------------+----------+-----------+--------+----------+\n",
      "|        KNN         |   0.3    |    0.53   |  0.3   |   0.32   |\n",
      "|   MultinomialNB    |   0.51   |    0.54   |  0.51  |   0.51   |\n",
      "| LogisticRegression |   0.6    |    0.62   |  0.6   |   0.61   |\n",
      "|    RandomForest    |   0.62   |    0.63   |  0.62  |   0.62   |\n",
      "|    DecisionTree    |   0.52   |    0.54   |  0.52  |   0.52   |\n",
      "|        SVC         |   0.58   |    0.62   |  0.58  |   0.59   |\n",
      "+--------------------+----------+-----------+--------+----------+\n",
      "The Best model is :  RandomForest\n"
     ]
    }
   ],
   "source": [
    "!pip install prettytable\n",
    "from prettytable import PrettyTable\n",
    "\n",
    "# Create PrettyTable\n",
    "table = PrettyTable()\n",
    "table.field_names = [\"Model\", \"Accuracy\", \"Precision\", \"Recall\", \"F1-Score\"]\n",
    "\n",
    "# Add rows from df_results\n",
    "for model_name, row in df_results.iterrows():\n",
    "    accuracy = round(row['Accuracy'], 2)\n",
    "    precision = round(row['Precision'], 2)\n",
    "    recall = round(row['Recall'], 2)\n",
    "    f1 = round(row['F1-Score'], 2)\n",
    "\n",
    "    table.add_row([model_name, accuracy, precision, recall, f1])\n",
    "\n",
    "print(table)\n",
    "best_model = df_results['F1-Score'].idxmax()\n",
    "print(\"The Best model is : \",best_model)\n"
   ]
  },
  {
   "cell_type": "code",
   "execution_count": 69,
   "id": "b5eeb058",
   "metadata": {},
   "outputs": [],
   "source": [
    "# create pckle file for Rndom forest model\n",
    "import pickle\n",
    "# Save the model to a file\n",
    "with open('rf_model.pkl', 'wb') as file:\n",
    "    pickle.dump(rf, file)"
   ]
  },
  {
   "cell_type": "code",
   "execution_count": 70,
   "id": "68245f9f",
   "metadata": {},
   "outputs": [
    {
     "name": "stdout",
     "output_type": "stream",
     "text": [
      "['abl1' 'acvr1' 'ago2' 'akt1' 'akt2' 'akt3' 'alk' 'apc' 'ar' 'araf'\n",
      " 'arid1a' 'arid1b' 'arid2' 'asxl1' 'asxl2' 'atm' 'atr' 'atrx' 'aurka'\n",
      " 'aurkb' 'axin1' 'axl' 'b2m' 'bap1' 'bard1' 'bcl10' 'bcl2' 'bcl2l11'\n",
      " 'bcor' 'braf' 'brca1' 'brca2' 'brd4' 'brip1' 'btk' 'card11' 'carm1'\n",
      " 'casp8' 'cbl' 'ccnd1' 'ccnd2' 'ccnd3' 'ccne1' 'cdh1' 'cdk12' 'cdk4'\n",
      " 'cdk6' 'cdk8' 'cdkn1a' 'cdkn1b' 'cdkn2a' 'cdkn2b' 'cdkn2c' 'cebpa'\n",
      " 'chek2' 'cic' 'crebbp' 'ctcf' 'ctla4' 'ctnnb1' 'ddr2' 'dicer1' 'dnmt3a'\n",
      " 'dnmt3b' 'dusp4' 'egfr' 'eif1ax' 'elf3' 'ep300' 'epas1' 'epcam' 'erbb2'\n",
      " 'erbb3' 'erbb4' 'ercc2' 'ercc3' 'ercc4' 'erg' 'errfi1' 'esr1' 'etv1'\n",
      " 'etv6' 'ewsr1' 'ezh2' 'fam58a' 'fanca' 'fancc' 'fat1' 'fbxw7' 'fgf19'\n",
      " 'fgf3' 'fgf4' 'fgfr1' 'fgfr2' 'fgfr3' 'fgfr4' 'flt3' 'foxa1' 'foxl2'\n",
      " 'foxo1' 'foxp1' 'fubp1' 'gata3' 'gli1' 'gna11' 'gnaq' 'gnas' 'h3f3a'\n",
      " 'hist1h1c' 'hla-a' 'hla-b' 'hnf1a' 'hras' 'idh1' 'idh2' 'igf1r' 'ikbke'\n",
      " 'ikzf1' 'il7r' 'inpp4b' 'jak1' 'jak2' 'jun' 'kdm5a' 'kdm5c' 'kdm6a' 'kdr'\n",
      " 'keap1' 'kit' 'klf4' 'kmt2a' 'kmt2b' 'kmt2c' 'kmt2d' 'knstrn' 'kras'\n",
      " 'lats1' 'lats2' 'map2k1' 'map2k2' 'map2k4' 'map3k1' 'mapk1' 'mdm2' 'mdm4'\n",
      " 'med12' 'mef2b' 'men1' 'met' 'mga' 'mlh1' 'mpl' 'msh2' 'msh6' 'mtor'\n",
      " 'myc' 'mycn' 'myd88' 'myod1' 'ncor1' 'nf1' 'nf2' 'nfe2l2' 'nfkbia'\n",
      " 'nkx2-1' 'notch1' 'notch2' 'npm1' 'nras' 'nsd1' 'ntrk1' 'ntrk2' 'ntrk3'\n",
      " 'nup93' 'pak1' 'pax8' 'pbrm1' 'pdgfra' 'pdgfrb' 'pik3ca' 'pik3cb'\n",
      " 'pik3cd' 'pik3r1' 'pik3r2' 'pik3r3' 'pim1' 'pms1' 'pms2' 'pole' 'ppm1d'\n",
      " 'ppp2r1a' 'ppp6c' 'prdm1' 'ptch1' 'pten' 'ptpn11' 'ptprd' 'ptprt' 'rab35'\n",
      " 'rac1' 'rad21' 'rad50' 'rad51b' 'rad51c' 'rad51d' 'rad54l' 'raf1' 'rara'\n",
      " 'rasa1' 'rb1' 'rbm10' 'ret' 'rheb' 'rhoa' 'rictor' 'rit1' 'rnf43' 'ros1'\n",
      " 'rras2' 'runx1' 'rxra' 'rybp' 'sdhb' 'sdhc' 'setd2' 'sf3b1' 'shoc2'\n",
      " 'shq1' 'smad2' 'smad3' 'smad4' 'smarca4' 'smarcb1' 'smo' 'sos1' 'sox9'\n",
      " 'spop' 'src' 'srsf2' 'stag2' 'stat3' 'stk11' 'tcf3' 'tcf7l2' 'tert'\n",
      " 'tet1' 'tet2' 'tgfbr1' 'tgfbr2' 'tmprss2' 'tp53' 'tp53bp1' 'tsc1' 'tsc2'\n",
      " 'u2af1' 'vegfa' 'vhl' 'whsc1' 'whsc1l1' 'xpo1' 'xrcc2' 'yap1']\n"
     ]
    }
   ],
   "source": [
    "print(le_gene.classes_)\n"
   ]
  },
  {
   "cell_type": "code",
   "execution_count": 71,
   "id": "15efe3d7",
   "metadata": {},
   "outputs": [
    {
     "name": "stdout",
     "output_type": "stream",
     "text": [
      "['1_2009trunc' '2010_2471trunc' '256_286trunc' ... 'yap1-mamld1_fusion'\n",
      " 'zc3h7b-bcor_fusion' 'znf198-fgfr1_fusion']\n"
     ]
    }
   ],
   "source": [
    "print(le_var.classes_)\n"
   ]
  },
  {
   "cell_type": "code",
   "execution_count": 74,
   "id": "3ad211a0",
   "metadata": {},
   "outputs": [
    {
     "name": "stderr",
     "output_type": "stream",
     "text": [
      "<>:14: SyntaxWarning: invalid escape sequence '\\|'\n",
      "<>:14: SyntaxWarning: invalid escape sequence '\\|'\n",
      "/var/folders/jf/21x3yjzs0ygd_0ttzq2sq0zm0000gn/T/ipykernel_61298/2222957323.py:14: SyntaxWarning: invalid escape sequence '\\|'\n",
      "  sep=\"\\|\\|\",\n"
     ]
    }
   ],
   "source": [
    "# main pipeline \n",
    "\n",
    "import pandas as pd\n",
    "from sklearn.pipeline import Pipeline\n",
    "from sklearn.compose import ColumnTransformer\n",
    "from sklearn.preprocessing import OneHotEncoder\n",
    "from sklearn.feature_extraction.text import TfidfVectorizer\n",
    "from sklearn.ensemble import RandomForestClassifier\n",
    "import pickle\n",
    "\n",
    "# Load and merge training data\n",
    "train_var = pd.read_csv(\"/Users/anukulchandra/Python_with_machine_learning_ESPML_2405/Personalized_Cancer_Prediction-Doctor_Side-/training_variants\")\n",
    "train_text = pd.read_csv(\"/Users/anukulchandra/Python_with_machine_learning_ESPML_2405/Personalized_Cancer_Prediction-Doctor_Side-/training_text\",\n",
    "                          sep=\"\\|\\|\",\n",
    "                            engine=\"python\",\n",
    "                              names=[\"ID\",\"Text\"],\n",
    "                                skiprows=1)\n",
    "df = pd.merge(train_var, train_text, on=\"ID\")\n",
    "\n",
    "# Clean columns\n",
    "df['Text'] = df['Text'].str.lower()\n",
    "df['Gene'] = df['Gene'].str.lower().str.replace(' ', '_')\n",
    "df['Variation'] = df['Variation'].str.lower().str.replace(' ', '_')\n",
    "df.dropna(inplace=True)\n",
    "\n",
    "# Optional: Clean text further (lemmatization, stopwords removal, etc.)\n",
    "\n",
    "# Final feature set\n",
    "df = df[[\"Gene\", \"Variation\", \"Text\", \"Class\"]]\n",
    "\n",
    "# Define preprocessing pipeline\n",
    "preprocessor = ColumnTransformer(transformers=[\n",
    "    (\"gene_enc\", OneHotEncoder(handle_unknown=\"ignore\"), [\"Gene\"]),\n",
    "    (\"var_enc\", OneHotEncoder(handle_unknown=\"ignore\"), [\"Variation\"]),\n",
    "    (\"text_vec\", TfidfVectorizer(max_features=5000), \"Text\")\n",
    "])\n",
    "\n",
    "# Full pipeline\n",
    "pipeline = Pipeline(steps=[\n",
    "    (\"preprocess\", preprocessor),\n",
    "    (\"model\", RandomForestClassifier())\n",
    "])\n",
    "\n",
    "# Train pipeline\n",
    "pipeline.fit(df[[\"Gene\", \"Variation\", \"Text\"]], df[\"Class\"])\n",
    "\n",
    "# Save pipeline\n",
    "with open(\"final_pipeline.pkl\", \"wb\") as f:\n",
    "    pickle.dump(pipeline, f)\n"
   ]
  },
  {
   "cell_type": "code",
   "execution_count": 75,
   "id": "f5513222",
   "metadata": {},
   "outputs": [
    {
     "name": "stderr",
     "output_type": "stream",
     "text": [
      "<>:18: SyntaxWarning: invalid escape sequence '\\|'\n",
      "<>:18: SyntaxWarning: invalid escape sequence '\\|'\n",
      "/var/folders/jf/21x3yjzs0ygd_0ttzq2sq0zm0000gn/T/ipykernel_61298/1066002218.py:18: SyntaxWarning: invalid escape sequence '\\|'\n",
      "  sep=\"\\|\\|\",\n"
     ]
    },
    {
     "name": "stdout",
     "output_type": "stream",
     "text": [
      "Random Forest Accuracy with SMOTE: 0.6280\n"
     ]
    },
    {
     "ename": "KeyboardInterrupt",
     "evalue": "",
     "output_type": "error",
     "traceback": [
      "\u001b[31m---------------------------------------------------------------------------\u001b[39m",
      "\u001b[31mKeyboardInterrupt\u001b[39m                         Traceback (most recent call last)",
      "\u001b[36mCell\u001b[39m\u001b[36m \u001b[39m\u001b[32mIn[75]\u001b[39m\u001b[32m, line 65\u001b[39m\n\u001b[32m     59\u001b[39m \u001b[38;5;28;01mfor\u001b[39;00m name, model \u001b[38;5;129;01min\u001b[39;00m models.items():\n\u001b[32m     60\u001b[39m     pipeline = ImbPipeline([\n\u001b[32m     61\u001b[39m         (\u001b[33m\"\u001b[39m\u001b[33mpreprocess\u001b[39m\u001b[33m\"\u001b[39m, preprocessor),\n\u001b[32m     62\u001b[39m         (\u001b[33m\"\u001b[39m\u001b[33msmote\u001b[39m\u001b[33m\"\u001b[39m, SMOTE(random_state=\u001b[32m42\u001b[39m)),\n\u001b[32m     63\u001b[39m         (\u001b[33m\"\u001b[39m\u001b[33mmodel\u001b[39m\u001b[33m\"\u001b[39m, model)\n\u001b[32m     64\u001b[39m     ])\n\u001b[32m---> \u001b[39m\u001b[32m65\u001b[39m     \u001b[43mpipeline\u001b[49m\u001b[43m.\u001b[49m\u001b[43mfit\u001b[49m\u001b[43m(\u001b[49m\u001b[43mX_train\u001b[49m\u001b[43m,\u001b[49m\u001b[43m \u001b[49m\u001b[43my_train\u001b[49m\u001b[43m)\u001b[49m\n\u001b[32m     66\u001b[39m     y_pred = pipeline.predict(X_test)\n\u001b[32m     67\u001b[39m     acc = accuracy_score(y_test, y_pred)\n",
      "\u001b[36mFile \u001b[39m\u001b[32m~/Python_with_machine_learning_ESPML_2405/Personalized_Cancer_Prediction-Doctor_Side-/venv/lib/python3.12/site-packages/sklearn/base.py:1365\u001b[39m, in \u001b[36m_fit_context.<locals>.decorator.<locals>.wrapper\u001b[39m\u001b[34m(estimator, *args, **kwargs)\u001b[39m\n\u001b[32m   1358\u001b[39m     estimator._validate_params()\n\u001b[32m   1360\u001b[39m \u001b[38;5;28;01mwith\u001b[39;00m config_context(\n\u001b[32m   1361\u001b[39m     skip_parameter_validation=(\n\u001b[32m   1362\u001b[39m         prefer_skip_nested_validation \u001b[38;5;129;01mor\u001b[39;00m global_skip_validation\n\u001b[32m   1363\u001b[39m     )\n\u001b[32m   1364\u001b[39m ):\n\u001b[32m-> \u001b[39m\u001b[32m1365\u001b[39m     \u001b[38;5;28;01mreturn\u001b[39;00m \u001b[43mfit_method\u001b[49m\u001b[43m(\u001b[49m\u001b[43mestimator\u001b[49m\u001b[43m,\u001b[49m\u001b[43m \u001b[49m\u001b[43m*\u001b[49m\u001b[43margs\u001b[49m\u001b[43m,\u001b[49m\u001b[43m \u001b[49m\u001b[43m*\u001b[49m\u001b[43m*\u001b[49m\u001b[43mkwargs\u001b[49m\u001b[43m)\u001b[49m\n",
      "\u001b[36mFile \u001b[39m\u001b[32m~/Python_with_machine_learning_ESPML_2405/Personalized_Cancer_Prediction-Doctor_Side-/venv/lib/python3.12/site-packages/imblearn/pipeline.py:526\u001b[39m, in \u001b[36mPipeline.fit\u001b[39m\u001b[34m(self, X, y, **params)\u001b[39m\n\u001b[32m    520\u001b[39m     \u001b[38;5;28;01mif\u001b[39;00m \u001b[38;5;28mself\u001b[39m._final_estimator != \u001b[33m\"\u001b[39m\u001b[33mpassthrough\u001b[39m\u001b[33m\"\u001b[39m:\n\u001b[32m    521\u001b[39m         last_step_params = \u001b[38;5;28mself\u001b[39m._get_metadata_for_step(\n\u001b[32m    522\u001b[39m             step_idx=\u001b[38;5;28mlen\u001b[39m(\u001b[38;5;28mself\u001b[39m) - \u001b[32m1\u001b[39m,\n\u001b[32m    523\u001b[39m             step_params=routed_params[\u001b[38;5;28mself\u001b[39m.steps[-\u001b[32m1\u001b[39m][\u001b[32m0\u001b[39m]],\n\u001b[32m    524\u001b[39m             all_params=params,\n\u001b[32m    525\u001b[39m         )\n\u001b[32m--> \u001b[39m\u001b[32m526\u001b[39m         \u001b[38;5;28;43mself\u001b[39;49m\u001b[43m.\u001b[49m\u001b[43m_final_estimator\u001b[49m\u001b[43m.\u001b[49m\u001b[43mfit\u001b[49m\u001b[43m(\u001b[49m\u001b[43mXt\u001b[49m\u001b[43m,\u001b[49m\u001b[43m \u001b[49m\u001b[43myt\u001b[49m\u001b[43m,\u001b[49m\u001b[43m \u001b[49m\u001b[43m*\u001b[49m\u001b[43m*\u001b[49m\u001b[43mlast_step_params\u001b[49m\u001b[43m[\u001b[49m\u001b[33;43m\"\u001b[39;49m\u001b[33;43mfit\u001b[39;49m\u001b[33;43m\"\u001b[39;49m\u001b[43m]\u001b[49m\u001b[43m)\u001b[49m\n\u001b[32m    527\u001b[39m \u001b[38;5;28;01mreturn\u001b[39;00m \u001b[38;5;28mself\u001b[39m\n",
      "\u001b[36mFile \u001b[39m\u001b[32m~/Python_with_machine_learning_ESPML_2405/Personalized_Cancer_Prediction-Doctor_Side-/venv/lib/python3.12/site-packages/sklearn/base.py:1365\u001b[39m, in \u001b[36m_fit_context.<locals>.decorator.<locals>.wrapper\u001b[39m\u001b[34m(estimator, *args, **kwargs)\u001b[39m\n\u001b[32m   1358\u001b[39m     estimator._validate_params()\n\u001b[32m   1360\u001b[39m \u001b[38;5;28;01mwith\u001b[39;00m config_context(\n\u001b[32m   1361\u001b[39m     skip_parameter_validation=(\n\u001b[32m   1362\u001b[39m         prefer_skip_nested_validation \u001b[38;5;129;01mor\u001b[39;00m global_skip_validation\n\u001b[32m   1363\u001b[39m     )\n\u001b[32m   1364\u001b[39m ):\n\u001b[32m-> \u001b[39m\u001b[32m1365\u001b[39m     \u001b[38;5;28;01mreturn\u001b[39;00m \u001b[43mfit_method\u001b[49m\u001b[43m(\u001b[49m\u001b[43mestimator\u001b[49m\u001b[43m,\u001b[49m\u001b[43m \u001b[49m\u001b[43m*\u001b[49m\u001b[43margs\u001b[49m\u001b[43m,\u001b[49m\u001b[43m \u001b[49m\u001b[43m*\u001b[49m\u001b[43m*\u001b[49m\u001b[43mkwargs\u001b[49m\u001b[43m)\u001b[49m\n",
      "\u001b[36mFile \u001b[39m\u001b[32m~/Python_with_machine_learning_ESPML_2405/Personalized_Cancer_Prediction-Doctor_Side-/venv/lib/python3.12/site-packages/sklearn/ensemble/_gb.py:787\u001b[39m, in \u001b[36mBaseGradientBoosting.fit\u001b[39m\u001b[34m(self, X, y, sample_weight, monitor)\u001b[39m\n\u001b[32m    784\u001b[39m     \u001b[38;5;28mself\u001b[39m._resize_state()\n\u001b[32m    786\u001b[39m \u001b[38;5;66;03m# fit the boosting stages\u001b[39;00m\n\u001b[32m--> \u001b[39m\u001b[32m787\u001b[39m n_stages = \u001b[38;5;28;43mself\u001b[39;49m\u001b[43m.\u001b[49m\u001b[43m_fit_stages\u001b[49m\u001b[43m(\u001b[49m\n\u001b[32m    788\u001b[39m \u001b[43m    \u001b[49m\u001b[43mX_train\u001b[49m\u001b[43m,\u001b[49m\n\u001b[32m    789\u001b[39m \u001b[43m    \u001b[49m\u001b[43my_train\u001b[49m\u001b[43m,\u001b[49m\n\u001b[32m    790\u001b[39m \u001b[43m    \u001b[49m\u001b[43mraw_predictions\u001b[49m\u001b[43m,\u001b[49m\n\u001b[32m    791\u001b[39m \u001b[43m    \u001b[49m\u001b[43msample_weight_train\u001b[49m\u001b[43m,\u001b[49m\n\u001b[32m    792\u001b[39m \u001b[43m    \u001b[49m\u001b[38;5;28;43mself\u001b[39;49m\u001b[43m.\u001b[49m\u001b[43m_rng\u001b[49m\u001b[43m,\u001b[49m\n\u001b[32m    793\u001b[39m \u001b[43m    \u001b[49m\u001b[43mX_val\u001b[49m\u001b[43m,\u001b[49m\n\u001b[32m    794\u001b[39m \u001b[43m    \u001b[49m\u001b[43my_val\u001b[49m\u001b[43m,\u001b[49m\n\u001b[32m    795\u001b[39m \u001b[43m    \u001b[49m\u001b[43msample_weight_val\u001b[49m\u001b[43m,\u001b[49m\n\u001b[32m    796\u001b[39m \u001b[43m    \u001b[49m\u001b[43mbegin_at_stage\u001b[49m\u001b[43m,\u001b[49m\n\u001b[32m    797\u001b[39m \u001b[43m    \u001b[49m\u001b[43mmonitor\u001b[49m\u001b[43m,\u001b[49m\n\u001b[32m    798\u001b[39m \u001b[43m\u001b[49m\u001b[43m)\u001b[49m\n\u001b[32m    800\u001b[39m \u001b[38;5;66;03m# change shape of arrays after fit (early-stopping or additional ests)\u001b[39;00m\n\u001b[32m    801\u001b[39m \u001b[38;5;28;01mif\u001b[39;00m n_stages != \u001b[38;5;28mself\u001b[39m.estimators_.shape[\u001b[32m0\u001b[39m]:\n",
      "\u001b[36mFile \u001b[39m\u001b[32m~/Python_with_machine_learning_ESPML_2405/Personalized_Cancer_Prediction-Doctor_Side-/venv/lib/python3.12/site-packages/sklearn/ensemble/_gb.py:883\u001b[39m, in \u001b[36mBaseGradientBoosting._fit_stages\u001b[39m\u001b[34m(self, X, y, raw_predictions, sample_weight, random_state, X_val, y_val, sample_weight_val, begin_at_stage, monitor)\u001b[39m\n\u001b[32m    876\u001b[39m         initial_loss = factor * \u001b[38;5;28mself\u001b[39m._loss(\n\u001b[32m    877\u001b[39m             y_true=y_oob_masked,\n\u001b[32m    878\u001b[39m             raw_prediction=raw_predictions[~sample_mask],\n\u001b[32m    879\u001b[39m             sample_weight=sample_weight_oob_masked,\n\u001b[32m    880\u001b[39m         )\n\u001b[32m    882\u001b[39m \u001b[38;5;66;03m# fit next stage of trees\u001b[39;00m\n\u001b[32m--> \u001b[39m\u001b[32m883\u001b[39m raw_predictions = \u001b[38;5;28;43mself\u001b[39;49m\u001b[43m.\u001b[49m\u001b[43m_fit_stage\u001b[49m\u001b[43m(\u001b[49m\n\u001b[32m    884\u001b[39m \u001b[43m    \u001b[49m\u001b[43mi\u001b[49m\u001b[43m,\u001b[49m\n\u001b[32m    885\u001b[39m \u001b[43m    \u001b[49m\u001b[43mX\u001b[49m\u001b[43m,\u001b[49m\n\u001b[32m    886\u001b[39m \u001b[43m    \u001b[49m\u001b[43my\u001b[49m\u001b[43m,\u001b[49m\n\u001b[32m    887\u001b[39m \u001b[43m    \u001b[49m\u001b[43mraw_predictions\u001b[49m\u001b[43m,\u001b[49m\n\u001b[32m    888\u001b[39m \u001b[43m    \u001b[49m\u001b[43msample_weight\u001b[49m\u001b[43m,\u001b[49m\n\u001b[32m    889\u001b[39m \u001b[43m    \u001b[49m\u001b[43msample_mask\u001b[49m\u001b[43m,\u001b[49m\n\u001b[32m    890\u001b[39m \u001b[43m    \u001b[49m\u001b[43mrandom_state\u001b[49m\u001b[43m,\u001b[49m\n\u001b[32m    891\u001b[39m \u001b[43m    \u001b[49m\u001b[43mX_csc\u001b[49m\u001b[43m=\u001b[49m\u001b[43mX_csc\u001b[49m\u001b[43m,\u001b[49m\n\u001b[32m    892\u001b[39m \u001b[43m    \u001b[49m\u001b[43mX_csr\u001b[49m\u001b[43m=\u001b[49m\u001b[43mX_csr\u001b[49m\u001b[43m,\u001b[49m\n\u001b[32m    893\u001b[39m \u001b[43m\u001b[49m\u001b[43m)\u001b[49m\n\u001b[32m    895\u001b[39m \u001b[38;5;66;03m# track loss\u001b[39;00m\n\u001b[32m    896\u001b[39m \u001b[38;5;28;01mif\u001b[39;00m do_oob:\n",
      "\u001b[36mFile \u001b[39m\u001b[32m~/Python_with_machine_learning_ESPML_2405/Personalized_Cancer_Prediction-Doctor_Side-/venv/lib/python3.12/site-packages/sklearn/ensemble/_gb.py:489\u001b[39m, in \u001b[36mBaseGradientBoosting._fit_stage\u001b[39m\u001b[34m(self, i, X, y, raw_predictions, sample_weight, sample_mask, random_state, X_csc, X_csr)\u001b[39m\n\u001b[32m    486\u001b[39m     sample_weight = sample_weight * sample_mask.astype(np.float64)\n\u001b[32m    488\u001b[39m X = X_csc \u001b[38;5;28;01mif\u001b[39;00m X_csc \u001b[38;5;129;01mis\u001b[39;00m \u001b[38;5;129;01mnot\u001b[39;00m \u001b[38;5;28;01mNone\u001b[39;00m \u001b[38;5;28;01melse\u001b[39;00m X\n\u001b[32m--> \u001b[39m\u001b[32m489\u001b[39m \u001b[43mtree\u001b[49m\u001b[43m.\u001b[49m\u001b[43mfit\u001b[49m\u001b[43m(\u001b[49m\n\u001b[32m    490\u001b[39m \u001b[43m    \u001b[49m\u001b[43mX\u001b[49m\u001b[43m,\u001b[49m\u001b[43m \u001b[49m\u001b[43mneg_g_view\u001b[49m\u001b[43m[\u001b[49m\u001b[43m:\u001b[49m\u001b[43m,\u001b[49m\u001b[43m \u001b[49m\u001b[43mk\u001b[49m\u001b[43m]\u001b[49m\u001b[43m,\u001b[49m\u001b[43m \u001b[49m\u001b[43msample_weight\u001b[49m\u001b[43m=\u001b[49m\u001b[43msample_weight\u001b[49m\u001b[43m,\u001b[49m\u001b[43m \u001b[49m\u001b[43mcheck_input\u001b[49m\u001b[43m=\u001b[49m\u001b[38;5;28;43;01mFalse\u001b[39;49;00m\n\u001b[32m    491\u001b[39m \u001b[43m\u001b[49m\u001b[43m)\u001b[49m\n\u001b[32m    493\u001b[39m \u001b[38;5;66;03m# update tree leaves\u001b[39;00m\n\u001b[32m    494\u001b[39m X_for_tree_update = X_csr \u001b[38;5;28;01mif\u001b[39;00m X_csr \u001b[38;5;129;01mis\u001b[39;00m \u001b[38;5;129;01mnot\u001b[39;00m \u001b[38;5;28;01mNone\u001b[39;00m \u001b[38;5;28;01melse\u001b[39;00m X\n",
      "\u001b[36mFile \u001b[39m\u001b[32m~/Python_with_machine_learning_ESPML_2405/Personalized_Cancer_Prediction-Doctor_Side-/venv/lib/python3.12/site-packages/sklearn/base.py:1365\u001b[39m, in \u001b[36m_fit_context.<locals>.decorator.<locals>.wrapper\u001b[39m\u001b[34m(estimator, *args, **kwargs)\u001b[39m\n\u001b[32m   1358\u001b[39m     estimator._validate_params()\n\u001b[32m   1360\u001b[39m \u001b[38;5;28;01mwith\u001b[39;00m config_context(\n\u001b[32m   1361\u001b[39m     skip_parameter_validation=(\n\u001b[32m   1362\u001b[39m         prefer_skip_nested_validation \u001b[38;5;129;01mor\u001b[39;00m global_skip_validation\n\u001b[32m   1363\u001b[39m     )\n\u001b[32m   1364\u001b[39m ):\n\u001b[32m-> \u001b[39m\u001b[32m1365\u001b[39m     \u001b[38;5;28;01mreturn\u001b[39;00m \u001b[43mfit_method\u001b[49m\u001b[43m(\u001b[49m\u001b[43mestimator\u001b[49m\u001b[43m,\u001b[49m\u001b[43m \u001b[49m\u001b[43m*\u001b[49m\u001b[43margs\u001b[49m\u001b[43m,\u001b[49m\u001b[43m \u001b[49m\u001b[43m*\u001b[49m\u001b[43m*\u001b[49m\u001b[43mkwargs\u001b[49m\u001b[43m)\u001b[49m\n",
      "\u001b[36mFile \u001b[39m\u001b[32m~/Python_with_machine_learning_ESPML_2405/Personalized_Cancer_Prediction-Doctor_Side-/venv/lib/python3.12/site-packages/sklearn/tree/_classes.py:1404\u001b[39m, in \u001b[36mDecisionTreeRegressor.fit\u001b[39m\u001b[34m(self, X, y, sample_weight, check_input)\u001b[39m\n\u001b[32m   1374\u001b[39m \u001b[38;5;129m@_fit_context\u001b[39m(prefer_skip_nested_validation=\u001b[38;5;28;01mTrue\u001b[39;00m)\n\u001b[32m   1375\u001b[39m \u001b[38;5;28;01mdef\u001b[39;00m\u001b[38;5;250m \u001b[39m\u001b[34mfit\u001b[39m(\u001b[38;5;28mself\u001b[39m, X, y, sample_weight=\u001b[38;5;28;01mNone\u001b[39;00m, check_input=\u001b[38;5;28;01mTrue\u001b[39;00m):\n\u001b[32m   1376\u001b[39m \u001b[38;5;250m    \u001b[39m\u001b[33;03m\"\"\"Build a decision tree regressor from the training set (X, y).\u001b[39;00m\n\u001b[32m   1377\u001b[39m \n\u001b[32m   1378\u001b[39m \u001b[33;03m    Parameters\u001b[39;00m\n\u001b[32m   (...)\u001b[39m\u001b[32m   1401\u001b[39m \u001b[33;03m        Fitted estimator.\u001b[39;00m\n\u001b[32m   1402\u001b[39m \u001b[33;03m    \"\"\"\u001b[39;00m\n\u001b[32m-> \u001b[39m\u001b[32m1404\u001b[39m     \u001b[38;5;28;43msuper\u001b[39;49m\u001b[43m(\u001b[49m\u001b[43m)\u001b[49m\u001b[43m.\u001b[49m\u001b[43m_fit\u001b[49m\u001b[43m(\u001b[49m\n\u001b[32m   1405\u001b[39m \u001b[43m        \u001b[49m\u001b[43mX\u001b[49m\u001b[43m,\u001b[49m\n\u001b[32m   1406\u001b[39m \u001b[43m        \u001b[49m\u001b[43my\u001b[49m\u001b[43m,\u001b[49m\n\u001b[32m   1407\u001b[39m \u001b[43m        \u001b[49m\u001b[43msample_weight\u001b[49m\u001b[43m=\u001b[49m\u001b[43msample_weight\u001b[49m\u001b[43m,\u001b[49m\n\u001b[32m   1408\u001b[39m \u001b[43m        \u001b[49m\u001b[43mcheck_input\u001b[49m\u001b[43m=\u001b[49m\u001b[43mcheck_input\u001b[49m\u001b[43m,\u001b[49m\n\u001b[32m   1409\u001b[39m \u001b[43m    \u001b[49m\u001b[43m)\u001b[49m\n\u001b[32m   1410\u001b[39m     \u001b[38;5;28;01mreturn\u001b[39;00m \u001b[38;5;28mself\u001b[39m\n",
      "\u001b[36mFile \u001b[39m\u001b[32m~/Python_with_machine_learning_ESPML_2405/Personalized_Cancer_Prediction-Doctor_Side-/venv/lib/python3.12/site-packages/sklearn/tree/_classes.py:472\u001b[39m, in \u001b[36mBaseDecisionTree._fit\u001b[39m\u001b[34m(self, X, y, sample_weight, check_input, missing_values_in_feature_mask)\u001b[39m\n\u001b[32m    461\u001b[39m \u001b[38;5;28;01melse\u001b[39;00m:\n\u001b[32m    462\u001b[39m     builder = BestFirstTreeBuilder(\n\u001b[32m    463\u001b[39m         splitter,\n\u001b[32m    464\u001b[39m         min_samples_split,\n\u001b[32m   (...)\u001b[39m\u001b[32m    469\u001b[39m         \u001b[38;5;28mself\u001b[39m.min_impurity_decrease,\n\u001b[32m    470\u001b[39m     )\n\u001b[32m--> \u001b[39m\u001b[32m472\u001b[39m \u001b[43mbuilder\u001b[49m\u001b[43m.\u001b[49m\u001b[43mbuild\u001b[49m\u001b[43m(\u001b[49m\u001b[38;5;28;43mself\u001b[39;49m\u001b[43m.\u001b[49m\u001b[43mtree_\u001b[49m\u001b[43m,\u001b[49m\u001b[43m \u001b[49m\u001b[43mX\u001b[49m\u001b[43m,\u001b[49m\u001b[43m \u001b[49m\u001b[43my\u001b[49m\u001b[43m,\u001b[49m\u001b[43m \u001b[49m\u001b[43msample_weight\u001b[49m\u001b[43m,\u001b[49m\u001b[43m \u001b[49m\u001b[43mmissing_values_in_feature_mask\u001b[49m\u001b[43m)\u001b[49m\n\u001b[32m    474\u001b[39m \u001b[38;5;28;01mif\u001b[39;00m \u001b[38;5;28mself\u001b[39m.n_outputs_ == \u001b[32m1\u001b[39m \u001b[38;5;129;01mand\u001b[39;00m is_classifier(\u001b[38;5;28mself\u001b[39m):\n\u001b[32m    475\u001b[39m     \u001b[38;5;28mself\u001b[39m.n_classes_ = \u001b[38;5;28mself\u001b[39m.n_classes_[\u001b[32m0\u001b[39m]\n",
      "\u001b[31mKeyboardInterrupt\u001b[39m: "
     ]
    }
   ],
   "source": [
    "import pandas as pd\n",
    "import re\n",
    "from sklearn.compose import ColumnTransformer\n",
    "from sklearn.preprocessing import OneHotEncoder\n",
    "from sklearn.feature_extraction.text import TfidfVectorizer\n",
    "from sklearn.ensemble import RandomForestClassifier, GradientBoostingClassifier\n",
    "from sklearn.linear_model import LogisticRegression\n",
    "from sklearn.naive_bayes import MultinomialNB\n",
    "from sklearn.svm import SVC\n",
    "from sklearn.metrics import accuracy_score\n",
    "from sklearn.model_selection import train_test_split\n",
    "from imblearn.pipeline import Pipeline as ImbPipeline\n",
    "from imblearn.over_sampling import SMOTE\n",
    "\n",
    "# Load and merge training data\n",
    "train_var = pd.read_csv(\"/Users/anukulchandra/Python_with_machine_learning_ESPML_2405/Personalized_Cancer_Prediction-Doctor_Side-/training_variants\")\n",
    "train_text = pd.read_csv(\"/Users/anukulchandra/Python_with_machine_learning_ESPML_2405/Personalized_Cancer_Prediction-Doctor_Side-/training_text\",\n",
    "                          sep=\"\\|\\|\",\n",
    "                            engine=\"python\",\n",
    "                              names=[\"ID\",\"Text\"],\n",
    "                                skiprows=1)\n",
    "df = pd.merge(train_var, train_text, on=\"ID\")\n",
    "\n",
    "# Clean categorical features\n",
    "df['Gene'] = df['Gene'].str.lower().str.replace(' ', '_')\n",
    "df['Variation'] = df['Variation'].str.lower().str.replace(' ', '_')\n",
    "\n",
    "# Clean text\n",
    "def clean_text(text):\n",
    "    text = str(text).lower()\n",
    "    text = re.sub(r'\\W+', ' ', text)\n",
    "    return text\n",
    "\n",
    "df.dropna(subset=[\"Text\"], inplace=True)\n",
    "df['Text'] = df['Text'].apply(clean_text)\n",
    "\n",
    "# Split features and target\n",
    "X = df[[\"Gene\", \"Variation\", \"Text\"]]\n",
    "y = df[\"Class\"]\n",
    "X_train, X_test, y_train, y_test = train_test_split(X, y, test_size=0.2, random_state=42)\n",
    "\n",
    "# Preprocessor\n",
    "preprocessor = ColumnTransformer([\n",
    "    (\"gene_enc\", OneHotEncoder(handle_unknown=\"ignore\"), [\"Gene\"]),\n",
    "    (\"var_enc\", OneHotEncoder(handle_unknown=\"ignore\"), [\"Variation\"]),\n",
    "    (\"text_vec\", TfidfVectorizer(max_features=5000, stop_words='english'), \"Text\")\n",
    "])\n",
    "\n",
    "# Models to test\n",
    "models = {\n",
    "    \"Random Forest\": RandomForestClassifier(n_jobs=-1, class_weight='balanced'),\n",
    "    \"Gradient Boosting\": GradientBoostingClassifier(),\n",
    "    \"Logistic Regression\": LogisticRegression(max_iter=500, solver='saga', class_weight='balanced'),\n",
    "    \"Multinomial NB\": MultinomialNB(),\n",
    "    \"SVM (Linear)\": SVC(kernel='linear', class_weight='balanced')\n",
    "}\n",
    "\n",
    "# Evaluate each model with SMOTE\n",
    "for name, model in models.items():\n",
    "    pipeline = ImbPipeline([\n",
    "        (\"preprocess\", preprocessor),\n",
    "        (\"smote\", SMOTE(random_state=42)),\n",
    "        (\"model\", model)\n",
    "    ])\n",
    "    pipeline.fit(X_train, y_train)\n",
    "    y_pred = pipeline.predict(X_test)\n",
    "    acc = accuracy_score(y_test, y_pred)\n",
    "    print(f\"{name} Accuracy with SMOTE: {acc:.4f}\")\n"
   ]
  },
  {
   "cell_type": "code",
   "execution_count": 77,
   "id": "9a9fa983",
   "metadata": {},
   "outputs": [
    {
     "name": "stdout",
     "output_type": "stream",
     "text": [
      "Collecting xgboost\n",
      "  Downloading xgboost-3.0.5-py3-none-macosx_12_0_arm64.whl.metadata (2.1 kB)\n",
      "Requirement already satisfied: numpy in ./venv/lib/python3.12/site-packages (from xgboost) (2.3.3)\n",
      "Requirement already satisfied: scipy in ./venv/lib/python3.12/site-packages (from xgboost) (1.16.2)\n",
      "Downloading xgboost-3.0.5-py3-none-macosx_12_0_arm64.whl (2.0 MB)\n",
      "\u001b[2K   \u001b[90m━━━━━━━━━━━━━━━━━━━━━━━━━━━━━━━━━━━━━━━━\u001b[0m \u001b[32m2.0/2.0 MB\u001b[0m \u001b[31m1.3 MB/s\u001b[0m  \u001b[33m0:00:01\u001b[0m eta \u001b[36m0:00:01\u001b[0m\n",
      "\u001b[?25hInstalling collected packages: xgboost\n",
      "Successfully installed xgboost-3.0.5\n"
     ]
    }
   ],
   "source": [
    "!pip install xgboost\n"
   ]
  },
  {
   "cell_type": "code",
   "execution_count": 78,
   "id": "050f6ab0",
   "metadata": {},
   "outputs": [
    {
     "name": "stderr",
     "output_type": "stream",
     "text": [
      "<>:18: SyntaxWarning: invalid escape sequence '\\|'\n",
      "<>:18: SyntaxWarning: invalid escape sequence '\\|'\n",
      "/var/folders/jf/21x3yjzs0ygd_0ttzq2sq0zm0000gn/T/ipykernel_61298/543830588.py:18: SyntaxWarning: invalid escape sequence '\\|'\n",
      "  sep=\"\\|\\|\",\n"
     ]
    },
    {
     "name": "stdout",
     "output_type": "stream",
     "text": [
      "Random Forest Accuracy: 0.6205\n"
     ]
    },
    {
     "name": "stderr",
     "output_type": "stream",
     "text": [
      "/Users/anukulchandra/Python_with_machine_learning_ESPML_2405/Personalized_Cancer_Prediction-Doctor_Side-/venv/lib/python3.12/site-packages/sklearn/linear_model/_sag.py:348: ConvergenceWarning: The max_iter was reached which means the coef_ did not converge\n",
      "  warnings.warn(\n"
     ]
    },
    {
     "name": "stdout",
     "output_type": "stream",
     "text": [
      "Logistic Regression Accuracy: 0.6250\n",
      "SVM Accuracy: 0.6476\n",
      "Decision Tree Accuracy: 0.5768\n",
      "✅ All models trained and saved successfully!\n"
     ]
    }
   ],
   "source": [
    "import pandas as pd\n",
    "import pickle\n",
    "from sklearn.pipeline import Pipeline\n",
    "from sklearn.compose import ColumnTransformer\n",
    "from sklearn.preprocessing import OneHotEncoder\n",
    "from sklearn.feature_extraction.text import TfidfVectorizer\n",
    "from sklearn.ensemble import RandomForestClassifier\n",
    "from sklearn.tree import DecisionTreeClassifier\n",
    "from sklearn.linear_model import LogisticRegression\n",
    "from sklearn.svm import SVC\n",
    "from xgboost import XGBClassifier\n",
    "from sklearn.model_selection import train_test_split\n",
    "from sklearn.metrics import accuracy_score\n",
    "\n",
    "# Load and merge training data\n",
    "train_var = pd.read_csv(\"/Users/anukulchandra/Python_with_machine_learning_ESPML_2405/Personalized_Cancer_Prediction-Doctor_Side-/training_variants\")\n",
    "train_text = pd.read_csv(\"/Users/anukulchandra/Python_with_machine_learning_ESPML_2405/Personalized_Cancer_Prediction-Doctor_Side-/training_text\",\n",
    "                          sep=\"\\|\\|\",\n",
    "                            engine=\"python\",\n",
    "                              names=[\"ID\",\"Text\"],\n",
    "                                skiprows=1)\n",
    "df = pd.merge(train_var, train_text, on=\"ID\")\n",
    "\n",
    "# Clean columns\n",
    "df['Text'] = df['Text'].str.lower()\n",
    "df['Gene'] = df['Gene'].str.lower().str.replace(' ', '_')\n",
    "df['Variation'] = df['Variation'].str.lower().str.replace(' ', '_')\n",
    "df.dropna(inplace=True)\n",
    "\n",
    "# Final feature set\n",
    "df = df[[\"Gene\", \"Variation\", \"Text\", \"Class\"]]\n",
    "x = df[[\"Gene\", \"Variation\", \"Text\"]]\n",
    "y = df[\"Class\"]\n",
    "\n",
    "x_train, x_test, y_train, y_test = train_test_split(x, y, test_size=0.2, random_state=42)\n",
    "\n",
    "# Preprocessing pipeline\n",
    "preprocessor = ColumnTransformer(transformers=[\n",
    "    (\"gene_enc\", OneHotEncoder(handle_unknown=\"ignore\"), [\"Gene\"]),\n",
    "    (\"var_enc\", OneHotEncoder(handle_unknown=\"ignore\"), [\"Variation\"]),\n",
    "    (\"text_vec\", TfidfVectorizer(max_features=5000), \"Text\")\n",
    "])\n",
    "\n",
    "# Define models to evaluate\n",
    "models = {\n",
    "    \"Random Forest\": RandomForestClassifier(),\n",
    "    \"Logistic Regression\": LogisticRegression(max_iter=300, solver='saga', class_weight='balanced'),\n",
    "    \"SVM\": SVC(kernel='linear', probability=True),\n",
    "    \"Decision Tree\": DecisionTreeClassifier(),\n",
    "    \n",
    "}\n",
    "\n",
    "# Store trained models + accuracies\n",
    "trained_models = {}\n",
    "model_performance = {}\n",
    "\n",
    "for name, model in models.items():\n",
    "    pipeline = Pipeline([\n",
    "        (\"preprocess\", preprocessor),\n",
    "        (\"model\", model)\n",
    "    ])\n",
    "    pipeline.fit(x_train, y_train)\n",
    "    y_pred = pipeline.predict(x_test)\n",
    "    acc = accuracy_score(y_test, y_pred)\n",
    "    print(f\"{name} Accuracy: {acc:.4f}\")\n",
    "\n",
    "    trained_models[name] = pipeline\n",
    "    model_performance[name] = round(acc * 100, 2)\n",
    "\n",
    "# Save everything in one pickle\n",
    "with open(\"final_pipeline1.pkl\", \"wb\") as f:\n",
    "    pickle.dump({\"models\": trained_models, \"performance\": model_performance}, f)\n",
    "\n",
    "print(\"✅ All models trained and saved successfully!\")\n"
   ]
  }
 ],
 "metadata": {
  "kernelspec": {
   "display_name": "venv (3.12.1)",
   "language": "python",
   "name": "python3"
  },
  "language_info": {
   "codemirror_mode": {
    "name": "ipython",
    "version": 3
   },
   "file_extension": ".py",
   "mimetype": "text/x-python",
   "name": "python",
   "nbconvert_exporter": "python",
   "pygments_lexer": "ipython3",
   "version": "3.12.1"
  }
 },
 "nbformat": 4,
 "nbformat_minor": 5
}
